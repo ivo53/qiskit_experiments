{
 "cells": [
  {
   "cell_type": "code",
   "execution_count": 2,
   "id": "82ea8532-5183-4732-9220-8ac8de8c55ff",
   "metadata": {},
   "outputs": [],
   "source": [
    "import os\n",
    "import sys\n",
    "import argparse\n",
    "import pickle\n",
    "import random\n",
    "from copy import deepcopy\n",
    "from datetime import datetime\n",
    "\n",
    "import numpy as np\n",
    "import matplotlib.pyplot as plt\n",
    "import pandas as pd\n",
    "from scipy.optimize import curve_fit\n",
    "\n",
    "from qiskit import (\n",
    "    QuantumCircuit, \n",
    "    QuantumRegister, \n",
    "    ClassicalRegister, \n",
    "    pulse) \n",
    "\n",
    "from qiskit.circuit import Parameter, Gate\n",
    "from qiskit.circuit.library import XGate\n",
    "from qiskit.pulse import Delay,Play\n",
    "from qiskit.pulse import library as pulse_lib\n",
    "\n",
    "from qiskit_ibm_runtime import QiskitRuntimeService, SamplerV2 as Sampler\n",
    "from qiskit.transpiler.preset_passmanagers import generate_preset_pass_manager\n",
    "\n",
    "\n",
    "from utils.run_jobs import run_jobs\n",
    "import common.pulse_types as pt"
   ]
  },
  {
   "cell_type": "code",
   "execution_count": 3,
   "id": "b4fa4535-506b-4be5-8797-72ee102a55cb",
   "metadata": {},
   "outputs": [],
   "source": [
    "def initialize_backend(backend):\n",
    "    backend_full_name = \"ibm_\" + backend \n",
    "        # if backend in [\"perth\", \"lagos\", \"nairobi\", \"oslo\"] \\\n",
    "        #     else \"ibmq_\" + backend\n",
    "    GHz = 1.0e9 # Gigahertz\n",
    "    MHz = 1.0e6 # Megahertz\n",
    "    us = 1.0e-6 # Microseconds\n",
    "    ns = 1.0e-9 # Nanoseconds\n",
    "    qubit = 0\n",
    "    mem_slot = 0\n",
    "\n",
    "    drive_chan = pulse.DriveChannel(qubit)\n",
    "    # meas_chan = pulse.MeasureChannel(qubit)\n",
    "    # acq_chan = pulse.AcquireChannel(qubit)\n",
    "    \n",
    "    backend_name = backend\n",
    "    # provider = IBMQ.load_account()\n",
    "    backend = QiskitRuntimeService(channel=\"ibm_quantum\").backend(backend_full_name)\n",
    "    print(f\"Using {backend_name} backend.\")\n",
    "    pm = generate_preset_pass_manager(optimization_level=0, backend=backend)\n",
    "    backend_defaults = backend.defaults()\n",
    "    backend_config = backend.configuration()\n",
    "\n",
    "    center_frequency_Hz = backend_defaults.qubit_freq_est[qubit]# 4962284031.287086 Hz\n",
    "    num_qubits = backend_config.n_qubits\n",
    "\n",
    "    q_freq = [backend_defaults.qubit_freq_est[q] for q in range(num_qubits)]\n",
    "    dt = backend_config.dt\n",
    "    print(dt)\n",
    "    return backend, pm, drive_chan, num_qubits, q_freq"
   ]
  },
  {
   "cell_type": "code",
   "execution_count": 12,
   "id": "45ac4273-605b-4796-9427-9823488fcdb2",
   "metadata": {},
   "outputs": [
    {
     "name": "stderr",
     "output_type": "stream",
     "text": [
      "C:\\Users\\Ivo\\AppData\\Local\\Temp\\ipykernel_37224\\662539136.py:12: DeprecationWarning: The class ``qiskit.pulse.channels.Channel`` is deprecated as of Qiskit 1.3. It will be removed in Qiskit 2.0. The entire Qiskit Pulse package is being deprecated and will be moved to the Qiskit Dynamics repository: https://github.com/qiskit-community/qiskit-dynamics\n",
      "  drive_chan = pulse.DriveChannel(qubit)\n"
     ]
    },
    {
     "name": "stdout",
     "output_type": "stream",
     "text": [
      "Using kyiv backend.\n",
      "2.2222222222222221e-10\n"
     ]
    }
   ],
   "source": [
    "be = \"kyiv\"\n",
    "qubit = 94\n",
    "backend, pm, drive_chan, num_qubits, q_freq = initialize_backend(be)"
   ]
  },
  {
   "cell_type": "code",
   "execution_count": 13,
   "id": "5dabf29a-0927-4429-9038-daeacecfce77",
   "metadata": {},
   "outputs": [
    {
     "name": "stdout",
     "output_type": "stream",
     "text": [
      "Schedule((0, Play(Drag(duration=224, sigma=56, beta=0.17664703914304286, amp=0.13852786656677527, angle=0.0, name='Xp_d94'), DriveChannel(94), name='Xp_d94')), name=\"x\")\n"
     ]
    }
   ],
   "source": [
    "# Retrieve backend defaults\n",
    "defaults = backend.defaults()\n",
    "\n",
    "# Retrieve the schedule for the X gate\n",
    "x_schedule = defaults.instruction_schedule_map.get('x', qubits=[qubit])\n",
    "\n",
    "# Inspect the schedule\n",
    "print(x_schedule)\n"
   ]
  },
  {
   "cell_type": "code",
   "execution_count": null,
   "id": "42fbc30f-bbbb-42c5-a3c1-c757a64f25fd",
   "metadata": {},
   "outputs": [],
   "source": []
  }
 ],
 "metadata": {
  "kernelspec": {
   "display_name": "Python 3 (ipykernel)",
   "language": "python",
   "name": "python3"
  },
  "language_info": {
   "codemirror_mode": {
    "name": "ipython",
    "version": 3
   },
   "file_extension": ".py",
   "mimetype": "text/x-python",
   "name": "python",
   "nbconvert_exporter": "python",
   "pygments_lexer": "ipython3",
   "version": "3.12.8"
  }
 },
 "nbformat": 4,
 "nbformat_minor": 5
}
