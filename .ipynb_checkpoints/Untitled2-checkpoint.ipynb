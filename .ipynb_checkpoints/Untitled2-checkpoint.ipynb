{
 "cells": [
  {
   "cell_type": "code",
   "execution_count": 19,
   "id": "f368197d-477f-4c9b-af3d-ab79b94c7a71",
   "metadata": {
    "scrolled": false
   },
   "outputs": [],
   "source": [
    "import numpy as np\n",
    "import matplotlib.pyplot as plt\n",
    "import matplotlib\n",
    "import qutip\n",
    "import scqubits\n",
    "from scipy.optimize import minimize"
   ]
  },
  {
   "cell_type": "code",
   "execution_count": 2,
   "id": "ba0c243e-bada-4563-9d64-c50861e447eb",
   "metadata": {},
   "outputs": [],
   "source": [
    "# Parameters\n",
    "anharmonicity = -0.3  # GHz\n",
    "omega_d = 5.0         # Driving frequency in GHz\n",
    "N = 8                # Number of levels in the transmon\n",
    "gamma = 0.05          # Dissipation rate\n",
    "T = 10.0              # Pulse duration\n",
    "\n",
    "# Operators\n",
    "a = qutip.destroy(N)\n",
    "# H0 = omega_d * (a.dag() * a + 0.5 * qeye(N)) + anharmonicity * a.dag()**2 * a**2"
   ]
  },
  {
   "cell_type": "code",
   "execution_count": 7,
   "id": "abe896e4-e2f9-413a-9976-ab41046b63c2",
   "metadata": {},
   "outputs": [],
   "source": [
    "def drag_pulse(t, args):\n",
    "    \"\"\"\n",
    "    DRAG pulse shape: Gaussian pulse with derivative\n",
    "    \"\"\"\n",
    "    sigma = args['sigma']\n",
    "    A = args['A']\n",
    "    t0 = args['t0']\n",
    "    delta = args['delta']\n",
    "    return A * np.exp(-((t - t0) ** 2) / (2 * sigma ** 2)) * (1 + 1j * delta * (t - t0) / (sigma ** 2))\n",
    "\n",
    "def sinusoidal_pulse(t, args):\n",
    "    \"\"\"\n",
    "    Sinusoidal pulse shape: First half-period of a sine wave\n",
    "    \"\"\"\n",
    "    A = args['A']\n",
    "    T = args['T']\n",
    "    d = args['d']\n",
    "    return A * np.sin(np.pi * t / T) * np.heaviside(t, 0) * np.heaviside(T-t, 0)\n",
    "\n",
    "def hamiltonian_drive(pulse_func, args):\n",
    "    \"\"\"\n",
    "    Construct the time-dependent Hamiltonian for the given pulse shape\n",
    "    \"\"\"\n",
    "    H0 = 0.5 * anharmonicity * qutip.Qobj([[0,0,0,0,0,0,0,0],\n",
    "                                           [0,0,0,0,0,0,0,0],\n",
    "                                           [0,0,1,0,0,0,0,0],\n",
    "                                           [0,0,0,2,0,0,0,0],\n",
    "                                           [0,0,0,0,3,0,0,0],\n",
    "                                           [0,0,0,0,0,4,0,0],\n",
    "                                           [0,0,0,0,0,0,5,0],\n",
    "                                           [0,0,0,0,0,0,0,6]]) \\\n",
    "        + 0.5 * args['d'] * qutip.Qobj([[-1,0,0,0,0,0,0,0],\n",
    "                                        [0,1,0,0,0,0,0,0],\n",
    "                                        [0,0,0,0,0,0,0,0],\n",
    "                                        [0,0,0,0,0,0,0,0],\n",
    "                                        [0,0,0,0,0,0,0,0],\n",
    "                                        [0,0,0,0,0,0,0,0],\n",
    "                                        [0,0,0,0,0,0,0,0],\n",
    "                                        [0,0,0,0,0,0,0,0]])\n",
    "\n",
    "    H1 = 0.5 * qutip.Qobj([[0,1,0,0,0,0,0,0],\n",
    "                           [1,0,np.sqrt(2),0,0,0,0,0],\n",
    "                           [0,np.sqrt(2),0,np.sqrt(3),0,0,0,0],\n",
    "                           [0,0,np.sqrt(3),1/4,np.sqrt(4),0,0,0],\n",
    "                           [0,0,0,np.sqrt(4),3/4,np.sqrt(5),0,0],\n",
    "                           [0,0,0,0,np.sqrt(5),3/2,np.sqrt(6),0],\n",
    "                           [0,0,0,0,0,np.sqrt(6),5/2,np.sqrt(7)],\n",
    "                           [0,0,0,0,0,0,np.sqrt(7),15/4]])\n",
    "\n",
    "    H = [H0, [H1, pulse_func]]\n",
    "    return H\n",
    "\n",
    "def run_simulation(\n",
    "    pulse_func, tlist,\n",
    "    d_min, d_max, d_num,\n",
    "    A_min, A_max, A_num\n",
    "):\n",
    "    \"\"\"\n",
    "    Run the time evolution simulation for the given pulse function and parameters\n",
    "    \"\"\"\n",
    "    \n",
    "    options = qutip.Options()\n",
    "    options['nsteps'] = 5000\n",
    "    psi0 = qutip.basis(N, 0) * qutip.basis(N, 0).dag()  # initial state: ground state\n",
    "    # result = mesolve(H, psi0, tlist, [], [basis(N, i) * basis(N, i).dag() for i in range(N)], args=pulse_args)\n",
    "    d_range = np.linspace(d_min, d_max, d_num)\n",
    "    A_range = np.linspace(A_min, A_max, A_num)\n",
    "    tr_probs = []\n",
    "    for n_d, d in enumerate(d_range):\n",
    "        values = []\n",
    "        for n_A, A in enumerate(A_range):\n",
    "            pulse_args = {'sigma': 1.0, 'A': A, 't0': T / 2, 'delta': 0.3, 'd': d, 'T': T, 'N': N}\n",
    "            H = hamiltonian_drive(pulse_func, pulse_args)\n",
    "            output = qutip.mesolve(\n",
    "                H, psi0,\n",
    "                args=pulse_args,\n",
    "                tlist=tlist,\n",
    "                options=options\n",
    "            )\n",
    "            values.append(output.states[-1])\n",
    "        tr_probs.append(values)\n",
    "\n",
    "    return tr_probs"
   ]
  },
  {
   "cell_type": "code",
   "execution_count": 8,
   "id": "5c5b2020-006b-4baa-962c-83e39e0f6b20",
   "metadata": {},
   "outputs": [
    {
     "ename": "KeyboardInterrupt",
     "evalue": "",
     "output_type": "error",
     "traceback": [
      "\u001b[1;31m---------------------------------------------------------------------------\u001b[0m",
      "\u001b[1;31mKeyboardInterrupt\u001b[0m                         Traceback (most recent call last)",
      "Cell \u001b[1;32mIn[8], line 7\u001b[0m\n\u001b[0;32m      4\u001b[0m A_min, A_max, A_num \u001b[38;5;241m=\u001b[39m (\u001b[38;5;241m0\u001b[39m, \u001b[38;5;241m1\u001b[39m, \u001b[38;5;241m50\u001b[39m)\n\u001b[0;32m      6\u001b[0m \u001b[38;5;66;03m# Run simulations\u001b[39;00m\n\u001b[1;32m----> 7\u001b[0m result_drag \u001b[38;5;241m=\u001b[39m run_simulation(drag_pulse, tlist, d_min, d_max, d_num, A_min, A_max, A_num)\n\u001b[0;32m      8\u001b[0m result_sinusoidal \u001b[38;5;241m=\u001b[39m run_simulation(sinusoidal_pulse, tlist, d_min, d_max, d_num, A_min, A_max, A_num)\n",
      "Cell \u001b[1;32mIn[7], line 73\u001b[0m, in \u001b[0;36mrun_simulation\u001b[1;34m(pulse_func, tlist, d_min, d_max, d_num, A_min, A_max, A_num)\u001b[0m\n\u001b[0;32m     71\u001b[0m     pulse_args \u001b[38;5;241m=\u001b[39m {\u001b[38;5;124m'\u001b[39m\u001b[38;5;124msigma\u001b[39m\u001b[38;5;124m'\u001b[39m: \u001b[38;5;241m1.0\u001b[39m, \u001b[38;5;124m'\u001b[39m\u001b[38;5;124mA\u001b[39m\u001b[38;5;124m'\u001b[39m: A, \u001b[38;5;124m'\u001b[39m\u001b[38;5;124mt0\u001b[39m\u001b[38;5;124m'\u001b[39m: T \u001b[38;5;241m/\u001b[39m \u001b[38;5;241m2\u001b[39m, \u001b[38;5;124m'\u001b[39m\u001b[38;5;124mdelta\u001b[39m\u001b[38;5;124m'\u001b[39m: \u001b[38;5;241m0.3\u001b[39m, \u001b[38;5;124m'\u001b[39m\u001b[38;5;124md\u001b[39m\u001b[38;5;124m'\u001b[39m: d, \u001b[38;5;124m'\u001b[39m\u001b[38;5;124mT\u001b[39m\u001b[38;5;124m'\u001b[39m: T, \u001b[38;5;124m'\u001b[39m\u001b[38;5;124mN\u001b[39m\u001b[38;5;124m'\u001b[39m: N}\n\u001b[0;32m     72\u001b[0m     H \u001b[38;5;241m=\u001b[39m hamiltonian_drive(pulse_func, pulse_args)\n\u001b[1;32m---> 73\u001b[0m     output \u001b[38;5;241m=\u001b[39m qutip\u001b[38;5;241m.\u001b[39mmesolve(\n\u001b[0;32m     74\u001b[0m         H, psi0,\n\u001b[0;32m     75\u001b[0m         args\u001b[38;5;241m=\u001b[39mpulse_args,\n\u001b[0;32m     76\u001b[0m         tlist\u001b[38;5;241m=\u001b[39mtlist,\n\u001b[0;32m     77\u001b[0m         options\u001b[38;5;241m=\u001b[39moptions\n\u001b[0;32m     78\u001b[0m     )\n\u001b[0;32m     79\u001b[0m     values\u001b[38;5;241m.\u001b[39mappend(output\u001b[38;5;241m.\u001b[39mstates[\u001b[38;5;241m-\u001b[39m\u001b[38;5;241m1\u001b[39m])\n\u001b[0;32m     80\u001b[0m tr_probs\u001b[38;5;241m.\u001b[39mappend(values)\n",
      "File \u001b[1;32mC:\\Miniconda3\\envs\\quantum\\Lib\\site-packages\\qutip\\solver\\mesolve.py:147\u001b[0m, in \u001b[0;36mmesolve\u001b[1;34m(H, rho0, tlist, c_ops, e_ops, args, options, **kwargs)\u001b[0m\n\u001b[0;32m    142\u001b[0m     \u001b[38;5;28;01mreturn\u001b[39;00m sesolve(H, rho0, tlist, e_ops\u001b[38;5;241m=\u001b[39me_ops, args\u001b[38;5;241m=\u001b[39margs,\n\u001b[0;32m    143\u001b[0m                    options\u001b[38;5;241m=\u001b[39moptions)\n\u001b[0;32m    145\u001b[0m solver \u001b[38;5;241m=\u001b[39m MESolver(H, c_ops, options\u001b[38;5;241m=\u001b[39moptions)\n\u001b[1;32m--> 147\u001b[0m \u001b[38;5;28;01mreturn\u001b[39;00m solver\u001b[38;5;241m.\u001b[39mrun(rho0, tlist, e_ops\u001b[38;5;241m=\u001b[39me_ops)\n",
      "File \u001b[1;32mC:\\Miniconda3\\envs\\quantum\\Lib\\site-packages\\qutip\\solver\\solver_base.py:185\u001b[0m, in \u001b[0;36mSolver.run\u001b[1;34m(self, state0, tlist, args, e_ops)\u001b[0m\n\u001b[0;32m    183\u001b[0m \u001b[38;5;28;01mfor\u001b[39;00m t, state \u001b[38;5;129;01min\u001b[39;00m \u001b[38;5;28mself\u001b[39m\u001b[38;5;241m.\u001b[39m_integrator\u001b[38;5;241m.\u001b[39mrun(tlist):\n\u001b[0;32m    184\u001b[0m     progress_bar\u001b[38;5;241m.\u001b[39mupdate()\n\u001b[1;32m--> 185\u001b[0m     results\u001b[38;5;241m.\u001b[39madd(t, \u001b[38;5;28mself\u001b[39m\u001b[38;5;241m.\u001b[39m_restore_state(state, copy\u001b[38;5;241m=\u001b[39m\u001b[38;5;28;01mFalse\u001b[39;00m))\n\u001b[0;32m    186\u001b[0m progress_bar\u001b[38;5;241m.\u001b[39mfinished()\n\u001b[0;32m    188\u001b[0m stats[\u001b[38;5;124m'\u001b[39m\u001b[38;5;124mrun time\u001b[39m\u001b[38;5;124m'\u001b[39m] \u001b[38;5;241m=\u001b[39m progress_bar\u001b[38;5;241m.\u001b[39mtotal_time()\n",
      "File \u001b[1;32mC:\\Miniconda3\\envs\\quantum\\Lib\\site-packages\\qutip\\solver\\solver_base.py:128\u001b[0m, in \u001b[0;36mSolver._restore_state\u001b[1;34m(self, data, copy)\u001b[0m\n\u001b[0;32m    126\u001b[0m \u001b[38;5;28;01mif\u001b[39;00m \u001b[38;5;28mself\u001b[39m\u001b[38;5;241m.\u001b[39m_normalize_output:\n\u001b[0;32m    127\u001b[0m     \u001b[38;5;28;01mif\u001b[39;00m state\u001b[38;5;241m.\u001b[39misoper:\n\u001b[1;32m--> 128\u001b[0m         state \u001b[38;5;241m=\u001b[39m state \u001b[38;5;241m*\u001b[39m (\u001b[38;5;241m1\u001b[39m \u001b[38;5;241m/\u001b[39m state\u001b[38;5;241m.\u001b[39mtr())\n\u001b[0;32m    129\u001b[0m     \u001b[38;5;28;01melse\u001b[39;00m:\n\u001b[0;32m    130\u001b[0m         state \u001b[38;5;241m=\u001b[39m state \u001b[38;5;241m*\u001b[39m (\u001b[38;5;241m1\u001b[39m \u001b[38;5;241m/\u001b[39m state\u001b[38;5;241m.\u001b[39mnorm())\n",
      "File \u001b[1;32mC:\\Miniconda3\\envs\\quantum\\Lib\\site-packages\\qutip\\core\\qobj.py:440\u001b[0m, in \u001b[0;36mQobj.__mul__\u001b[1;34m(self, other)\u001b[0m\n\u001b[0;32m    436\u001b[0m \u001b[38;5;66;03m# We send other to mul instead of complex(other) to be more flexible.\u001b[39;00m\n\u001b[0;32m    437\u001b[0m \u001b[38;5;66;03m# The dispatcher can then decide how to handle other and return\u001b[39;00m\n\u001b[0;32m    438\u001b[0m \u001b[38;5;66;03m# TypeError if it does not know what to do with the type of other.\u001b[39;00m\n\u001b[0;32m    439\u001b[0m \u001b[38;5;28;01mtry\u001b[39;00m:\n\u001b[1;32m--> 440\u001b[0m     out \u001b[38;5;241m=\u001b[39m _data\u001b[38;5;241m.\u001b[39mmul(\u001b[38;5;28mself\u001b[39m\u001b[38;5;241m.\u001b[39m_data, other)\n\u001b[0;32m    441\u001b[0m \u001b[38;5;28;01mexcept\u001b[39;00m \u001b[38;5;167;01mTypeError\u001b[39;00m:\n\u001b[0;32m    442\u001b[0m     \u001b[38;5;28;01mreturn\u001b[39;00m \u001b[38;5;28mNotImplemented\u001b[39m\n",
      "\u001b[1;31mKeyboardInterrupt\u001b[0m: "
     ]
    }
   ],
   "source": [
    "# Simulation parameters\n",
    "tlist = np.linspace(0, T, 1000)  # Time grid\n",
    "d_min, d_max, d_num = (-0.3, 0.3, 50)\n",
    "A_min, A_max, A_num = (0, 1, 50)\n",
    "\n",
    "# Run simulations\n",
    "result_drag = run_simulation(drag_pulse, tlist, d_min, d_max, d_num, A_min, A_max, A_num)\n",
    "result_sinusoidal = run_simulation(sinusoidal_pulse, tlist, d_min, d_max, d_num, A_min, A_max, A_num)"
   ]
  },
  {
   "cell_type": "code",
   "execution_count": null,
   "id": "ff8f26dd-0748-46ac-8930-2c8d1b40742e",
   "metadata": {},
   "outputs": [],
   "source": [
    "d_range = np.linspace(d_min, d_max, d_num)\n",
    "A_range = np.linspace(A_min, A_max, A_num)\n",
    "tr_probs_drag = [[np.abs(r[1,1]) for r in res] for res in result_drag]\n",
    "# print(tr_probs)\n",
    "# Create pcolormesh plot\n",
    "fig, ax = plt.subplots(1,1)\n",
    "cmap = matplotlib.colormaps[\"cividis\"]  # Choose a colormap\n",
    "im = ax.pcolormesh(d_range, A_range, tr_probs_drag, vmin=0, vmax=1, cmap=cmap)\n",
    "fig.colorbar(im, ax=ax, label='Transition Probability')\n",
    "plt.ylabel('Rabi Frequency (1/T)')\n",
    "plt.xlabel('Detuning (1/T)')\n",
    "plt.title('Transition Probability for DRAG Pulse')\n",
    "plt.show()\n"
   ]
  },
  {
   "cell_type": "code",
   "execution_count": null,
   "id": "1c2935b1-f633-469a-8b69-6f4d6226da3f",
   "metadata": {},
   "outputs": [],
   "source": [
    "tr_probs_sin = np.array([[np.abs(r[1,1]) for r in res] for res in result_sinusoidal])\n",
    "print(tr_probs_sin.shape)\n",
    "# Create pcolormesh plot\n",
    "fig, ax = plt.subplots(1,1)\n",
    "cmap = matplotlib.colormaps[\"cividis\"]  # Choose a colormap\n",
    "im = ax.pcolormesh(d_range, A_range, tr_probs_sin.T, vmin=0, vmax=1, cmap=cmap)\n",
    "fig.colorbar(im, ax=ax, label='Transition Probability')\n",
    "plt.ylabel('Rabi Frequency (1/T)')\n",
    "plt.xlabel('Detuning (1/T)')\n",
    "plt.title('Transition Probability for Sine Pulse')\n",
    "plt.show()\n"
   ]
  },
  {
   "cell_type": "code",
   "execution_count": 23,
   "id": "fda33f17-45b3-4ac4-8363-fc382cd71e4a",
   "metadata": {},
   "outputs": [],
   "source": [
    "# Define the objective function to be optimized\n",
    "def objective_function(params):\n",
    "    transmon = scqubits.Transmon(EJ=params[0],\n",
    "                                 EC=params[1],\n",
    "                                 ng=0,\n",
    "                                 ncut=31)    # Example function: minimize the sum of squares\n",
    "    exc_energies = np.diff(transmon.eigenvals() / (2 * np.pi))\n",
    "    anharm = np.diff(exc_energies)[0]\n",
    "    return (exc_energies[0] - obj_energy)**2 + (anharm - obj_anharm)**2 + \n"
   ]
  },
  {
   "cell_type": "code",
   "execution_count": 29,
   "id": "455e348d-d69b-4572-ae27-5ed764dd6717",
   "metadata": {},
   "outputs": [
    {
     "name": "stdout",
     "output_type": "stream",
     "text": [
      "Optimization Result:\n",
      "Success: True\n",
      "Message: CONVERGENCE: NORM_OF_PROJECTED_GRADIENT_<=_PGTOL\n",
      "Optimal Parameters: [ 7.39790248 11.32086803  0.16406666]\n",
      "Objective Function Value at Optimum: 5.450982829249463e-14\n"
     ]
    }
   ],
   "source": [
    "initial_guess = [10, 0.2]\n",
    "obj_energy, obj_anharm = 5, -0.3\n",
    "bounds = [(0, 100), (0, 100)]\n",
    "result = minimize(objective_function, initial_guess, bounds=bounds)\n",
    "# Print the optimization result\n",
    "print(\"Optimization Result:\")\n",
    "print(\"Success:\", result.success)\n",
    "print(\"Message:\", result.message)\n",
    "print(\"Optimal Parameters:\", result.x)\n",
    "print(\"Objective Function Value at Optimum:\", result.fun)\n"
   ]
  },
  {
   "cell_type": "code",
   "execution_count": 28,
   "id": "f845f559-2cb7-412a-a952-730b9e4da436",
   "metadata": {},
   "outputs": [
    {
     "name": "stdout",
     "output_type": "stream",
     "text": [
      "[5.00000188 4.70000286 1.73025529 8.25697503 0.28431372]\n"
     ]
    }
   ],
   "source": [
    "transmon = scqubits.Transmon(EJ=42.48974981,\n",
    "                             EC=3.86925825,\n",
    "                             ng=0.51177197,\n",
    "                             ncut=31)    # Example function: minimize the sum of squares\n",
    "exc_energies = np.diff(transmon.eigenvals() / (2 * np.pi))\n",
    "anharm = np.diff(exc_energies)[0]\n",
    "print(exc_energies)"
   ]
  },
  {
   "cell_type": "code",
   "execution_count": null,
   "id": "16a6307b",
   "metadata": {},
   "outputs": [],
   "source": []
  },
  {
   "cell_type": "code",
   "execution_count": null,
   "id": "e6b78cdd",
   "metadata": {},
   "outputs": [],
   "source": []
  },
  {
   "cell_type": "code",
   "execution_count": null,
   "id": "c725c8ed",
   "metadata": {},
   "outputs": [],
   "source": []
  },
  {
   "cell_type": "code",
   "execution_count": null,
   "id": "5475fca0",
   "metadata": {},
   "outputs": [],
   "source": []
  },
  {
   "cell_type": "code",
   "execution_count": null,
   "id": "b5b1dcd3",
   "metadata": {},
   "outputs": [],
   "source": []
  },
  {
   "cell_type": "code",
   "execution_count": null,
   "id": "23b48866",
   "metadata": {},
   "outputs": [],
   "source": []
  },
  {
   "cell_type": "code",
   "execution_count": null,
   "id": "365bd856",
   "metadata": {},
   "outputs": [],
   "source": []
  },
  {
   "cell_type": "code",
   "execution_count": null,
   "id": "71b7e1b4",
   "metadata": {},
   "outputs": [],
   "source": []
  },
  {
   "cell_type": "code",
   "execution_count": null,
   "id": "c592b37e",
   "metadata": {},
   "outputs": [],
   "source": []
  },
  {
   "cell_type": "code",
   "execution_count": null,
   "id": "2efc8edb",
   "metadata": {},
   "outputs": [],
   "source": []
  }
 ],
 "metadata": {
  "kernelspec": {
   "display_name": "Python 3 (ipykernel)",
   "language": "python",
   "name": "python3"
  },
  "language_info": {
   "codemirror_mode": {
    "name": "ipython",
    "version": 3
   },
   "file_extension": ".py",
   "mimetype": "text/x-python",
   "name": "python",
   "nbconvert_exporter": "python",
   "pygments_lexer": "ipython3",
   "version": "3.11.2"
  }
 },
 "nbformat": 4,
 "nbformat_minor": 5
}
