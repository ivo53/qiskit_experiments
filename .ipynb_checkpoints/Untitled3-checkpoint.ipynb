{
 "cells": [
  {
   "cell_type": "code",
   "execution_count": 1,
   "id": "06a9d21f-b158-4b23-b663-2f4c20a7efa5",
   "metadata": {},
   "outputs": [],
   "source": [
    "import numpy as np\n",
    "import scipy\n",
    "from scipy.integrate import solve_ivp\n",
    "from scipy.optimize import minimize\n",
    "from numba import jit\n",
    "import matplotlib.pyplot as plt\n",
    "import pickle\n",
    "import os\n",
    "from datetime import datetime"
   ]
  },
  {
   "cell_type": "code",
   "execution_count": 2,
   "id": "a17f3c5a",
   "metadata": {},
   "outputs": [],
   "source": [
    "def make_all_dirs(path):\n",
    "    folders = path.split(\"/\")\n",
    "    for i in range(2, len(folders) + 1):\n",
    "        folder = \"/\".join(folders[:i])\n",
    "        if not os.path.isdir(folder):\n",
    "            os.mkdir(folder)"
   ]
  },
  {
   "cell_type": "code",
   "execution_count": 3,
   "id": "39f29e5e-4ef2-4644-96ae-447ec1d36398",
   "metadata": {},
   "outputs": [],
   "source": [
    "# Define the constant detuning\n",
    "Delta = 0.5  # You can adjust this value as needed\n",
    "# Step 1: Generate initial random values\n",
    "method = 'SLSQP'\n",
    "dt_now = datetime.now()\n",
    "\n",
    "# Define the Hamiltonian with detuning\n",
    "def hamiltonian(t, Omega_t, Delta):\n",
    "    return 0.5 * np.array([[-Delta, Omega_t(t)], [Omega_t(t), Delta]])"
   ]
  },
  {
   "cell_type": "code",
   "execution_count": 4,
   "id": "c937b4cb-793c-49f3-a80e-052e5e2b5775",
   "metadata": {},
   "outputs": [],
   "source": [
    "# Define the coupled differential equations for the two levels\n",
    "def schrodinger(t, psi, Omega_t, Delta):\n",
    "    psi1, psi2 = psi\n",
    "    dpsi1_dt = -1j * (-0.5 * Delta * psi1 + 0.5 * Omega_t(t) * psi2)\n",
    "    dpsi2_dt = -1j * (0.5 * Omega_t(t) * psi1 + 0.5 * Delta * psi2)\n",
    "    return [dpsi1_dt, dpsi2_dt]"
   ]
  },
  {
   "cell_type": "code",
   "execution_count": 5,
   "id": "e5eafa08-cde4-412e-9150-ac901f8b6a71",
   "metadata": {},
   "outputs": [],
   "source": [
    "def calculate_probabilities(t, Omega_t, Delta, T):\n",
    "    # Initial state (ground state)\n",
    "    psi0 = np.array([1.0 + 0.0j, 0.0 + 0.0j])\n",
    "\n",
    "    # Time points where the solution is computed\n",
    "    t_span = (0, T)\n",
    "    t_eval = np.linspace(0, T, 2)\n",
    "\n",
    "    # Solve the Schrödinger equation\n",
    "    sol = solve_ivp(schrodinger, t_span, psi0, t_eval=t_eval, args=(Omega_t, Delta), method='RK45')\n",
    "    # Extract the probabilities\n",
    "    P_excited = (np.abs(sol.y[1])**2)[-1]\n",
    "    P_ground = (np.abs(sol.y[0])**2)[-1]\n",
    "\n",
    "    # # Plot the results\n",
    "    # plt.plot(sol.t, np.abs(sol.y[0])**2, label='Ground State')\n",
    "    # plt.plot(sol.t, np.abs(sol.y[1])**2, label='Excited State')\n",
    "    # plt.xlabel('Time')\n",
    "    # plt.ylabel('Probability')\n",
    "    # plt.legend()\n",
    "    # plt.title('Time Evolution of a Two-Level System with Detuning')\n",
    "    # plt.show()\n",
    "\n",
    "    return P_excited\n"
   ]
  },
  {
   "cell_type": "code",
   "execution_count": 6,
   "id": "6c611cba-66de-40e1-ab74-36fba57c6ad1",
   "metadata": {},
   "outputs": [],
   "source": [
    "def loss(values, d_range, T, idx):\n",
    "    # The loss is calculated as \\Delta^{(5)}_{1/2} \\times \\Delta^{(3)}_{1/2} / (\\Delta^{(1)}_{1/2})^2\n",
    "    # freq_amps = freq_amps[:len(freq_amps)//2] + 1j * freq_amps[len(freq_amps)//2:]\n",
    "    values = values[:len(values)//2] + 1j * values[len(values)//2:]\n",
    "    # values = np.fft.ifft(freq_amps)\n",
    "    times = np.linspace(0, T, len(values))\n",
    "    raw_area = np.sum(np.abs(values[1:] * np.diff(times)))\n",
    "    A = np.pi / raw_area # multiplier to correct the area\n",
    "    def Omega_t(t, A, values):\n",
    "        if isinstance(t, int) or isinstance(t, float):\n",
    "            time_idx = np.argmin(\n",
    "                np.abs(times - t)\n",
    "            )\n",
    "        elif isinstance(t, np.ndarray):\n",
    "            time_idx = np.argmin(\n",
    "                np.abs(times[:, None] - t[None], axis=0)\n",
    "            )\n",
    "        return A * values[time_idx]\n",
    "    \n",
    "    iqr_1_3_5pi = []\n",
    "    for multiplier in [1,3,5]:\n",
    "        v = []\n",
    "        for d in d_range:\n",
    "            v.append(calculate_probabilities(times, lambda t: Omega_t(t, multiplier * A, values), d, T))\n",
    "        v = np.array(v)\n",
    "        # plt.plot(v)\n",
    "        # plt.show()\n",
    "        iqr_metric = scipy.stats.iqr(v)\n",
    "        iqr_1_3_5pi.append(iqr_metric)\n",
    "\n",
    "    loss_value = np.abs(iqr_1_3_5pi[1] * iqr_1_3_5pi[2] / iqr_1_3_5pi[0]**2)\n",
    "#     print(f\"Function value at step {len(function_values) + 1}: {loss_value}\")\n",
    "    if len(function_values) == 0:\n",
    "        last_record.append(loss_value)\n",
    "\n",
    "    if loss_value / last_record[-1] < 0.995 or len(function_values) == 0:\n",
    "        print(f\"Function value at step {len(function_values) + 1}: {loss_value}\")\n",
    "        last_record.append(loss_value)\n",
    "    function_values.append(loss_value)\n",
    "    parameters.append(values)\n",
    "    # Save every 1000 steps\n",
    "    if function_values and len(function_values) % 1000 == 0:\n",
    "        with open(os.path.join(current_dir, \"pulse_optimisation\", f\"params_{method}_{date}_{time}_guess{idx}_step{len(function_values)}.pkl\"), \"wb\") as f:\n",
    "            pickle.dump(parameters, f)\n",
    "        with open(os.path.join(current_dir, \"pulse_optimisation\", f\"losses_{method}_{date}_{time}_guess{idx}_step{len(function_values)}.pkl\"), \"wb\") as f:\n",
    "            pickle.dump(function_values, f)\n",
    "\n",
    "    return loss_value\n"
   ]
  },
  {
   "cell_type": "code",
   "execution_count": 7,
   "id": "a8ef17e8-3b3f-45d1-8420-e7b9165411ed",
   "metadata": {},
   "outputs": [],
   "source": [
    "N = 1024\n",
    "d_min, d_max, num_d = -10, 10, 101\n",
    "T = 10\n",
    "d_range = np.linspace(d_min, d_max, num_d)\n",
    "\n",
    "current_dir = os.getcwd()\n",
    "time = dt_now.strftime(\"%H%M%S\")\n",
    "date = dt_now.strftime(\"%Y-%m-%d\")\n",
    "make_all_dirs(os.path.join(current_dir, \"pulse_optimisation\"))\n",
    "\n",
    "options = {\"maxiter\": 1001}\n",
    "\n",
    "initial_guesses = []\n",
    "A, sigma = 1, 10  # Standard deviation of the Lorentzian\n",
    "# z0 = np.fft.fft(A / (1 + ((np.arange(N) - N/2) / sigma)**2) ** 0.5)\n",
    "z0 = A / (1 + ((np.arange(N) - N/2) / sigma)**2) ** 0.5\n",
    "x0 = np.concatenate([z0.real, z0.imag])\n",
    "\n",
    "initial_guesses.append(x0)\n",
    "for _ in range(999):\n",
    "    x0 = np.random.uniform(-10, 10, 1024)\n",
    "    initial_guesses.append(x0)\n"
   ]
  },
  {
   "cell_type": "code",
   "execution_count": null,
   "id": "2646b729-f5ce-4e4c-84e4-3fe1d804775f",
   "metadata": {
    "scrolled": false
   },
   "outputs": [
    {
     "name": "stdout",
     "output_type": "stream",
     "text": [
      "Function value at step 2: 0.032198132533985645\n",
      "Function value at step 15: 0.0313151711052047\n"
     ]
    }
   ],
   "source": [
    "for idx, guess in enumerate(initial_guesses):\n",
    "    # Create a list to store function values\n",
    "    function_values = []\n",
    "    last_record = []\n",
    "    parameters = []\n",
    "    result = minimize(\n",
    "        loss, guess, \n",
    "        args=(d_range, T, idx), \n",
    "        method=method,\n",
    "        options=options\n",
    "    )"
   ]
  },
  {
   "cell_type": "code",
   "execution_count": null,
   "id": "7995b2ff-e15b-46f8-9fe9-20c435b9d2cc",
   "metadata": {},
   "outputs": [],
   "source": [
    "# Reconstruct the final complex parameters from the result\n",
    "final_z = result.x[:len(result.x)//2] + 1j * result.x[len(result.x)//2:]# Print the final result\n",
    "print(\"Optimization Result:\")\n",
    "print(result)"
   ]
  },
  {
   "cell_type": "code",
   "execution_count": null,
   "id": "50db28eb-1645-4864-be60-c803d8d622f6",
   "metadata": {},
   "outputs": [],
   "source": [
    "import pickle\n",
    "import os\n",
    "def make_all_dirs(path):\n",
    "    folders = path.split(\"/\")\n",
    "    for i in range(2, len(folders) + 1):\n",
    "        folder = \"/\".join(folders[:i])\n",
    "        if not os.path.isdir(folder):\n",
    "            os.mkdir(folder)\n",
    "\n",
    "current_dir = os.getcwd()\n",
    "\n"
   ]
  },
  {
   "cell_type": "code",
   "execution_count": null,
   "id": "9b79f5a4-0fca-4d2f-baa7-8b18e678067f",
   "metadata": {},
   "outputs": [],
   "source": [
    "os.listdir(os.path.join(current_dir, \"pulse_optimisation\"))"
   ]
  },
  {
   "cell_type": "code",
   "execution_count": null,
   "id": "fcc19970-6c63-40c2-b1f4-00bbf0a31ca6",
   "metadata": {},
   "outputs": [],
   "source": [
    "with open(os.path.join(current_dir, \"pulse_optimisation\", \"losses_2024-07-28_003214_26000.pkl\"), \"rb\") as fr:\n",
    "    losses = np.array(pickle.load(fr))\n",
    "with open(os.path.join(current_dir, \"pulse_optimisation\", \"params_2024-07-28_003214_26000.pkl\"), \"rb\") as fr:\n",
    "    params = np.array(pickle.load(fr))"
   ]
  },
  {
   "cell_type": "code",
   "execution_count": null,
   "id": "6f649e0b-ccf1-4161-8eb2-09b500231bcc",
   "metadata": {},
   "outputs": [],
   "source": [
    "print(losses.argmin())"
   ]
  },
  {
   "cell_type": "code",
   "execution_count": null,
   "id": "27179555-f9bf-470d-9a43-fbc4aa8e3c4a",
   "metadata": {},
   "outputs": [],
   "source": [
    "print(params[8535])"
   ]
  },
  {
   "cell_type": "code",
   "execution_count": null,
   "id": "9d2ab288-81c5-4bc1-8ca2-27076c19ee68",
   "metadata": {},
   "outputs": [],
   "source": [
    "T = 1\n",
    "times = np.linspace(0, T, len(params[8535]))\n",
    "N, sigma = 1024, 10\n",
    "new_pulse = np.fft.ifft(params[8535])\n",
    "print(new_pulse)\n",
    "print(times)\n",
    "raw_area_new = np.sum(np.abs(new_pulse * np.diff(np.concatenate(([-0.09047900170632191 ], times)))))\n",
    "norm_factor_new = np.pi / raw_area_new\n",
    "lor = 1 / (1 + ((np.arange(N) - N/2) / sigma)**2) ** 0.5\n",
    "raw_area_old = np.sum(np.abs(lor * np.diff(np.concatenate(([-0.09047900170632191 ], times)))))\n",
    "norm_factor_old = np.pi / raw_area_old\n",
    "print(raw_area_old, raw_area_new, norm_factor_old, norm_factor_new)"
   ]
  },
  {
   "cell_type": "code",
   "execution_count": null,
   "id": "dcb06228-114e-4005-ac80-8d62e7c4748f",
   "metadata": {},
   "outputs": [],
   "source": [
    "def Omega_t(t, A, values):\n",
    "    if isinstance(t, int) or isinstance(t, float):\n",
    "        time_idx = np.argmin(\n",
    "            np.abs(times - t)\n",
    "        )\n",
    "    elif isinstance(t, np.ndarray):\n",
    "        time_idx = np.argmin(\n",
    "            np.abs(times[:, None] - t[None], axis=0)\n",
    "        )\n",
    "    return A * values[time_idx]\n",
    "    \n",
    "d_range = np.linspace(-10,10,101)\n",
    "A_range_old = np.linspace(0,10*norm_factor_old,100)\n",
    "A_range_new = np.linspace(0,10*norm_factor_new,100)\n",
    "\n",
    "tr_probs_new = []\n",
    "for A in A_range_new:\n",
    "    profile = []\n",
    "    for d in d_range:\n",
    "        profile.append(calculate_probabilities(_, lambda t: Omega_t(t, A, np.fft.ifft(params[8535])), d, T))\n",
    "    tr_probs_new.append(profile)\n",
    "\n",
    "\n",
    "tr_probs_old = []\n",
    "for A in A_range_old:\n",
    "    profile = []\n",
    "    for d in d_range:\n",
    "        profile.append(calculate_probabilities(_, lambda t: Omega_t(t, A, lor), d, T))\n",
    "    tr_probs_old.append(profile)"
   ]
  },
  {
   "cell_type": "code",
   "execution_count": null,
   "id": "add55039-bdce-4d97-b32f-9065ff3df0a6",
   "metadata": {},
   "outputs": [],
   "source": [
    "import matplotlib\n",
    "tr_probs_new = np.array(tr_probs_new)\n",
    "tr_probs_old = np.array(tr_probs_old)\n",
    "\n",
    "fig1, ax1 = plt.subplots(1,1)\n",
    "cmap = matplotlib.colormaps[\"cividis\"]  # Choose a colormap\n",
    "im = ax1.pcolormesh(d_range, A_range_new, tr_probs_new, vmin=0, vmax=1, cmap=cmap)\n",
    "fig1.colorbar(im, ax=ax1, label='Transition Probability')\n",
    "ax1.set_ylabel('Rabi Frequency (1/T)')\n",
    "ax1.set_xlabel('Detuning (1/T)')\n",
    "ax1.set_title('Transition Probability for New Shaped Pulse')\n",
    "\n",
    "fig2, ax2 = plt.subplots(1,1)\n",
    "cmap = matplotlib.colormaps[\"cividis\"]  # Choose a colormap\n",
    "im = ax2.pcolormesh(d_range, A_range_old, tr_probs_old, vmin=0, vmax=1, cmap=cmap)\n",
    "fig2.colorbar(im, ax=ax2, label='Transition Probability')\n",
    "ax2.set_ylabel('Rabi Frequency (1/T)')\n",
    "ax2.set_xlabel('Detuning (1/T)')\n",
    "ax2.set_title('Transition Probability for Lor$^{1/2}$ Pulse')\n",
    "plt.show()"
   ]
  },
  {
   "cell_type": "code",
   "execution_count": null,
   "id": "292b89d0-e09e-460c-b553-f60417201643",
   "metadata": {},
   "outputs": [],
   "source": [
    "# plt.plot(times, params[8535])\n",
    "plt.plot(times, np.fft.ifft(params[8535]))"
   ]
  },
  {
   "cell_type": "code",
   "execution_count": null,
   "id": "06b7e5c0-28dd-4d26-b64a-adfc86cc922e",
   "metadata": {},
   "outputs": [],
   "source": []
  }
 ],
 "metadata": {
  "kernelspec": {
   "display_name": "Python 3 (ipykernel)",
   "language": "python",
   "name": "python3"
  },
  "language_info": {
   "codemirror_mode": {
    "name": "ipython",
    "version": 3
   },
   "file_extension": ".py",
   "mimetype": "text/x-python",
   "name": "python",
   "nbconvert_exporter": "python",
   "pygments_lexer": "ipython3",
   "version": "3.11.2"
  }
 },
 "nbformat": 4,
 "nbformat_minor": 5
}
