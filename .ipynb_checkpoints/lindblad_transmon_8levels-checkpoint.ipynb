{
 "cells": [
  {
   "cell_type": "code",
   "execution_count": 1,
   "id": "7d1d373d-994d-431f-888c-175641f5e6dc",
   "metadata": {},
   "outputs": [],
   "source": [
    "import numpy as np\n",
    "import qutip\n",
    "import matplotlib.pyplot as plt"
   ]
  },
  {
   "cell_type": "code",
   "execution_count": 2,
   "id": "1e6b0f2b-6f89-4c35-92d9-b0eeb23f8e52",
   "metadata": {},
   "outputs": [],
   "source": [
    "# Define the collapse operators (Lindblad operators)\n",
    "num_levels = 6\n",
    "num_t = 1000\n",
    "sigma = 96e-9\n",
    "d_num, A_num = 40, 50\n",
    "d_interval, A_interval = 460e6, 500e6\n",
    "anharm = 2 * np.pi * 0.31092e9"
   ]
  },
  {
   "cell_type": "code",
   "execution_count": 3,
   "id": "fb4f3bb8-fa15-4c37-8f6c-aefeeaf7f814",
   "metadata": {},
   "outputs": [],
   "source": [
    "def omega_sin(t, args):\n",
    "    return args[\"O\"] * np.sin(np.pi * t / args[\"sigma\"]) * np.heaviside(t, 1) * np.heaviside(args[\"sigma\"] - t, 1)"
   ]
  },
  {
   "cell_type": "code",
   "execution_count": 4,
   "id": "5f34db46-e684-4ca3-b768-6f4034ffbb5b",
   "metadata": {},
   "outputs": [],
   "source": [
    "def omega_lor(t, args):\n",
    "    return args[\"O\"] / (1 + ((t - args[\"T\"] / 2) / args[\"sigma\"])**2) * np.heaviside(t, 1) * np.heaviside(args[\"T\"] - t, 1)"
   ]
  },
  {
   "cell_type": "code",
   "execution_count": 5,
   "id": "b0ecbf6f-894b-4429-a867-3563a07e70f6",
   "metadata": {},
   "outputs": [],
   "source": [
    "def get_popul(\n",
    "    num_levels, omega, \n",
    "    d_interval, A_interval, \n",
    "    d_num, A_num, num_t,\n",
    "    anharm,\n",
    "    sigma, dur,\n",
    "    nsteps=1000\n",
    "):\n",
    "    rho0 = qutip.Qobj(\n",
    "        np.diag(np.maximum(0, 1 - np.arange(num_levels)))\n",
    "    )\n",
    "    options = qutip.Options()\n",
    "    options.nsteps = nsteps\n",
    "    tlist = np.linspace(0, sigma, num_t)\n",
    "    d_range = np.linspace(\n",
    "        - d_interval / 2, \n",
    "        d_interval / 2, \n",
    "        d_num\n",
    "    )\n",
    "    A_range = np.linspace(0, A_interval, A_num)\n",
    "    tr_probs = []\n",
    "    for n_d, d in enumerate(d_range):\n",
    "        values = []\n",
    "        for n_A, A in enumerate(A_range):\n",
    "            args_omega = {\"O\": A, \"Т\": dur, \"sigma\": sigma}\n",
    "            # Define the Hamiltonian (you will need to add your own Hamiltonian terms)\n",
    "            # H0 = center_detuning * 0.5 * qutip.Qobj(np.diag(np.maximum(0, np.arange(num_levels) - 1) * (np.maximum(0, np.arange(num_levels)))))\n",
    "            H0 = d * np.diag(np.maximum(0, np.arange(num_levels) - 1) ) \\\n",
    "                + anharm / 2 * np.diag(np.maximum(0, np.arange(num_levels) - 1) * (np.maximum(0, np.arange(num_levels))))\n",
    "            H0[1,1] = d\n",
    "            H0 = qutip.Qobj(H0)\n",
    "            H1 = 0.5 * qutip.Qobj(\n",
    "                np.diag(np.sqrt(np.arange(num_levels-1) + 1), -1) \\\n",
    "                + np.diag(np.sqrt(np.arange(num_levels-1) + 1), 1) \n",
    "            )\n",
    "            output = qutip.mesolve(\n",
    "                [\n",
    "                    H0, \n",
    "                    [H1, omega]\n",
    "                ],\n",
    "                rho0=rho0,\n",
    "                args=args_omega,\n",
    "                tlist=tlist,\n",
    "                options=options\n",
    "            )\n",
    "            values.append(output.states[-1])\n",
    "            \n",
    "        tr_probs.append(values)\n",
    "    return np.array(tr_probs)"
   ]
  },
  {
   "cell_type": "code",
   "execution_count": null,
   "id": "ecd249b9-cb22-46f7-8ab9-4e24d92e47ac",
   "metadata": {},
   "outputs": [],
   "source": [
    "tr_probs = get_popul(\n",
    "    num_levels, omega_sin, \n",
    "    d_interval, A_interval, \n",
    "    d_num, A_num, num_t,\n",
    "    anharm,\n",
    "    sigma, sigma,\n",
    "    nsteps=1000\n",
    ")"
   ]
  },
  {
   "cell_type": "code",
   "execution_count": null,
   "id": "7ae27a76-dffb-4c7a-bbdb-666e14812e7d",
   "metadata": {},
   "outputs": [],
   "source": [
    "leakage = np.einsum('ijkk', np.abs(tr_probs)[:, :, 2:, 2:])\n"
   ]
  },
  {
   "cell_type": "code",
   "execution_count": null,
   "id": "dc038632-3452-468c-9a6a-c083684bae7d",
   "metadata": {},
   "outputs": [],
   "source": [
    "fig1, ax1 = plt.subplots(1,1)\n",
    "im1 = ax1.imshow(leakage.T,origin=\"lower\")\n",
    "fig1.colorbar(im1)\n",
    "plt.show()"
   ]
  },
  {
   "cell_type": "code",
   "execution_count": null,
   "id": "1537e978",
   "metadata": {},
   "outputs": [],
   "source": [
    "leakage_to_very_high_levels = np.einsum('ijkk', np.abs(tr_probs)[:, :, 3:, 3:])"
   ]
  },
  {
   "cell_type": "code",
   "execution_count": null,
   "id": "79083e97",
   "metadata": {},
   "outputs": [],
   "source": [
    "fig3, ax3 = plt.subplots(1,1)\n",
    "im3 = ax3.imshow((leakage - leakage_to_very_high_levels).T,origin=\"lower\")\n",
    "fig3.colorbar(im3)\n",
    "plt.show()"
   ]
  },
  {
   "cell_type": "code",
   "execution_count": null,
   "id": "b75555df-8db6-47b7-8732-fdee81a20b7d",
   "metadata": {},
   "outputs": [],
   "source": [
    "tr = np.abs(tr_probs[:, :, 1, 1])"
   ]
  },
  {
   "cell_type": "code",
   "execution_count": null,
   "id": "db62e2f0-bd42-4a1b-9292-0d6d44540398",
   "metadata": {},
   "outputs": [],
   "source": [
    "fig2, ax2 = plt.subplots(1,1)\n",
    "im2 = ax2.imshow(tr.T,origin=\"lower\")\n",
    "fig2.colorbar(im2)\n",
    "plt.show()"
   ]
  },
  {
   "cell_type": "code",
   "execution_count": null,
   "id": "ed355f8f-6f68-4089-b0f5-e09e1a3d77d7",
   "metadata": {},
   "outputs": [],
   "source": [
    "print(tr.max())"
   ]
  },
  {
   "cell_type": "code",
   "execution_count": null,
   "id": "42afa6cd-5270-4a61-99d0-fcb1b9568412",
   "metadata": {},
   "outputs": [],
   "source": [
    "num_levels, d_interval, A_interval, d_num, A_num, num_t, anharm, sigma, dur = (6, 200e6, 500e6, 50, 50, 1000, 0.3192e9, 96e-9, 6000e-9)"
   ]
  },
  {
   "cell_type": "code",
   "execution_count": null,
   "id": "05e81ae8",
   "metadata": {},
   "outputs": [],
   "source": [
    "tr_probs_lor = get_popul(\n",
    "    num_levels, omega_lor, \n",
    "    d_interval, A_interval, \n",
    "    d_num, A_num, num_t,\n",
    "    anharm,\n",
    "    sigma, dur,\n",
    "    nsteps=1000\n",
    ")"
   ]
  },
  {
   "cell_type": "code",
   "execution_count": null,
   "id": "c4ad0581",
   "metadata": {},
   "outputs": [],
   "source": [
    "qutip.Qobj(d * np.diag(np.maximum(0, np.arange(num_levels) - 1) ) + center_frequency / 2 * np.diag(np.maximum(0, np.arange(num_levels) - 1) * (np.maximum(0, np.arange(num_levels)))))"
   ]
  }
 ],
 "metadata": {
  "kernelspec": {
   "display_name": "Python 3 (ipykernel)",
   "language": "python",
   "name": "python3"
  },
  "language_info": {
   "codemirror_mode": {
    "name": "ipython",
    "version": 3
   },
   "file_extension": ".py",
   "mimetype": "text/x-python",
   "name": "python",
   "nbconvert_exporter": "python",
   "pygments_lexer": "ipython3",
   "version": "3.11.4"
  }
 },
 "nbformat": 4,
 "nbformat_minor": 5
}
