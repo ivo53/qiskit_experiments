{
 "cells": [
  {
   "cell_type": "code",
   "execution_count": 1,
   "id": "7d1d373d-994d-431f-888c-175641f5e6dc",
   "metadata": {},
   "outputs": [],
   "source": [
    "import numpy as np\n",
    "import qutip\n",
    "import matplotlib.pyplot as plt"
   ]
  },
  {
   "cell_type": "code",
   "execution_count": 2,
   "id": "1e6b0f2b-6f89-4c35-92d9-b0eeb23f8e52",
   "metadata": {},
   "outputs": [],
   "source": [
    "# Define the collapse operators (Lindblad operators)\n",
    "T = 1\n",
    "num_t = 1000\n",
    "sigma = 1\n",
    "d_num, A_num = 40, 40"
   ]
  },
  {
   "cell_type": "code",
   "execution_count": 3,
   "id": "fb4f3bb8-fa15-4c37-8f6c-aefeeaf7f814",
   "metadata": {},
   "outputs": [],
   "source": [
    "def omega(t, args):\n",
    "    return args[\"O\"] * np.sin(np.pi * t / args[\"sigma\"]) * np.heaviside(t, 1) * np.heaviside(args[\"sigma\"] - t, 1)\n"
   ]
  },
  {
   "cell_type": "code",
   "execution_count": 4,
   "id": "b0ecbf6f-894b-4429-a867-3563a07e70f6",
   "metadata": {},
   "outputs": [],
   "source": [
    "# def detuning(n, t, assym, omega):\n",
    "#     return assym * (n - 1) + (n - 1) * (n - 2) * omega(t) / 8\n",
    "rho0 = qutip.Qobj([\n",
    "    [1,0,0,0,0,0,0,0],\n",
    "    [0,0,0,0,0,0,0,0],\n",
    "    [0,0,0,0,0,0,0,0],\n",
    "    [0,0,0,0,0,0,0,0],\n",
    "    [0,0,0,0,0,0,0,0],\n",
    "    [0,0,0,0,0,0,0,0],\n",
    "    [0,0,0,0,0,0,0,0],\n",
    "    [0,0,0,0,0,0,0,0],\n",
    "])\n",
    "options = qutip.Options()\n",
    "options.nsteps = 5000\n",
    "tlist = np.linspace(0, sigma, num_t)\n",
    "d_range = np.linspace(0.03125-0.01,0.03125+0.01,d_num)\n",
    "A_range = np.linspace(0, 10, A_num)\n"
   ]
  },
  {
   "cell_type": "code",
   "execution_count": 5,
   "id": "6c9478fb-b2aa-4eb8-92c3-b4936b962c08",
   "metadata": {},
   "outputs": [],
   "source": [
    "tr_probs = []\n",
    "for n_d, d in enumerate(d_range):\n",
    "    values = []\n",
    "    for n_A, A in enumerate(A_range):\n",
    "        \n",
    "        # Define the Hamiltonian (you will need to add your own Hamiltonian terms)\n",
    "\n",
    "        H0 = d * qutip.Qobj([[0,0,0,0,0,0,0,0],\n",
    "                                   [0,0,0,0,0,0,0,0],\n",
    "                                   [0,0,1,0,0,0,0,0],\n",
    "                                   [0,0,0,2,0,0,0,0],\n",
    "                                   [0,0,0,0,3,0,0,0],\n",
    "                                   [0,0,0,0,0,4,0,0],\n",
    "                                   [0,0,0,0,0,0,5,0],\n",
    "                                   [0,0,0,0,0,0,0,6]])\n",
    "        H1 = 0.5 * qutip.Qobj([[0,1,0,0,0,0,0,0],\n",
    "                               [1,0,np.sqrt(2),0,0,0,0,0],\n",
    "                               [0,np.sqrt(2),0,np.sqrt(3),0,0,0,0],\n",
    "                               [0,0,np.sqrt(3),2*1/4,np.sqrt(4),0,0,0],\n",
    "                               [0,0,0,np.sqrt(4),2*3/4,np.sqrt(5),0,0],\n",
    "                               [0,0,0,0,np.sqrt(5),2*3/2,np.sqrt(6),0],\n",
    "                               [0,0,0,0,0,np.sqrt(6),2*5/2,np.sqrt(7)],\n",
    "                               [0,0,0,0,0,0,np.sqrt(7),2*15/4],])\n",
    "        output = qutip.mesolve(\n",
    "            [\n",
    "                H0, \n",
    "                [H1, omega]\n",
    "            ],\n",
    "            rho0=rho0,\n",
    "            args={\"O\": A, \"sigma\": sigma},\n",
    "            tlist=tlist,\n",
    "            options=options\n",
    "        )\n",
    "        values.append(output.states[-1])\n",
    "        \n",
    "    tr_probs.append(values)\n"
   ]
  },
  {
   "cell_type": "code",
   "execution_count": 6,
   "id": "7ae27a76-dffb-4c7a-bbdb-666e14812e7d",
   "metadata": {},
   "outputs": [],
   "source": [
    "leakage = np.zeros((d_num, A_num))\n",
    "for d in range(d_num):\n",
    "    for A in range(A_num):\n",
    "        sum = 0\n",
    "        for i in range(2,8):\n",
    "            sum+=np.abs(tr_probs[d][A].data[i,i])\n",
    "        leakage[d, A] = sum"
   ]
  },
  {
   "cell_type": "code",
   "execution_count": 7,
   "id": "7f555505-cd1d-4654-b472-1b0218ab6cb7",
   "metadata": {},
   "outputs": [
    {
     "name": "stdout",
     "output_type": "stream",
     "text": [
      "[[0.00000000e+00 2.20919318e-05 3.48753002e-04 ... 9.98214440e-01\n",
      "  9.97061284e-01 9.94593342e-01]\n",
      " [0.00000000e+00 2.20919164e-05 3.48752767e-04 ... 9.98216037e-01\n",
      "  9.97061852e-01 9.94592229e-01]\n",
      " [0.00000000e+00 2.20919006e-05 3.48752526e-04 ... 9.98217632e-01\n",
      "  9.97062419e-01 9.94591114e-01]\n",
      " ...\n",
      " [0.00000000e+00 2.20911167e-05 3.48740475e-04 ... 9.98272725e-01\n",
      "  9.97081219e-01 9.94550603e-01]\n",
      " [0.00000000e+00 2.20910877e-05 3.48740027e-04 ... 9.98274278e-01\n",
      "  9.97081725e-01 9.94549403e-01]\n",
      " [0.00000000e+00 2.20910583e-05 3.48739573e-04 ... 9.98275829e-01\n",
      "  9.97082228e-01 9.94548200e-01]]\n"
     ]
    }
   ],
   "source": [
    "print(leakage)"
   ]
  },
  {
   "cell_type": "code",
   "execution_count": 8,
   "id": "dc038632-3452-468c-9a6a-c083684bae7d",
   "metadata": {},
   "outputs": [
    {
     "data": {
      "text/plain": [
       "<matplotlib.image.AxesImage at 0x26e97fe3350>"
      ]
     },
     "execution_count": 8,
     "metadata": {},
     "output_type": "execute_result"
    },
    {
     "data": {
      "image/png": "[encoded data removed]",
      "text/plain": [
       "<Figure size 640x480 with 1 Axes>"
      ]
     },
     "metadata": {},
     "output_type": "display_data"
    }
   ],
   "source": [
    "fig1, ax1 = plt.subplots(1,1)\n",
    "ax1.imshow(leakage)"
   ]
  },
  {
   "cell_type": "code",
   "execution_count": null,
   "id": "b75555df-8db6-47b7-8732-fdee81a20b7d",
   "metadata": {},
   "outputs": [],
   "source": []
  },
  {
   "cell_type": "code",
   "execution_count": null,
   "id": "db62e2f0-bd42-4a1b-9292-0d6d44540398",
   "metadata": {},
   "outputs": [],
   "source": []
  },
  {
   "cell_type": "code",
   "execution_count": null,
   "id": "ed355f8f-6f68-4089-b0f5-e09e1a3d77d7",
   "metadata": {},
   "outputs": [],
   "source": []
  }
 ],
 "metadata": {
  "kernelspec": {
   "display_name": "Python 3 (ipykernel)",
   "language": "python",
   "name": "python3"
  },
  "language_info": {
   "codemirror_mode": {
    "name": "ipython",
    "version": 3
   },
   "file_extension": ".py",
   "mimetype": "text/x-python",
   "name": "python",
   "nbconvert_exporter": "python",
   "pygments_lexer": "ipython3",
   "version": "3.11.2"
  }
 },
 "nbformat": 4,
 "nbformat_minor": 5
}
