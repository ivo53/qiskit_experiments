{
 "cells": [
  {
   "cell_type": "code",
   "execution_count": 1,
   "id": "7d1d373d-994d-431f-888c-175641f5e6dc",
   "metadata": {},
   "outputs": [],
   "source": [
    "import numpy as np\n",
    "import qutip\n",
    "import matplotlib.pyplot as plt"
   ]
  },
  {
   "cell_type": "code",
   "execution_count": 2,
   "id": "1e6b0f2b-6f89-4c35-92d9-b0eeb23f8e52",
   "metadata": {},
   "outputs": [],
   "source": [
    "# Define the collapse operators (Lindblad operators)\n",
    "num_levels = 6\n",
    "num_t = 1000\n",
    "sigma = 96e-9\n",
    "d_num, A_num = 40, 50\n",
    "d_interval, A_interval = 2 * np.pi * 10000e6, 500e6\n",
    "center_detuning = 2 * np.pi * 0.31092e9"
   ]
  },
  {
   "cell_type": "code",
   "execution_count": 3,
   "id": "fb4f3bb8-fa15-4c37-8f6c-aefeeaf7f814",
   "metadata": {},
   "outputs": [],
   "source": [
    "def omega(t, args):\n",
    "    return args[\"O\"] * np.sin(np.pi * t / args[\"sigma\"]) * np.heaviside(t, 1) * np.heaviside(args[\"sigma\"] - t, 1)\n"
   ]
  },
  {
   "cell_type": "code",
   "execution_count": 4,
   "id": "b0ecbf6f-894b-4429-a867-3563a07e70f6",
   "metadata": {},
   "outputs": [],
   "source": [
    "rho0 = qutip.Qobj(\n",
    "    np.diag(np.maximum(0, 1 - np.arange(num_levels)))\n",
    ")\n",
    "options = qutip.Options()\n",
    "options.nsteps = 1000\n",
    "tlist = np.linspace(0, sigma, num_t)\n",
    "d_range = np.linspace(\n",
    "    center_detuning - d_interval / 2, \n",
    "    center_detuning + d_interval / 2, \n",
    "    d_num\n",
    ")\n",
    "A_range = np.linspace(0, A_interval, A_num)\n"
   ]
  },
  {
   "cell_type": "code",
   "execution_count": 5,
   "id": "6c9478fb-b2aa-4eb8-92c3-b4936b962c08",
   "metadata": {},
   "outputs": [],
   "source": [
    "tr_probs = []\n",
    "for n_d, d in enumerate(d_range):\n",
    "    values = []\n",
    "    for n_A, A in enumerate(A_range):\n",
    "        \n",
    "        # Define the Hamiltonian (you will need to add your own Hamiltonian terms)\n",
    "        H0 = d * 0.5 * qutip.Qobj(np.diag(np.maximum(0, np.arange(num_levels) - 1) * (np.maximum(0, np.arange(num_levels)))))\n",
    "        H1 = 0.5 * qutip.Qobj(\n",
    "            np.diag(np.sqrt(np.arange(num_levels-1) + 1), -1) \\\n",
    "            + np.diag(np.sqrt(np.arange(num_levels-1) + 1), 1) \n",
    "        ) \n",
    "#         H0 = 0.5 * d * qutip.Qobj([[0,0,0,0,0,0,0,0],\n",
    "#                                    [0,0,0,0,0,0,0,0],\n",
    "#                                    [0,0,1,0,0,0,0,0],\n",
    "#                                    [0,0,0,2,0,0,0,0],\n",
    "#                                    [0,0,0,0,3,0,0,0],\n",
    "#                                    [0,0,0,0,0,4,0,0],\n",
    "#                                    [0,0,0,0,0,0,5,0],\n",
    "#                                    [0,0,0,0,0,0,0,6]])\n",
    "#         H1 = 0.5 * qutip.Qobj([[0,1,0,0,0,0,0,0],\n",
    "#                                [1,0,np.sqrt(2),0,0,0,0,0],\n",
    "#                                [0,np.sqrt(2),0,np.sqrt(3),0,0,0,0],\n",
    "#                                [0,0,np.sqrt(3),1/4,np.sqrt(4),0,0,0],\n",
    "#                                [0,0,0,np.sqrt(4),3/4,np.sqrt(5),0,0],\n",
    "#                                [0,0,0,0,np.sqrt(5),3/2,np.sqrt(6),0],\n",
    "#                                [0,0,0,0,0,np.sqrt(6),5/2,np.sqrt(7)],\n",
    "#                                [0,0,0,0,0,0,np.sqrt(7),15/4],])\n",
    "        output = qutip.mesolve(\n",
    "            [\n",
    "                H0, \n",
    "                [H1, omega]\n",
    "            ],\n",
    "            rho0=rho0,\n",
    "            args={\"O\": A, \"sigma\": sigma},\n",
    "            tlist=tlist,\n",
    "            options=options\n",
    "        )\n",
    "        values.append(output.states[-1])\n",
    "        \n",
    "    tr_probs.append(values)\n"
   ]
  },
  {
   "cell_type": "code",
   "execution_count": 6,
   "id": "5e062d2f",
   "metadata": {},
   "outputs": [],
   "source": [
    "tr_probs = np.array(tr_probs)"
   ]
  },
  {
   "cell_type": "code",
   "execution_count": 7,
   "id": "7ae27a76-dffb-4c7a-bbdb-666e14812e7d",
   "metadata": {},
   "outputs": [],
   "source": [
    "leakage = np.zeros((d_num, A_num))\n",
    "for d in range(d_num):\n",
    "    for A in range(A_num):\n",
    "        leakage_dA = 0\n",
    "        for i in range(2,num_levels):\n",
    "            leakage_dA += np.abs(tr_probs[d][A][i,i])\n",
    "        leakage[d, A] = leakage_dA\n"
   ]
  },
  {
   "cell_type": "code",
   "execution_count": 8,
   "id": "dc038632-3452-468c-9a6a-c083684bae7d",
   "metadata": {},
   "outputs": [
    {
     "data": {
      "text/plain": [
       "<matplotlib.image.AxesImage at 0x1a8403ee890>"
      ]
     },
     "execution_count": 8,
     "metadata": {},
     "output_type": "execute_result"
    },
    {
     "data": {
      "image/png": "[encoded data removed]",
      "text/plain": [
       "<Figure size 640x480 with 1 Axes>"
      ]
     },
     "metadata": {},
     "output_type": "display_data"
    }
   ],
   "source": [
    "fig1, ax1 = plt.subplots(1,1)\n",
    "ax1.imshow(leakage.T,origin=\"lower\")"
   ]
  },
  {
   "cell_type": "code",
   "execution_count": 9,
   "id": "1537e978",
   "metadata": {},
   "outputs": [],
   "source": [
    "leakage_to_very_high_levels = np.einsum('ijkk', np.abs(tr_probs)[:, :, 3:, 3:])"
   ]
  },
  {
   "cell_type": "code",
   "execution_count": 10,
   "id": "79083e97",
   "metadata": {},
   "outputs": [
    {
     "data": {
      "text/plain": [
       "<matplotlib.image.AxesImage at 0x1a8400f9190>"
      ]
     },
     "execution_count": 10,
     "metadata": {},
     "output_type": "execute_result"
    },
    {
     "data": {
      "image/png": "[encoded data removed]",
      "text/plain": [
       "<Figure size 640x480 with 1 Axes>"
      ]
     },
     "metadata": {},
     "output_type": "display_data"
    }
   ],
   "source": [
    "fig3, ax3 = plt.subplots(1,1)\n",
    "ax3.imshow((leakage - leakage_to_very_high_levels).T,origin=\"lower\")"
   ]
  },
  {
   "cell_type": "code",
   "execution_count": 11,
   "id": "b75555df-8db6-47b7-8732-fdee81a20b7d",
   "metadata": {},
   "outputs": [],
   "source": [
    "tr = np.abs(tr_probs[:, :, 1, 1])"
   ]
  },
  {
   "cell_type": "code",
   "execution_count": 12,
   "id": "db62e2f0-bd42-4a1b-9292-0d6d44540398",
   "metadata": {},
   "outputs": [
    {
     "data": {
      "text/plain": [
       "<matplotlib.image.AxesImage at 0x1a842aa5c10>"
      ]
     },
     "execution_count": 12,
     "metadata": {},
     "output_type": "execute_result"
    },
    {
     "data": {
      "image/png": "[encoded data removed]",
      "text/plain": [
       "<Figure size 640x480 with 1 Axes>"
      ]
     },
     "metadata": {},
     "output_type": "display_data"
    }
   ],
   "source": [
    "fig2, ax2 = plt.subplots(1,1)\n",
    "ax2.imshow(tr.T,origin=\"lower\")"
   ]
  },
  {
   "cell_type": "code",
   "execution_count": 13,
   "id": "ed355f8f-6f68-4089-b0f5-e09e1a3d77d7",
   "metadata": {},
   "outputs": [
    {
     "name": "stdout",
     "output_type": "stream",
     "text": [
      "0.99986200209775\n"
     ]
    }
   ],
   "source": [
    "print(tr.max())"
   ]
  },
  {
   "cell_type": "code",
   "execution_count": null,
   "id": "05e81ae8",
   "metadata": {},
   "outputs": [],
   "source": []
  },
  {
   "cell_type": "code",
   "execution_count": null,
   "id": "c4ad0581",
   "metadata": {},
   "outputs": [],
   "source": []
  }
 ],
 "metadata": {
  "kernelspec": {
   "display_name": "Python 3 (ipykernel)",
   "language": "python",
   "name": "python3"
  },
  "language_info": {
   "codemirror_mode": {
    "name": "ipython",
    "version": 3
   },
   "file_extension": ".py",
   "mimetype": "text/x-python",
   "name": "python",
   "nbconvert_exporter": "python",
   "pygments_lexer": "ipython3",
   "version": "3.11.2"
  }
 },
 "nbformat": 4,
 "nbformat_minor": 5
}
