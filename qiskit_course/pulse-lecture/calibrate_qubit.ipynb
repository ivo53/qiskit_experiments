{
 "cells": [
  {
   "cell_type": "markdown",
   "id": "c73d731d-11ae-4270-bc34-8b99db9b2e9c",
   "metadata": {
    "tags": []
   },
   "source": [
    "## 1st Part: Calibrate Driving Frequency"
   ]
  },
  {
   "cell_type": "code",
   "execution_count": 1,
   "id": "c68314b2-eedf-4067-9b51-fdd65d8c09fc",
   "metadata": {},
   "outputs": [
    {
     "name": "stderr",
     "output_type": "stream",
     "text": [
      "<frozen importlib._bootstrap>:219: RuntimeWarning: scipy._lib.messagestream.MessageStream size changed, may indicate binary incompatibility. Expected 56 from C header, got 64 from PyObject\n"
     ]
    }
   ],
   "source": [
    "import numpy as np\n",
    "import matplotlib.pyplot as plt\n",
    "from scipy.optimize import curve_fit\n",
    "\n",
    "from qiskit.tools.jupyter import *\n",
    "from qiskit import IBMQ, execute\n",
    "from qiskit import pulse                  # This is where we access all of our Pulse features!\n",
    "from qiskit.circuit import Parameter      # This is Parameter Class for variable parameters.\n",
    "from qiskit.pulse import library as pulse_lib\n",
    "from qiskit.tools.monitor import job_monitor"
   ]
  },
  {
   "cell_type": "code",
   "execution_count": 2,
   "id": "df4df76b-e14e-46f0-a64a-a53c1a062990",
   "metadata": {},
   "outputs": [],
   "source": [
    "provider = IBMQ.load_account()\n",
    "backend = provider.get_backend(\"ibmq_armonk\")\n",
    "backend_config = backend.configuration()\n",
    "assert backend_config.open_pulse, \"Backend doesn't support Pulse\""
   ]
  },
  {
   "cell_type": "code",
   "execution_count": 3,
   "id": "958d36ae-4922-4576-9d81-61ea081093d5",
   "metadata": {},
   "outputs": [
    {
     "name": "stdout",
     "output_type": "stream",
     "text": [
      "Sampling time: 0.2222222222222222 ns\n"
     ]
    }
   ],
   "source": [
    "dt = backend_config.dt\n",
    "print(f\"Sampling time: {dt*1e9} ns\")\n",
    "\n",
    "backend_defaults = backend.defaults()"
   ]
  },
  {
   "cell_type": "code",
   "execution_count": 4,
   "id": "e46b6a7f-80f7-46c1-ab23-ebb8928aaeaa",
   "metadata": {},
   "outputs": [],
   "source": [
    "# unit conversion factors -> all backend properties returned in SI (Hz, sec, etc.)\n",
    "GHz = 1.0e9 # Gigahertz\n",
    "MHz = 1.0e6 # Megahertz\n",
    "us = 1.0e-6 # Microseconds\n",
    "ns = 1.0e-9 # Nanoseconds\n",
    "# We will find the qubit frequency for the following qubit.\n",
    "qubit = 0\n",
    "# We will define memory slot channel 0.\n",
    "mem_slot = 0"
   ]
  },
  {
   "cell_type": "code",
   "execution_count": 5,
   "id": "07f4365f-00b3-45c5-a848-d5e4ec49d258",
   "metadata": {},
   "outputs": [],
   "source": [
    "# samples need to be multiples of 16\n",
    "def get_closest_multiple_of_16(num):\n",
    "    return int(num + 8 ) - (int(num + 8 ) % 16)\n",
    "\n",
    "# Convert seconds to dt\n",
    "def get_dt_from(sec):\n",
    "    return get_closest_multiple_of_16(sec/dt)"
   ]
  },
  {
   "cell_type": "code",
   "execution_count": 6,
   "id": "6b6db07a-b056-4802-b750-f01fb6f604bf",
   "metadata": {},
   "outputs": [
    {
     "name": "stdout",
     "output_type": "stream",
     "text": [
      "Qubit 0 has an estimated frequency of 4.971683004356552 GHz.\n"
     ]
    }
   ],
   "source": [
    "# The sweep will be centered around the estimated qubit frequency.\n",
    "center_frequency_Hz = backend_defaults.qubit_freq_est[qubit]        # The default frequency is given in Hz\n",
    "                                                                    # warning: this will change in a future release\n",
    "print(f\"Qubit {qubit} has an estimated frequency of {center_frequency_Hz / GHz} GHz.\")"
   ]
  },
  {
   "cell_type": "code",
   "execution_count": 7,
   "id": "100d9c2d-b407-4b7d-8045-db8c2f3784ea",
   "metadata": {},
   "outputs": [],
   "source": [
    "frequency_span_Hz = 20 * MHz\n",
    "frequency_step_Hz = np.round(frequency_span_Hz / 100, 3) #(1/4) * MHz"
   ]
  },
  {
   "cell_type": "code",
   "execution_count": 8,
   "id": "38f58cdb-3980-455f-89e5-8cb9869afab7",
   "metadata": {},
   "outputs": [],
   "source": [
    "# We will sweep 20 MHz above and 20 MHz below the estimated frequency\n",
    "frequency_min = center_frequency_Hz - frequency_span_Hz / 2\n",
    "frequency_max = center_frequency_Hz + frequency_span_Hz / 2\n",
    "# Construct an np array of the frequencies for our experiment\n",
    "frequencies_GHz = np.arange(frequency_min / GHz, \n",
    "                            frequency_max / GHz, \n",
    "                            frequency_step_Hz / GHz)"
   ]
  },
  {
   "cell_type": "code",
   "execution_count": 9,
   "id": "9badd5c3-52e4-42d9-aec8-b99dcb140d72",
   "metadata": {},
   "outputs": [],
   "source": [
    "pulse_sigma = get_dt_from(0.05 * us)\n",
    "pulse_duration = 8 * pulse_sigma\n",
    "pulse_amp = 0.75 # max 1."
   ]
  },
  {
   "cell_type": "code",
   "execution_count": 10,
   "id": "c83d08ea-06cb-411e-beb1-cb5c704496e7",
   "metadata": {},
   "outputs": [],
   "source": [
    "freq = Parameter('freq')\n",
    "with pulse.build(backend=backend, default_alignment=\"sequential\", name=\"base_schedule\") as schedule:\n",
    "    pulse.set_frequency(freq, pulse.drive_channel(qubit))\n",
    "    pulse.play(\n",
    "        pulse_lib.Gaussian(\n",
    "            duration=pulse_duration,\n",
    "            sigma=pulse_sigma,\n",
    "            amp=pulse_amp,\n",
    "            name=\"gauss_pulse\"\n",
    "        ),\n",
    "        pulse.drive_channel(qubit)\n",
    "    )\n",
    "    pulse.measure(\n",
    "        qubits=[qubit],\n",
    "        registers=[pulse.MemorySlot(mem_slot)]\n",
    "    )"
   ]
  },
  {
   "cell_type": "code",
   "execution_count": 11,
   "id": "3b5b8824-8b9b-4518-8694-22515cc044fd",
   "metadata": {},
   "outputs": [],
   "source": [
    "frequencies_Hz = frequencies_GHz*GHz\n",
    "schedules = [\n",
    "    schedule.assign_parameters(\n",
    "        {freq: f},\n",
    "        inplace=False\n",
    "    ) for f in frequencies_Hz\n",
    "]"
   ]
  },
  {
   "cell_type": "code",
   "execution_count": 13,
   "id": "3e5e02b1-893d-40d0-b6b6-fe882c953a89",
   "metadata": {},
   "outputs": [
    {
     "data": {
      "image/png": "[encoded data removed]",
      "text/plain": [
       "<Figure size 936x237.6 with 1 Axes>"
      ]
     },
     "execution_count": 13,
     "metadata": {},
     "output_type": "execute_result"
    }
   ],
   "source": [
    "schedules[-5].draw(backend=backend)"
   ]
  },
  {
   "cell_type": "code",
   "execution_count": 14,
   "id": "7622754d-2399-429c-aead-9792be9be5fd",
   "metadata": {},
   "outputs": [],
   "source": [
    "num_schedules = len(schedules)\n",
    "num_shots = 2048\n"
   ]
  },
  {
   "cell_type": "code",
   "execution_count": 15,
   "id": "da06deed-d4ca-450e-b25e-de6f53f2fba1",
   "metadata": {},
   "outputs": [
    {
     "name": "stdout",
     "output_type": "stream",
     "text": [
      "Job Status: job has successfully run\n"
     ]
    }
   ],
   "source": [
    "job = execute(\n",
    "    schedules,\n",
    "    backend=backend,\n",
    "    meas_level=1,\n",
    "    meas_return='avg',\n",
    "    shots=num_shots\n",
    ")\n",
    "job_monitor(job)\n"
   ]
  },
  {
   "cell_type": "code",
   "execution_count": 16,
   "id": "8102f67c-e74e-4d17-8e1f-e717b3c3149b",
   "metadata": {},
   "outputs": [],
   "source": [
    "result = job.result()"
   ]
  },
  {
   "cell_type": "code",
   "execution_count": 17,
   "id": "2a00422d-557c-4392-96de-9fb090b11a76",
   "metadata": {},
   "outputs": [],
   "source": [
    "measured_signals = []\n",
    "for i in range(num_schedules):\n",
    "    # Get the results from the ith experiment\n",
    "    results = result.get_memory(i) * 1e-14\n",
    "    # Get the results for `qubit` from this experiment\n",
    "    measured_signals.append(results[qubit])\n",
    "measured_signals = np.array(measured_signals)\n"
   ]
  },
  {
   "cell_type": "code",
   "execution_count": 18,
   "id": "3c73d6f8-0dcf-4804-ac36-6c74901c4cbd",
   "metadata": {},
   "outputs": [
    {
     "name": "stdout",
     "output_type": "stream",
     "text": [
      "JobID: 62986a936caa77282c4e8c40\n"
     ]
    }
   ],
   "source": [
    "job_id = job.job_id()\n",
    "print(\"JobID:\", job_id)"
   ]
  },
  {
   "cell_type": "code",
   "execution_count": 19,
   "id": "0532169e-cf73-4acc-bda5-5f891991f2e3",
   "metadata": {},
   "outputs": [],
   "source": [
    "# print(\"measured_signals =\", measured_signals)"
   ]
  },
  {
   "cell_type": "code",
   "execution_count": 20,
   "id": "97a675fb-7084-4993-9198-689e01d01406",
   "metadata": {},
   "outputs": [
    {
     "data": {
      "image/png": "[encoded data removed]",
      "text/plain": [
       "<Figure size 432x288 with 1 Axes>"
      ]
     },
     "metadata": {
      "needs_background": "light"
     },
     "output_type": "display_data"
    }
   ],
   "source": [
    "plt.figure(1)\n",
    "plt.plot(frequencies_GHz, np.real(measured_signals), 'bx') # plot real part of sweep values\n",
    "plt.xlim([min(frequencies_GHz), max(frequencies_GHz)])\n",
    "plt.title(\"Drive Frequency Calibration Curve\")\n",
    "plt.xlabel(\"Frequency [GHz]\")\n",
    "plt.ylabel(\"Measured Signal [a.u.]\")\n",
    "plt.show()"
   ]
  },
  {
   "cell_type": "code",
   "execution_count": 21,
   "id": "3d4cdcd2-1ef8-481d-8efb-7b037964d11f",
   "metadata": {},
   "outputs": [],
   "source": [
    "def fit_function(x_values, y_values, function, init_params):\n",
    "    fitparams, conv = curve_fit(function, x_values, y_values, init_params)#, maxfev=100000)\n",
    "    y_fit = function(x_values, *fitparams)\n",
    "    \n",
    "    return fitparams, y_fit\n",
    "\n",
    "fit_params, y_fit = fit_function(frequencies_GHz,\n",
    "                                 np.real(measured_signals), \n",
    "                                 lambda x, A, q_freq, B, C: (A / np.pi) * (B / ((x - q_freq)**2 + B**2)) + C,\n",
    "                                 [0.3, 4.975, 0.2, 0] # initial parameters for curve_fit\n",
    "                                )"
   ]
  },
  {
   "cell_type": "code",
   "execution_count": 22,
   "id": "90d460e1-444d-4079-99d9-d23c63898627",
   "metadata": {},
   "outputs": [
    {
     "data": {
      "image/png": "[encoded data removed]",
      "text/plain": [
       "<Figure size 432x288 with 1 Axes>"
      ]
     },
     "metadata": {
      "needs_background": "light"
     },
     "output_type": "display_data"
    }
   ],
   "source": [
    "plt.figure(2)\n",
    "plt.scatter(frequencies_GHz, np.real(measured_signals), color='black')\n",
    "plt.plot(frequencies_GHz, y_fit, color='red')\n",
    "plt.xlim([min(frequencies_GHz), max(frequencies_GHz)])\n",
    "plt.title(\"Fitted Drive Frequency Calibration Curve\")\n",
    "plt.xlabel(\"Frequency [GHz]\")\n",
    "plt.ylabel(\"Measured Signal [a.u.]\")\n",
    "# plt.savefig(os.path.join(save_dir, date.strftime(\"%H%M%S\") + f\"_{pulse_type}_frequency_sweep_fitted.png\"))\n",
    "plt.show()\n"
   ]
  },
  {
   "cell_type": "code",
   "execution_count": 23,
   "id": "e75839a7-d92a-45c9-b3ce-ce0665314c7d",
   "metadata": {},
   "outputs": [
    {
     "name": "stdout",
     "output_type": "stream",
     "text": [
      "We've updated our qubit frequency estimate from 4.97168 GHz to 4.97176 GHz.\n"
     ]
    }
   ],
   "source": [
    "A, rough_qubit_frequency, B, C = fit_params\n",
    "rough_qubit_frequency = rough_qubit_frequency*GHz # make sure qubit freq is in Hz\n",
    "print(f\"We've updated our qubit frequency estimate from \"\n",
    "      f\"{round(backend_defaults.qubit_freq_est[qubit] / GHz, 5)} GHz to {round(rough_qubit_frequency/GHz, 5)} GHz.\")\n"
   ]
  },
  {
   "cell_type": "markdown",
   "id": "840c16b4-7c6f-484e-ac85-92a967db0531",
   "metadata": {
    "tags": []
   },
   "source": [
    "## 2nd part: Calibrate Pulse Area"
   ]
  },
  {
   "cell_type": "code",
   "execution_count": 24,
   "id": "de91301e-f17c-4092-aa24-a17a105b0a77",
   "metadata": {},
   "outputs": [],
   "source": [
    "rabi_pulse_duration = .55 #us\n",
    "min_amplitude, max_amplitude = 0.001, 0.65 # max 1\n",
    "rabi_num_exp = 100\n",
    "amplitudes = np.linspace(\n",
    "    min_amplitude, \n",
    "    max_amplitude, \n",
    "    rabi_num_exp\n",
    ")\n",
    "rabi_pulse_duration = get_dt_from(rabi_pulse_duration * us)\n"
   ]
  },
  {
   "cell_type": "code",
   "execution_count": 25,
   "id": "08d64cab-22c2-4c15-8efc-15bf6e9a3f80",
   "metadata": {},
   "outputs": [],
   "source": [
    "amp = Parameter('amp')\n",
    "with pulse.build(backend=backend, default_alignment=\"sequential\", name=\"base_schedule\") as rabi_schedule:\n",
    "    pulse.set_frequency(rough_qubit_frequency, pulse.drive_channel(qubit))\n",
    "    pulse.play(\n",
    "        pulse_lib.Constant(\n",
    "            duration=rabi_pulse_duration,\n",
    "            amp=amp,\n",
    "            name=\"rect_pulse\"\n",
    "        ),\n",
    "        pulse.drive_channel(qubit)\n",
    "    )\n",
    "    pulse.measure(\n",
    "        qubits=[qubit],\n",
    "        registers=[pulse.MemorySlot(mem_slot)]\n",
    "    )"
   ]
  },
  {
   "cell_type": "code",
   "execution_count": 26,
   "id": "0b686e31-8be1-4364-ad78-179593f777e8",
   "metadata": {},
   "outputs": [],
   "source": [
    "frequencies_Hz = frequencies_GHz*GHz\n",
    "rabi_schedules = [\n",
    "    rabi_schedule.assign_parameters(\n",
    "        {amp: a},\n",
    "        inplace=False\n",
    "    ) for a in amplitudes\n",
    "]"
   ]
  },
  {
   "cell_type": "code",
   "execution_count": 27,
   "id": "f7bc7260-b618-4d92-bbfc-17ff9814681e",
   "metadata": {},
   "outputs": [
    {
     "data": {
      "image/png": "[encoded data removed]",
      "text/plain": [
       "<Figure size 936x237.6 with 1 Axes>"
      ]
     },
     "execution_count": 27,
     "metadata": {},
     "output_type": "execute_result"
    }
   ],
   "source": [
    "rabi_schedules[-2].draw(backend=backend)"
   ]
  },
  {
   "cell_type": "code",
   "execution_count": 28,
   "id": "c94424b4-9144-48a1-a207-84184fddaef9",
   "metadata": {},
   "outputs": [],
   "source": [
    "rabi_num_schedules = len(rabi_schedules)\n",
    "rabi_num_shots = 2048\n"
   ]
  },
  {
   "cell_type": "code",
   "execution_count": 29,
   "id": "5331e0f8-bf15-4764-9730-c1db6efa52e2",
   "metadata": {},
   "outputs": [
    {
     "name": "stdout",
     "output_type": "stream",
     "text": [
      "Job Status: job has successfully run\n"
     ]
    }
   ],
   "source": [
    "rabi_job = execute(\n",
    "    rabi_schedules,\n",
    "    backend=backend,\n",
    "    meas_level=1,\n",
    "    meas_return='avg',\n",
    "    shots=rabi_num_shots\n",
    ")\n",
    "job_monitor(rabi_job)\n"
   ]
  },
  {
   "cell_type": "code",
   "execution_count": 30,
   "id": "e29ab43c-16e1-411b-8d8b-4c972332853f",
   "metadata": {},
   "outputs": [],
   "source": [
    "rabi_result = rabi_job.result()"
   ]
  },
  {
   "cell_type": "code",
   "execution_count": 31,
   "id": "8c0b1acd-a7f4-4310-adbf-ac959cc719ae",
   "metadata": {},
   "outputs": [],
   "source": [
    "rabi_measured_signals = []\n",
    "for i in range(rabi_num_schedules):\n",
    "    # Get the results from the ith experiment\n",
    "    results = rabi_result.get_memory(i) * 1e-14\n",
    "    # Get the results for `qubit` from this experiment\n",
    "    rabi_measured_signals.append(results[qubit])\n",
    "rabi_measured_signals = np.array(rabi_measured_signals)\n"
   ]
  },
  {
   "cell_type": "code",
   "execution_count": 32,
   "id": "9300e803-c57c-4d0b-9ac5-affed404bfd6",
   "metadata": {},
   "outputs": [
    {
     "name": "stdout",
     "output_type": "stream",
     "text": [
      "RabiJobID: 62986d6fe9eab5fb31ba8fd9\n"
     ]
    }
   ],
   "source": [
    "rabi_job_id = rabi_job.job_id()\n",
    "print(\"RabiJobID:\", rabi_job_id)"
   ]
  },
  {
   "cell_type": "code",
   "execution_count": 33,
   "id": "47253a3c-52b5-46a7-8191-c768d0064dd3",
   "metadata": {},
   "outputs": [
    {
     "data": {
      "image/png": "[encoded data removed]",
      "text/plain": [
       "<Figure size 432x288 with 1 Axes>"
      ]
     },
     "metadata": {
      "needs_background": "light"
     },
     "output_type": "display_data"
    }
   ],
   "source": [
    "plt.figure(3)\n",
    "plt.plot(amplitudes, np.real(rabi_measured_signals), 'gx')\n",
    "plt.xlim([min(amplitudes), max(amplitudes)])\n",
    "plt.title(\"Rabi Calibration Curve\")\n",
    "plt.xlabel(\"Amplitude [a.u.]\")\n",
    "plt.ylabel(\"Measured Signal [a.u.]\")\n",
    "plt.show()"
   ]
  },
  {
   "cell_type": "code",
   "execution_count": 34,
   "id": "26a9eefb-d725-48b2-9729-c680a664c27d",
   "metadata": {},
   "outputs": [],
   "source": [
    "fit_crop_parameter = int(0.6 * len(amplitudes))\n"
   ]
  },
  {
   "cell_type": "code",
   "execution_count": 35,
   "id": "f2c281ad-c637-4ad4-93a9-1663dbca1b63",
   "metadata": {},
   "outputs": [],
   "source": [
    "rabi_fit_params, rabi_y_fit = fit_function(\n",
    "    amplitudes[: fit_crop_parameter],\n",
    "    np.real(rabi_measured_signals[: fit_crop_parameter]), \n",
    "    lambda x, A, k, B: A * (np.cos(k * (x))) + B,\n",
    "    [-3, 55, -8.5] # initial parameters for curve_fit\n",
    ")\n"
   ]
  },
  {
   "cell_type": "code",
   "execution_count": 36,
   "id": "8e99d47b-70a2-412f-b17c-efb94c77dfb2",
   "metadata": {},
   "outputs": [
    {
     "name": "stdout",
     "output_type": "stream",
     "text": [
      "[-2.65653726 61.61643593 -8.49078132]\n"
     ]
    }
   ],
   "source": [
    "print(rabi_fit_params)\n",
    "A, k, B = rabi_fit_params\n",
    "pi_amp = np.pi / (k)\n",
    "extended_y_fit = A * (np.cos(k * (amplitudes))) + B\n"
   ]
  },
  {
   "cell_type": "code",
   "execution_count": 37,
   "id": "33391936-80b5-4b00-b143-f2f98b3fe702",
   "metadata": {},
   "outputs": [
    {
     "data": {
      "image/png": "[encoded data removed]",
      "text/plain": [
       "<Figure size 432x288 with 1 Axes>"
      ]
     },
     "metadata": {
      "needs_background": "light"
     },
     "output_type": "display_data"
    }
   ],
   "source": [
    "plt.figure(4)\n",
    "plt.scatter(amplitudes, np.real(rabi_measured_signals), color='black')\n",
    "plt.plot(amplitudes, extended_y_fit, color='red')\n",
    "plt.xlim([min(amplitudes), max(amplitudes)])\n",
    "plt.title(\"Fitted Rabi Calibration Curve\")\n",
    "plt.xlabel(\"Amplitude [a.u.]\")\n",
    "plt.ylabel(\"Measured Signal [a.u.]\")\n",
    "# plt.savefig(os.path.join(save_dir, date.strftime(\"%H%M%S\") + \"_pi_amp_sweep_fitted.png\"))\n",
    "plt.show()"
   ]
  },
  {
   "cell_type": "code",
   "execution_count": 38,
   "id": "f152c762-ac2d-4940-87d9-5f281c922c7f",
   "metadata": {},
   "outputs": [
    {
     "data": {
      "text/plain": [
       "0.05098627672979268"
      ]
     },
     "execution_count": 38,
     "metadata": {},
     "output_type": "execute_result"
    }
   ],
   "source": [
    "pi_amp"
   ]
  },
  {
   "cell_type": "code",
   "execution_count": 39,
   "id": "6b6f03a1-6cf2-49ba-a65e-387666ed3b2d",
   "metadata": {},
   "outputs": [
    {
     "data": {
      "text/plain": [
       "2480"
      ]
     },
     "execution_count": 39,
     "metadata": {},
     "output_type": "execute_result"
    }
   ],
   "source": [
    "rabi_pulse_duration"
   ]
  },
  {
   "cell_type": "code",
   "execution_count": null,
   "id": "63870163-a116-4851-adf7-e97fdeb51d63",
   "metadata": {},
   "outputs": [],
   "source": []
  }
 ],
 "metadata": {
  "kernelspec": {
   "display_name": "Qiskit v0.35.0 (ipykernel)",
   "language": "python",
   "name": "python3"
  },
  "language_info": {
   "codemirror_mode": {
    "name": "ipython",
    "version": 3
   },
   "file_extension": ".py",
   "mimetype": "text/x-python",
   "name": "python",
   "nbconvert_exporter": "python",
   "pygments_lexer": "ipython3",
   "version": "3.8.13"
  },
  "widgets": {
   "application/vnd.jupyter.widget-state+json": {
    "state": {
     "02ebc3ee092e42779ffdd0cfd95e523a": {
      "model_module": "@jupyter-widgets/controls",
      "model_module_version": "1.5.0",
      "model_name": "HTMLModel",
      "state": {
       "layout": "IPY_MODEL_34d9c1a469e7473dba13890b40f41aa9",
       "style": "IPY_MODEL_40caab001f8d4932935bd105479525bc",
       "value": "job has successfully run"
      }
     },
     "07b12b744c094711a6ca85fa1e8c81c3": {
      "model_module": "@jupyter-widgets/base",
      "model_module_version": "1.2.0",
      "model_name": "LayoutModel",
      "state": {
       "width": "190px"
      }
     },
     "0af5058e9c8d4f9ea5485c27efe27ebe": {
      "model_module": "@jupyter-widgets/controls",
      "model_module_version": "1.5.0",
      "model_name": "HTMLModel",
      "state": {
       "layout": "IPY_MODEL_07b12b744c094711a6ca85fa1e8c81c3",
       "style": "IPY_MODEL_bc22fa1f5d664ad78f8e28d97f3b86a8",
       "value": "62986d6fe9eab5fb31ba8fd9"
      }
     },
     "13b8b5e2c4554a3b98c1205b49cc5dfa": {
      "model_module": "@jupyter-widgets/base",
      "model_module_version": "1.2.0",
      "model_name": "LayoutModel",
      "state": {
       "grid_area": "right",
       "padding": "0px 0px 0px 0px",
       "width": "70px"
      }
     },
     "194a50a714d54b5281fca4a333405cb2": {
      "model_module": "@jupyter-widgets/base",
      "model_module_version": "1.2.0",
      "model_name": "LayoutModel",
      "state": {
       "width": "70px"
      }
     },
     "1e3d46b4afa44a08a37c2aee5cf48aeb": {
      "model_module": "@jupyter-widgets/base",
      "model_module_version": "1.2.0",
      "model_name": "LayoutModel",
      "state": {
       "max_width": "700px",
       "min_width": "700px"
      }
     },
     "1f0fff4cf05848f89d5e4a6b8058a9a1": {
      "model_module": "@jupyter-widgets/controls",
      "model_module_version": "1.5.0",
      "model_name": "DescriptionStyleModel",
      "state": {
       "description_width": ""
      }
     },
     "298d70e0c48a4cddbe58cf1b19f79f65": {
      "model_module": "@jupyter-widgets/controls",
      "model_module_version": "1.5.0",
      "model_name": "HTMLModel",
      "state": {
       "layout": "IPY_MODEL_6bd94c0994fa4444ba481f6992f0c58b",
       "style": "IPY_MODEL_85803d40dae34f23a78bf86a6f242432",
       "value": "-"
      }
     },
     "2c08b3214d764b9da9e313af06fc578f": {
      "model_module": "@jupyter-widgets/controls",
      "model_module_version": "1.5.0",
      "model_name": "HTMLModel",
      "state": {
       "layout": "IPY_MODEL_194a50a714d54b5281fca4a333405cb2",
       "style": "IPY_MODEL_992347b2261045e4a88f6c4a5c0993a7",
       "value": "-"
      }
     },
     "3042f5ef4fa54268ad6bf3228ef02aa6": {
      "model_module": "@jupyter-widgets/controls",
      "model_module_version": "1.5.0",
      "model_name": "DescriptionStyleModel",
      "state": {
       "description_width": ""
      }
     },
     "33415b067de14c388da9686214286c4a": {
      "model_module": "@jupyter-widgets/controls",
      "model_module_version": "1.5.0",
      "model_name": "HTMLModel",
      "state": {
       "layout": "IPY_MODEL_580aff58b0db49c183f5a05a27049801",
       "style": "IPY_MODEL_c005759cc4694f3ebcadc8fbc0420f8c",
       "value": "<h5>Status</h5>"
      }
     },
     "347afc43981940458df0a8b1cf792651": {
      "model_module": "@jupyter-widgets/base",
      "model_module_version": "1.2.0",
      "model_name": "LayoutModel",
      "state": {
       "width": "145px"
      }
     },
     "34d9c1a469e7473dba13890b40f41aa9": {
      "model_module": "@jupyter-widgets/base",
      "model_module_version": "1.2.0",
      "model_name": "LayoutModel",
      "state": {
       "overflow_x": "scroll"
      }
     },
     "3703f0a51d104cd595ee7deb6351bda5": {
      "model_module": "@jupyter-widgets/controls",
      "model_module_version": "1.5.0",
      "model_name": "HTMLModel",
      "state": {
       "layout": "IPY_MODEL_5967384d3f0c44709df6354716af31b4",
       "style": "IPY_MODEL_b165e2fccb794cdeaa8f2b326eb58899",
       "value": "<h5>Message</h5>"
      }
     },
     "38952e4997ef4340970e6ef961b339eb": {
      "model_module": "@jupyter-widgets/base",
      "model_module_version": "1.2.0",
      "model_name": "LayoutModel",
      "state": {
       "width": "145px"
      }
     },
     "4005cd39e3c248678930992557d8661f": {
      "model_module": "@jupyter-widgets/controls",
      "model_module_version": "1.5.0",
      "model_name": "HTMLModel",
      "state": {
       "layout": "IPY_MODEL_d7f98afcb46a426286f13698571872e3",
       "style": "IPY_MODEL_5bf6963b152940249f128b19373280ca",
       "value": "62986a936caa77282c4e8c40"
      }
     },
     "40756c75f9c04152b3281c97eddf1095": {
      "model_module": "@jupyter-widgets/controls",
      "model_module_version": "1.5.0",
      "model_name": "HTMLModel",
      "state": {
       "layout": "IPY_MODEL_85ed929421a24b36a0f6a1105f9d0d7e",
       "style": "IPY_MODEL_5c218542029a4fd2a85c291ea0754d36",
       "value": "<p style='font-family: IBM Plex Sans, Arial, Helvetica, sans-serif; font-size: 20px; font-weight: medium;'>Circuit Properties</p>"
      }
     },
     "40caab001f8d4932935bd105479525bc": {
      "model_module": "@jupyter-widgets/controls",
      "model_module_version": "1.5.0",
      "model_name": "DescriptionStyleModel",
      "state": {
       "description_width": ""
      }
     },
     "42a75c9416b042258cd8a6556a219148": {
      "model_module": "@jupyter-widgets/controls",
      "model_module_version": "1.5.0",
      "model_name": "DescriptionStyleModel",
      "state": {
       "description_width": ""
      }
     },
     "45b3c9334a974d299e79066c315c1f94": {
      "model_module": "@jupyter-widgets/base",
      "model_module_version": "1.2.0",
      "model_name": "LayoutModel",
      "state": {
       "max_width": "700px",
       "min_width": "700px"
      }
     },
     "49caa9ea1d694ee6a882709f25dad1ae": {
      "model_module": "@jupyter-widgets/controls",
      "model_module_version": "1.5.0",
      "model_name": "HTMLModel",
      "state": {
       "layout": "IPY_MODEL_bace120416824cf3a2a3bedb97b07f1c",
       "style": "IPY_MODEL_d8c07a4ed2fa4870aa7810e842130f26",
       "value": "<font style='color:#34BC6E'>DONE</font>"
      }
     },
     "4bbc7894d1f94c29ad49c032d2208d69": {
      "model_module": "@jupyter-widgets/controls",
      "model_module_version": "1.5.0",
      "model_name": "DescriptionStyleModel",
      "state": {
       "description_width": ""
      }
     },
     "5605f670b72b41ffa33ffedabc0f79c3": {
      "model_module": "@jupyter-widgets/controls",
      "model_module_version": "1.5.0",
      "model_name": "DescriptionStyleModel",
      "state": {
       "description_width": ""
      }
     },
     "56ef263f25bf4157915df7db78fb055a": {
      "model_module": "@jupyter-widgets/base",
      "model_module_version": "1.2.0",
      "model_name": "LayoutModel",
      "state": {
       "width": "70px"
      }
     },
     "57cc6da6121145a9bd86e3e15e05da22": {
      "model_module": "@jupyter-widgets/controls",
      "model_module_version": "1.5.0",
      "model_name": "ButtonStyleModel",
      "state": {
       "button_color": "white"
      }
     },
     "580aff58b0db49c183f5a05a27049801": {
      "model_module": "@jupyter-widgets/base",
      "model_module_version": "1.2.0",
      "model_name": "LayoutModel",
      "state": {
       "width": "95px"
      }
     },
     "5967384d3f0c44709df6354716af31b4": {
      "model_module": "@jupyter-widgets/base",
      "model_module_version": "1.2.0",
      "model_name": "LayoutModel",
      "state": {}
     },
     "5bf6963b152940249f128b19373280ca": {
      "model_module": "@jupyter-widgets/controls",
      "model_module_version": "1.5.0",
      "model_name": "DescriptionStyleModel",
      "state": {
       "description_width": ""
      }
     },
     "5c218542029a4fd2a85c291ea0754d36": {
      "model_module": "@jupyter-widgets/controls",
      "model_module_version": "1.5.0",
      "model_name": "DescriptionStyleModel",
      "state": {
       "description_width": ""
      }
     },
     "638e2445ded14ab4925e857508eb0045": {
      "model_module": "@jupyter-widgets/base",
      "model_module_version": "1.2.0",
      "model_name": "LayoutModel",
      "state": {
       "width": "190px"
      }
     },
     "653c2e67090c478290bd5850366f5293": {
      "model_module": "@jupyter-widgets/controls",
      "model_module_version": "1.5.0",
      "model_name": "HBoxModel",
      "state": {
       "children": [
        "IPY_MODEL_bfa46a9618774327815fe9bbb9e993b5",
        "IPY_MODEL_0af5058e9c8d4f9ea5485c27efe27ebe",
        "IPY_MODEL_c5990f010d544f31b47b1dfb12b3cbe1",
        "IPY_MODEL_e6de388921e04c87a7f6c7cef5cf1b0d",
        "IPY_MODEL_298d70e0c48a4cddbe58cf1b19f79f65",
        "IPY_MODEL_d9af9e41f4fb4a898aa119c28c4e489c"
       ],
       "layout": "IPY_MODEL_1e3d46b4afa44a08a37c2aee5cf48aeb"
      }
     },
     "68e827a00ef84418ab68515c97fb7774": {
      "model_module": "@jupyter-widgets/controls",
      "model_module_version": "1.5.0",
      "model_name": "GridBoxModel",
      "state": {
       "children": [
        "IPY_MODEL_c9cb4528c6684f3790968689baa9e966"
       ],
       "layout": "IPY_MODEL_6c56696915a647b7b4ef95ce74393190"
      }
     },
     "6a824ccf401d49ae894f904f9247d473": {
      "model_module": "@jupyter-widgets/controls",
      "model_module_version": "1.5.0",
      "model_name": "ButtonStyleModel",
      "state": {
       "button_color": "white"
      }
     },
     "6bd94c0994fa4444ba481f6992f0c58b": {
      "model_module": "@jupyter-widgets/base",
      "model_module_version": "1.2.0",
      "model_name": "LayoutModel",
      "state": {
       "width": "70px"
      }
     },
     "6c56696915a647b7b4ef95ce74393190": {
      "model_module": "@jupyter-widgets/base",
      "model_module_version": "1.2.0",
      "model_name": "LayoutModel",
      "state": {
       "grid_template_areas": "\n                                       \". . . . right \"\n                                        ",
       "grid_template_columns": "20% 20% 20% 20% 20%",
       "width": "100%"
      }
     },
     "732bb7807c6f435f8ea35943e6798218": {
      "model_module": "@jupyter-widgets/base",
      "model_module_version": "1.2.0",
      "model_name": "LayoutModel",
      "state": {
       "overflow_x": "scroll"
      }
     },
     "853a9a7d72c14bc79fb71661340f8814": {
      "model_module": "@jupyter-widgets/base",
      "model_module_version": "1.2.0",
      "model_name": "LayoutModel",
      "state": {
       "width": "145px"
      }
     },
     "85803d40dae34f23a78bf86a6f242432": {
      "model_module": "@jupyter-widgets/controls",
      "model_module_version": "1.5.0",
      "model_name": "DescriptionStyleModel",
      "state": {
       "description_width": ""
      }
     },
     "85ed929421a24b36a0f6a1105f9d0d7e": {
      "model_module": "@jupyter-widgets/base",
      "model_module_version": "1.2.0",
      "model_name": "LayoutModel",
      "state": {
       "margin": "0px 0px 10px 0px"
      }
     },
     "8d5f76d34f58445ab6d30ed601d09547": {
      "model_module": "@jupyter-widgets/controls",
      "model_module_version": "1.5.0",
      "model_name": "HBoxModel",
      "state": {
       "children": [
        "IPY_MODEL_d0055073cc7b44c98cbddaf0a20f6823",
        "IPY_MODEL_cd62a167a26b48c4bb8c31802424d289",
        "IPY_MODEL_33415b067de14c388da9686214286c4a",
        "IPY_MODEL_d7397796a58142598995582e9af131ef",
        "IPY_MODEL_3703f0a51d104cd595ee7deb6351bda5"
       ],
       "layout": "IPY_MODEL_8f5066e635974a64bd94687036cca588"
      }
     },
     "8f5066e635974a64bd94687036cca588": {
      "model_module": "@jupyter-widgets/base",
      "model_module_version": "1.2.0",
      "model_name": "LayoutModel",
      "state": {
       "margin": "0px 0px 0px 37px",
       "width": "600px"
      }
     },
     "9036006e514448f68a4dcb49c95fa520": {
      "model_module": "@jupyter-widgets/controls",
      "model_module_version": "1.5.0",
      "model_name": "HTMLModel",
      "state": {
       "layout": "IPY_MODEL_853a9a7d72c14bc79fb71661340f8814",
       "style": "IPY_MODEL_3042f5ef4fa54268ad6bf3228ef02aa6",
       "value": "ibmq_armonk"
      }
     },
     "992347b2261045e4a88f6c4a5c0993a7": {
      "model_module": "@jupyter-widgets/controls",
      "model_module_version": "1.5.0",
      "model_name": "DescriptionStyleModel",
      "state": {
       "description_width": ""
      }
     },
     "a283b688807e4dff9e0771be7e00b283": {
      "model_module": "@jupyter-widgets/base",
      "model_module_version": "1.2.0",
      "model_name": "LayoutModel",
      "state": {
       "width": "95px"
      }
     },
     "b165e2fccb794cdeaa8f2b326eb58899": {
      "model_module": "@jupyter-widgets/controls",
      "model_module_version": "1.5.0",
      "model_name": "DescriptionStyleModel",
      "state": {
       "description_width": ""
      }
     },
     "bace120416824cf3a2a3bedb97b07f1c": {
      "model_module": "@jupyter-widgets/base",
      "model_module_version": "1.2.0",
      "model_name": "LayoutModel",
      "state": {
       "width": "95px"
      }
     },
     "bc22fa1f5d664ad78f8e28d97f3b86a8": {
      "model_module": "@jupyter-widgets/controls",
      "model_module_version": "1.5.0",
      "model_name": "DescriptionStyleModel",
      "state": {
       "description_width": ""
      }
     },
     "bfa46a9618774327815fe9bbb9e993b5": {
      "model_module": "@jupyter-widgets/controls",
      "model_module_version": "1.5.0",
      "model_name": "ButtonModel",
      "state": {
       "icon": "close",
       "layout": "IPY_MODEL_d5142b58031f435abd1598405f444464",
       "style": "IPY_MODEL_57cc6da6121145a9bd86e3e15e05da22"
      }
     },
     "c005759cc4694f3ebcadc8fbc0420f8c": {
      "model_module": "@jupyter-widgets/controls",
      "model_module_version": "1.5.0",
      "model_name": "DescriptionStyleModel",
      "state": {
       "description_width": ""
      }
     },
     "c5990f010d544f31b47b1dfb12b3cbe1": {
      "model_module": "@jupyter-widgets/controls",
      "model_module_version": "1.5.0",
      "model_name": "HTMLModel",
      "state": {
       "layout": "IPY_MODEL_38952e4997ef4340970e6ef961b339eb",
       "style": "IPY_MODEL_e41583e5ff9045beba2c4a3557cbfb18",
       "value": "ibmq_armonk"
      }
     },
     "c9cb4528c6684f3790968689baa9e966": {
      "model_module": "@jupyter-widgets/controls",
      "model_module_version": "1.5.0",
      "model_name": "ButtonModel",
      "state": {
       "button_style": "primary",
       "description": "Clear",
       "layout": "IPY_MODEL_13b8b5e2c4554a3b98c1205b49cc5dfa",
       "style": "IPY_MODEL_e92948e3a54a4cdab28a1b3b422d418e"
      }
     },
     "cd62a167a26b48c4bb8c31802424d289": {
      "model_module": "@jupyter-widgets/controls",
      "model_module_version": "1.5.0",
      "model_name": "HTMLModel",
      "state": {
       "layout": "IPY_MODEL_347afc43981940458df0a8b1cf792651",
       "style": "IPY_MODEL_5605f670b72b41ffa33ffedabc0f79c3",
       "value": "<h5>Backend</h5>"
      }
     },
     "d0055073cc7b44c98cbddaf0a20f6823": {
      "model_module": "@jupyter-widgets/controls",
      "model_module_version": "1.5.0",
      "model_name": "HTMLModel",
      "state": {
       "layout": "IPY_MODEL_638e2445ded14ab4925e857508eb0045",
       "style": "IPY_MODEL_1f0fff4cf05848f89d5e4a6b8058a9a1",
       "value": "<h5>Job ID</h5>"
      }
     },
     "d5142b58031f435abd1598405f444464": {
      "model_module": "@jupyter-widgets/base",
      "model_module_version": "1.2.0",
      "model_name": "LayoutModel",
      "state": {
       "margin": "0px 5px 0px 0px",
       "width": "32px"
      }
     },
     "d7397796a58142598995582e9af131ef": {
      "model_module": "@jupyter-widgets/controls",
      "model_module_version": "1.5.0",
      "model_name": "HTMLModel",
      "state": {
       "layout": "IPY_MODEL_56ef263f25bf4157915df7db78fb055a",
       "style": "IPY_MODEL_f0755ba8f14244aab20485f2aff4d3b9",
       "value": "<h5>Queue</h5>"
      }
     },
     "d7f98afcb46a426286f13698571872e3": {
      "model_module": "@jupyter-widgets/base",
      "model_module_version": "1.2.0",
      "model_name": "LayoutModel",
      "state": {
       "width": "190px"
      }
     },
     "d8c07a4ed2fa4870aa7810e842130f26": {
      "model_module": "@jupyter-widgets/controls",
      "model_module_version": "1.5.0",
      "model_name": "DescriptionStyleModel",
      "state": {
       "description_width": ""
      }
     },
     "d9af9e41f4fb4a898aa119c28c4e489c": {
      "model_module": "@jupyter-widgets/controls",
      "model_module_version": "1.5.0",
      "model_name": "HTMLModel",
      "state": {
       "layout": "IPY_MODEL_732bb7807c6f435f8ea35943e6798218",
       "style": "IPY_MODEL_4bbc7894d1f94c29ad49c032d2208d69",
       "value": "job has successfully run"
      }
     },
     "dd24158a543c4051b0efa8be7372cea2": {
      "model_module": "@jupyter-widgets/controls",
      "model_module_version": "1.5.0",
      "model_name": "HBoxModel",
      "state": {
       "children": [
        "IPY_MODEL_fdee6e8742de474b8363b10c2eaf8dfb",
        "IPY_MODEL_4005cd39e3c248678930992557d8661f",
        "IPY_MODEL_9036006e514448f68a4dcb49c95fa520",
        "IPY_MODEL_49caa9ea1d694ee6a882709f25dad1ae",
        "IPY_MODEL_2c08b3214d764b9da9e313af06fc578f",
        "IPY_MODEL_02ebc3ee092e42779ffdd0cfd95e523a"
       ],
       "layout": "IPY_MODEL_45b3c9334a974d299e79066c315c1f94"
      }
     },
     "e41583e5ff9045beba2c4a3557cbfb18": {
      "model_module": "@jupyter-widgets/controls",
      "model_module_version": "1.5.0",
      "model_name": "DescriptionStyleModel",
      "state": {
       "description_width": ""
      }
     },
     "e67c3948c2a34495969f2b2f51dec824": {
      "model_module": "@jupyter-widgets/base",
      "model_module_version": "1.2.0",
      "model_name": "LayoutModel",
      "state": {
       "margin": "0px 5px 0px 0px",
       "width": "32px"
      }
     },
     "e6de388921e04c87a7f6c7cef5cf1b0d": {
      "model_module": "@jupyter-widgets/controls",
      "model_module_version": "1.5.0",
      "model_name": "HTMLModel",
      "state": {
       "layout": "IPY_MODEL_a283b688807e4dff9e0771be7e00b283",
       "style": "IPY_MODEL_42a75c9416b042258cd8a6556a219148",
       "value": "<font style='color:#34BC6E'>DONE</font>"
      }
     },
     "e92948e3a54a4cdab28a1b3b422d418e": {
      "model_module": "@jupyter-widgets/controls",
      "model_module_version": "1.5.0",
      "model_name": "ButtonStyleModel",
      "state": {}
     },
     "f0755ba8f14244aab20485f2aff4d3b9": {
      "model_module": "@jupyter-widgets/controls",
      "model_module_version": "1.5.0",
      "model_name": "DescriptionStyleModel",
      "state": {
       "description_width": ""
      }
     },
     "fdee6e8742de474b8363b10c2eaf8dfb": {
      "model_module": "@jupyter-widgets/controls",
      "model_module_version": "1.5.0",
      "model_name": "ButtonModel",
      "state": {
       "icon": "close",
       "layout": "IPY_MODEL_e67c3948c2a34495969f2b2f51dec824",
       "style": "IPY_MODEL_6a824ccf401d49ae894f904f9247d473"
      }
     }
    },
    "version_major": 2,
    "version_minor": 0
   }
  }
 },
 "nbformat": 4,
 "nbformat_minor": 5
}
