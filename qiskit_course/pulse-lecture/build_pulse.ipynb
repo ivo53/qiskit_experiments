{
 "cells": [
  {
   "cell_type": "code",
   "execution_count": 1,
   "id": "c6a6c67b-71df-434e-8359-dffcfd9555a5",
   "metadata": {},
   "outputs": [],
   "source": [
    "import numpy as np\n",
    "import matplotlib.pyplot as plt\n",
    "\n",
    "from qiskit.tools.jupyter import *\n",
    "from qiskit import IBMQ, execute\n",
    "from qiskit import pulse                  # This is where we access all of our Pulse features!\n",
    "from qiskit.circuit import Parameter      # This is Parameter Class for variable parameters.\n",
    "from qiskit.pulse import library as pulse_lib\n",
    "from qiskit.tools.monitor import job_monitor\n"
   ]
  },
  {
   "cell_type": "code",
   "execution_count": 2,
   "id": "b2bf3301-262c-46e2-8a89-31e46ff27e8d",
   "metadata": {},
   "outputs": [],
   "source": [
    "provider = IBMQ.load_account()\n",
    "backend = provider.get_backend(\"ibmq_armonk\")\n",
    "backend_config = backend.configuration()\n",
    "assert backend_config.open_pulse, \"Backend doesn't support Pulse\""
   ]
  },
  {
   "cell_type": "code",
   "execution_count": 3,
   "id": "b35501d8-cec8-4fc5-b72b-7164707d10da",
   "metadata": {},
   "outputs": [
    {
     "name": "stdout",
     "output_type": "stream",
     "text": [
      "Sampling time: 0.2222222222222222 ns\n"
     ]
    }
   ],
   "source": [
    "dt = backend_config.dt\n",
    "print(f\"Sampling time: {dt*1e9} ns\")\n",
    "\n",
    "backend_defaults = backend.defaults()"
   ]
  },
  {
   "cell_type": "code",
   "execution_count": 4,
   "id": "5bbf9d8e-4189-45cb-a3d8-c3756d6ab798",
   "metadata": {},
   "outputs": [],
   "source": [
    "# unit conversion factors -> all backend properties returned in SI (Hz, sec, etc.)\n",
    "GHz = 1.0e9 # Gigahertz\n",
    "MHz = 1.0e6 # Megahertz\n",
    "us = 1.0e-6 # Microseconds\n",
    "ns = 1.0e-9 # Nanoseconds\n",
    "# We will find the qubit frequency for the following qubit.\n",
    "qubit = 0\n",
    "# We will define memory slot channel 0.\n",
    "mem_slot = 0"
   ]
  },
  {
   "cell_type": "code",
   "execution_count": 5,
   "id": "d025e565-e083-4cff-b2cb-5356af5afa3c",
   "metadata": {},
   "outputs": [],
   "source": [
    "# samples need to be multiples of 16\n",
    "def get_closest_multiple_of_16(num):\n",
    "    return int(num + 8 ) - (int(num + 8 ) % 16)\n",
    "\n",
    "# Convert seconds to dt\n",
    "def get_dt_from(sec):\n",
    "    return get_closest_multiple_of_16(sec/dt)"
   ]
  },
  {
   "cell_type": "code",
   "execution_count": 6,
   "id": "280795a5-a09d-4f3d-bd0b-615b7236315b",
   "metadata": {},
   "outputs": [
    {
     "name": "stdout",
     "output_type": "stream",
     "text": [
      "Qubit 0 has an estimated frequency of 4.971683004356552 GHz.\n"
     ]
    }
   ],
   "source": [
    "# The sweep will be centered around the estimated qubit frequency.\n",
    "center_frequency_Hz = backend_defaults.qubit_freq_est[qubit]        # The default frequency is given in Hz\n",
    "                                                                    # warning: this will change in a future release\n",
    "print(f\"Qubit {qubit} has an estimated frequency of {center_frequency_Hz / GHz} GHz.\")"
   ]
  },
  {
   "cell_type": "code",
   "execution_count": 7,
   "id": "c15f3e51-6358-41c7-9d16-a28aef2f1c66",
   "metadata": {},
   "outputs": [],
   "source": [
    "pulse_duration = get_dt_from(0.5 * us)\n",
    "pulse_amp = 0.5 # max 1.\n",
    "num_shots = 1024"
   ]
  },
  {
   "cell_type": "code",
   "execution_count": 8,
   "id": "639d2125-379c-443c-a426-9db210d5ded7",
   "metadata": {},
   "outputs": [],
   "source": [
    "with pulse.build(backend=backend, default_alignment=\"sequential\", name=\"base_schedule\") as schedule:\n",
    "    pulse.set_frequency(center_frequency_Hz, pulse.drive_channel(qubit))\n",
    "    pulse.play(\n",
    "        pulse_lib.Constant(\n",
    "            duration=pulse_duration,\n",
    "            amp=pulse_amp,\n",
    "            name=\"rect_pulse\"\n",
    "        ),\n",
    "        pulse.drive_channel(qubit)\n",
    "    )\n",
    "    pulse.measure(\n",
    "        qubits=[qubit],\n",
    "        registers=[pulse.MemorySlot(mem_slot)]\n",
    "    )"
   ]
  },
  {
   "cell_type": "code",
   "execution_count": 9,
   "id": "c2472dc0-3755-41c8-bdd9-eb12f1a2c7db",
   "metadata": {},
   "outputs": [
    {
     "data": {
      "image/png": "[encoded data removed]",
      "text/plain": [
       "<Figure size 936x237.6 with 1 Axes>"
      ]
     },
     "execution_count": 9,
     "metadata": {},
     "output_type": "execute_result"
    }
   ],
   "source": [
    "base_schedule = schedule.assign_parameters(\n",
    "    {},\n",
    "    inplace=False\n",
    ")\n",
    "base_schedule.draw(backend=backend)"
   ]
  },
  {
   "cell_type": "code",
   "execution_count": 10,
   "id": "cc4bc066-0878-40c8-97e1-4a5a4616d193",
   "metadata": {},
   "outputs": [
    {
     "name": "stdout",
     "output_type": "stream",
     "text": [
      "Job Status: job has successfully run\n"
     ]
    }
   ],
   "source": [
    "job = execute(\n",
    "    base_schedule,\n",
    "    backend=backend,\n",
    "    meas_level=2,\n",
    "    meas_return='avg',\n",
    "    memory=True,\n",
    "    shots=num_shots\n",
    ")\n",
    "job_monitor(job)\n"
   ]
  },
  {
   "cell_type": "code",
   "execution_count": 11,
   "id": "80d68f69-bfd2-4e89-a0f7-ba48c0e1947a",
   "metadata": {},
   "outputs": [],
   "source": [
    "result = job.result()"
   ]
  },
  {
   "cell_type": "code",
   "execution_count": 12,
   "id": "093941d4-3e33-4fd7-9a6a-f3ff287f99e3",
   "metadata": {},
   "outputs": [],
   "source": [
    "transition_probability = result.get_counts(0)[\"1\"] / num_shots"
   ]
  },
  {
   "cell_type": "code",
   "execution_count": 13,
   "id": "b753c499-9982-4f7d-b2a6-3eb4dd386df5",
   "metadata": {},
   "outputs": [
    {
     "name": "stdout",
     "output_type": "stream",
     "text": [
      "JobID: 6298688be9eab5ff20ba8fbb\n"
     ]
    }
   ],
   "source": [
    "job_id = job.job_id()\n",
    "print(\"JobID:\", job_id)"
   ]
  },
  {
   "cell_type": "code",
   "execution_count": 14,
   "id": "05721e6c-3a9c-4578-a404-bac8490a4ffd",
   "metadata": {},
   "outputs": [
    {
     "name": "stdout",
     "output_type": "stream",
     "text": [
      "transition_probability = 0.6357421875\n"
     ]
    }
   ],
   "source": [
    "print(\"transition_probability =\", transition_probability)"
   ]
  },
  {
   "cell_type": "code",
   "execution_count": 15,
   "id": "91866a2d-f506-49ca-9e72-206d3f5f77f8",
   "metadata": {},
   "outputs": [
    {
     "data": {
      "text/plain": [
       "651"
      ]
     },
     "execution_count": 15,
     "metadata": {},
     "output_type": "execute_result"
    }
   ],
   "source": [
    "result.get_counts(0)[\"1\"]"
   ]
  },
  {
   "cell_type": "code",
   "execution_count": null,
   "id": "08972bc1-19a8-4534-a684-8a9703e0a021",
   "metadata": {},
   "outputs": [],
   "source": []
  },
  {
   "cell_type": "code",
   "execution_count": null,
   "id": "94b2dce2-313c-4f94-8e74-82d9e262c672",
   "metadata": {},
   "outputs": [],
   "source": []
  },
  {
   "cell_type": "code",
   "execution_count": null,
   "id": "68a64d4d-c0ff-4043-889c-57fe63aecd7b",
   "metadata": {},
   "outputs": [],
   "source": []
  },
  {
   "cell_type": "code",
   "execution_count": null,
   "id": "f615294a-c399-4b48-bc8c-876bbe7ffb39",
   "metadata": {},
   "outputs": [],
   "source": []
  },
  {
   "cell_type": "code",
   "execution_count": null,
   "id": "b40707ff-6b0b-498b-b16b-3aa4b3e0cd8b",
   "metadata": {},
   "outputs": [],
   "source": []
  }
 ],
 "metadata": {
  "kernelspec": {
   "display_name": "Qiskit v0.35.0 (ipykernel)",
   "language": "python",
   "name": "python3"
  },
  "language_info": {
   "codemirror_mode": {
    "name": "ipython",
    "version": 3
   },
   "file_extension": ".py",
   "mimetype": "text/x-python",
   "name": "python",
   "nbconvert_exporter": "python",
   "pygments_lexer": "ipython3",
   "version": "3.8.13"
  },
  "widgets": {
   "application/vnd.jupyter.widget-state+json": {
    "state": {
     "0a2f0628c850413c89255aca13aba719": {
      "model_module": "@jupyter-widgets/base",
      "model_module_version": "1.2.0",
      "model_name": "LayoutModel",
      "state": {
       "width": "145px"
      }
     },
     "0b60f77f76204180a4a17513ac483654": {
      "model_module": "@jupyter-widgets/controls",
      "model_module_version": "1.5.0",
      "model_name": "HTMLModel",
      "state": {
       "layout": "IPY_MODEL_375ae10001cc4f2e92bc7957420db181",
       "style": "IPY_MODEL_f637ad37676c4657adcfe4b92e5f8d80",
       "value": "job has successfully run"
      }
     },
     "1a680345f6b64360a54849d80c1f2d4a": {
      "model_module": "@jupyter-widgets/controls",
      "model_module_version": "1.5.0",
      "model_name": "DescriptionStyleModel",
      "state": {
       "description_width": ""
      }
     },
     "375ae10001cc4f2e92bc7957420db181": {
      "model_module": "@jupyter-widgets/base",
      "model_module_version": "1.2.0",
      "model_name": "LayoutModel",
      "state": {
       "overflow_x": "scroll"
      }
     },
     "378b7ce3c906490ba521a79c6fb27301": {
      "model_module": "@jupyter-widgets/controls",
      "model_module_version": "1.5.0",
      "model_name": "ButtonStyleModel",
      "state": {}
     },
     "41ba03f4914044a8b44a5cc24b9fc167": {
      "model_module": "@jupyter-widgets/controls",
      "model_module_version": "1.5.0",
      "model_name": "HTMLModel",
      "state": {
       "layout": "IPY_MODEL_5108eec570b84cf09277890f0e6f99e1",
       "style": "IPY_MODEL_5a2571efbc924588a6373120d7820ff6",
       "value": "<h5>Backend</h5>"
      }
     },
     "4b64e7f0c1674b5da330884b67a87533": {
      "model_module": "@jupyter-widgets/controls",
      "model_module_version": "1.5.0",
      "model_name": "HBoxModel",
      "state": {
       "children": [
        "IPY_MODEL_9076e05ab0dd4899a7af757526a05c5e",
        "IPY_MODEL_9a0f9ad375e14fe384adb47803416432",
        "IPY_MODEL_5dedc08726fa4fb6acda91c2fe6302c9",
        "IPY_MODEL_ac624ca578d8434297a32142cb6bc06e",
        "IPY_MODEL_8227cc76603d4939bc59244f1a57a8be",
        "IPY_MODEL_0b60f77f76204180a4a17513ac483654"
       ],
       "layout": "IPY_MODEL_82aa2a9048954c0f8bbed36cd3d67326"
      }
     },
     "4d3b62ca014b42208080d9cb51a88a27": {
      "model_module": "@jupyter-widgets/controls",
      "model_module_version": "1.5.0",
      "model_name": "DescriptionStyleModel",
      "state": {
       "description_width": ""
      }
     },
     "5108eec570b84cf09277890f0e6f99e1": {
      "model_module": "@jupyter-widgets/base",
      "model_module_version": "1.2.0",
      "model_name": "LayoutModel",
      "state": {
       "width": "145px"
      }
     },
     "5938d74820194ad090fce95808a092ad": {
      "model_module": "@jupyter-widgets/controls",
      "model_module_version": "1.5.0",
      "model_name": "HTMLModel",
      "state": {
       "layout": "IPY_MODEL_8669c23cc57143ca8963212406a473c6",
       "style": "IPY_MODEL_c44528113da44fe4a0a77fecedddded7",
       "value": "<p style='font-family: IBM Plex Sans, Arial, Helvetica, sans-serif; font-size: 20px; font-weight: medium;'>Circuit Properties</p>"
      }
     },
     "5a2571efbc924588a6373120d7820ff6": {
      "model_module": "@jupyter-widgets/controls",
      "model_module_version": "1.5.0",
      "model_name": "DescriptionStyleModel",
      "state": {
       "description_width": ""
      }
     },
     "5d954f70830343f1971624b1d0c753bf": {
      "model_module": "@jupyter-widgets/controls",
      "model_module_version": "1.5.0",
      "model_name": "HTMLModel",
      "state": {
       "layout": "IPY_MODEL_663258fb4672412fa452d847ee143c1f",
       "style": "IPY_MODEL_c55356cad4fd47f59301a72f8bed5b96",
       "value": "<h5>Message</h5>"
      }
     },
     "5dedc08726fa4fb6acda91c2fe6302c9": {
      "model_module": "@jupyter-widgets/controls",
      "model_module_version": "1.5.0",
      "model_name": "HTMLModel",
      "state": {
       "layout": "IPY_MODEL_0a2f0628c850413c89255aca13aba719",
       "style": "IPY_MODEL_ef10d8e20312467aae5d9f83a2fc03e3",
       "value": "ibmq_armonk"
      }
     },
     "663258fb4672412fa452d847ee143c1f": {
      "model_module": "@jupyter-widgets/base",
      "model_module_version": "1.2.0",
      "model_name": "LayoutModel",
      "state": {}
     },
     "67ca5d63741f454ba76df8b0c1771ee1": {
      "model_module": "@jupyter-widgets/controls",
      "model_module_version": "1.5.0",
      "model_name": "DescriptionStyleModel",
      "state": {
       "description_width": ""
      }
     },
     "6b7d64985c9b432d95a8fb9ef1105539": {
      "model_module": "@jupyter-widgets/base",
      "model_module_version": "1.2.0",
      "model_name": "LayoutModel",
      "state": {
       "width": "95px"
      }
     },
     "6fa4745ddfab4f3485301514b32e0968": {
      "model_module": "@jupyter-widgets/controls",
      "model_module_version": "1.5.0",
      "model_name": "ButtonModel",
      "state": {
       "button_style": "primary",
       "description": "Clear",
       "layout": "IPY_MODEL_8bc1907ed484483aac460b91d47082b1",
       "style": "IPY_MODEL_378b7ce3c906490ba521a79c6fb27301"
      }
     },
     "72777fedcd05475a91da6c5350e1644d": {
      "model_module": "@jupyter-widgets/controls",
      "model_module_version": "1.5.0",
      "model_name": "HTMLModel",
      "state": {
       "layout": "IPY_MODEL_d9e9060778f545f58a677ac277c45e0f",
       "style": "IPY_MODEL_b7f89b514e3a4ef2ba4ef33abd920143",
       "value": "<h5>Job ID</h5>"
      }
     },
     "75cbb32a494847ed876fbe06183ec391": {
      "model_module": "@jupyter-widgets/base",
      "model_module_version": "1.2.0",
      "model_name": "LayoutModel",
      "state": {
       "margin": "0px 0px 0px 37px",
       "width": "600px"
      }
     },
     "771ae5bfeecb4b83b95004dc673157d6": {
      "model_module": "@jupyter-widgets/controls",
      "model_module_version": "1.5.0",
      "model_name": "HBoxModel",
      "state": {
       "children": [
        "IPY_MODEL_72777fedcd05475a91da6c5350e1644d",
        "IPY_MODEL_41ba03f4914044a8b44a5cc24b9fc167",
        "IPY_MODEL_858b7bd0997f4d559e2a6a89a9a14b8e",
        "IPY_MODEL_aa36391f10774027b5bb0cd63e9a6290",
        "IPY_MODEL_5d954f70830343f1971624b1d0c753bf"
       ],
       "layout": "IPY_MODEL_75cbb32a494847ed876fbe06183ec391"
      }
     },
     "795814be717b4b28a0055f67ffc68122": {
      "model_module": "@jupyter-widgets/controls",
      "model_module_version": "1.5.0",
      "model_name": "DescriptionStyleModel",
      "state": {
       "description_width": ""
      }
     },
     "7c6beb17554746e8a3b15e0cf9b32754": {
      "model_module": "@jupyter-widgets/base",
      "model_module_version": "1.2.0",
      "model_name": "LayoutModel",
      "state": {
       "width": "70px"
      }
     },
     "8227cc76603d4939bc59244f1a57a8be": {
      "model_module": "@jupyter-widgets/controls",
      "model_module_version": "1.5.0",
      "model_name": "HTMLModel",
      "state": {
       "layout": "IPY_MODEL_7c6beb17554746e8a3b15e0cf9b32754",
       "style": "IPY_MODEL_1a680345f6b64360a54849d80c1f2d4a",
       "value": "-"
      }
     },
     "82aa2a9048954c0f8bbed36cd3d67326": {
      "model_module": "@jupyter-widgets/base",
      "model_module_version": "1.2.0",
      "model_name": "LayoutModel",
      "state": {
       "max_width": "700px",
       "min_width": "700px"
      }
     },
     "858b7bd0997f4d559e2a6a89a9a14b8e": {
      "model_module": "@jupyter-widgets/controls",
      "model_module_version": "1.5.0",
      "model_name": "HTMLModel",
      "state": {
       "layout": "IPY_MODEL_6b7d64985c9b432d95a8fb9ef1105539",
       "style": "IPY_MODEL_d9c8a5f0f92447cd85f0490da1103ad9",
       "value": "<h5>Status</h5>"
      }
     },
     "8669c23cc57143ca8963212406a473c6": {
      "model_module": "@jupyter-widgets/base",
      "model_module_version": "1.2.0",
      "model_name": "LayoutModel",
      "state": {
       "margin": "0px 0px 10px 0px"
      }
     },
     "8bc1907ed484483aac460b91d47082b1": {
      "model_module": "@jupyter-widgets/base",
      "model_module_version": "1.2.0",
      "model_name": "LayoutModel",
      "state": {
       "grid_area": "right",
       "padding": "0px 0px 0px 0px",
       "width": "70px"
      }
     },
     "8d2fe596c3db43029f8d9672bfee08ea": {
      "model_module": "@jupyter-widgets/base",
      "model_module_version": "1.2.0",
      "model_name": "LayoutModel",
      "state": {
       "width": "70px"
      }
     },
     "9076e05ab0dd4899a7af757526a05c5e": {
      "model_module": "@jupyter-widgets/controls",
      "model_module_version": "1.5.0",
      "model_name": "ButtonModel",
      "state": {
       "icon": "close",
       "layout": "IPY_MODEL_b447c4ce80464ebcb69d91273070d089",
       "style": "IPY_MODEL_f22efd4485dc476baa20602ac5b373ea"
      }
     },
     "9a0f9ad375e14fe384adb47803416432": {
      "model_module": "@jupyter-widgets/controls",
      "model_module_version": "1.5.0",
      "model_name": "HTMLModel",
      "state": {
       "layout": "IPY_MODEL_d744415866514ddd8d2b823a445ddb59",
       "style": "IPY_MODEL_4d3b62ca014b42208080d9cb51a88a27",
       "value": "6298688be9eab5ff20ba8fbb"
      }
     },
     "9c03597dd1ee481789e096b38fb8f564": {
      "model_module": "@jupyter-widgets/base",
      "model_module_version": "1.2.0",
      "model_name": "LayoutModel",
      "state": {
       "width": "95px"
      }
     },
     "aa36391f10774027b5bb0cd63e9a6290": {
      "model_module": "@jupyter-widgets/controls",
      "model_module_version": "1.5.0",
      "model_name": "HTMLModel",
      "state": {
       "layout": "IPY_MODEL_8d2fe596c3db43029f8d9672bfee08ea",
       "style": "IPY_MODEL_67ca5d63741f454ba76df8b0c1771ee1",
       "value": "<h5>Queue</h5>"
      }
     },
     "ac624ca578d8434297a32142cb6bc06e": {
      "model_module": "@jupyter-widgets/controls",
      "model_module_version": "1.5.0",
      "model_name": "HTMLModel",
      "state": {
       "layout": "IPY_MODEL_9c03597dd1ee481789e096b38fb8f564",
       "style": "IPY_MODEL_795814be717b4b28a0055f67ffc68122",
       "value": "<font style='color:#34BC6E'>DONE</font>"
      }
     },
     "b447c4ce80464ebcb69d91273070d089": {
      "model_module": "@jupyter-widgets/base",
      "model_module_version": "1.2.0",
      "model_name": "LayoutModel",
      "state": {
       "margin": "0px 5px 0px 0px",
       "width": "32px"
      }
     },
     "b7f89b514e3a4ef2ba4ef33abd920143": {
      "model_module": "@jupyter-widgets/controls",
      "model_module_version": "1.5.0",
      "model_name": "DescriptionStyleModel",
      "state": {
       "description_width": ""
      }
     },
     "c44528113da44fe4a0a77fecedddded7": {
      "model_module": "@jupyter-widgets/controls",
      "model_module_version": "1.5.0",
      "model_name": "DescriptionStyleModel",
      "state": {
       "description_width": ""
      }
     },
     "c55356cad4fd47f59301a72f8bed5b96": {
      "model_module": "@jupyter-widgets/controls",
      "model_module_version": "1.5.0",
      "model_name": "DescriptionStyleModel",
      "state": {
       "description_width": ""
      }
     },
     "d744415866514ddd8d2b823a445ddb59": {
      "model_module": "@jupyter-widgets/base",
      "model_module_version": "1.2.0",
      "model_name": "LayoutModel",
      "state": {
       "width": "190px"
      }
     },
     "d9c8a5f0f92447cd85f0490da1103ad9": {
      "model_module": "@jupyter-widgets/controls",
      "model_module_version": "1.5.0",
      "model_name": "DescriptionStyleModel",
      "state": {
       "description_width": ""
      }
     },
     "d9e9060778f545f58a677ac277c45e0f": {
      "model_module": "@jupyter-widgets/base",
      "model_module_version": "1.2.0",
      "model_name": "LayoutModel",
      "state": {
       "width": "190px"
      }
     },
     "e2157551de2449209a058e16396184c4": {
      "model_module": "@jupyter-widgets/controls",
      "model_module_version": "1.5.0",
      "model_name": "GridBoxModel",
      "state": {
       "children": [
        "IPY_MODEL_6fa4745ddfab4f3485301514b32e0968"
       ],
       "layout": "IPY_MODEL_f698171d5bd94d189c4564798be858ec"
      }
     },
     "ef10d8e20312467aae5d9f83a2fc03e3": {
      "model_module": "@jupyter-widgets/controls",
      "model_module_version": "1.5.0",
      "model_name": "DescriptionStyleModel",
      "state": {
       "description_width": ""
      }
     },
     "f22efd4485dc476baa20602ac5b373ea": {
      "model_module": "@jupyter-widgets/controls",
      "model_module_version": "1.5.0",
      "model_name": "ButtonStyleModel",
      "state": {
       "button_color": "white"
      }
     },
     "f637ad37676c4657adcfe4b92e5f8d80": {
      "model_module": "@jupyter-widgets/controls",
      "model_module_version": "1.5.0",
      "model_name": "DescriptionStyleModel",
      "state": {
       "description_width": ""
      }
     },
     "f698171d5bd94d189c4564798be858ec": {
      "model_module": "@jupyter-widgets/base",
      "model_module_version": "1.2.0",
      "model_name": "LayoutModel",
      "state": {
       "grid_template_areas": "\n                                       \". . . . right \"\n                                        ",
       "grid_template_columns": "20% 20% 20% 20% 20%",
       "width": "100%"
      }
     }
    },
    "version_major": 2,
    "version_minor": 0
   }
  }
 },
 "nbformat": 4,
 "nbformat_minor": 5
}
