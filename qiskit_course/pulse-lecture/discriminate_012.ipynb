{
 "cells": [
  {
   "cell_type": "markdown",
   "id": "d60d118d-e8a3-496c-b744-fe2e0967184f",
   "metadata": {},
   "source": [
    "## Discriminate 0, 1 and 2 states"
   ]
  },
  {
   "cell_type": "code",
   "execution_count": 1,
   "id": "6178c4f4-713d-4717-a5cf-2a1fda3fbc16",
   "metadata": {},
   "outputs": [
    {
     "name": "stderr",
     "output_type": "stream",
     "text": [
      "<frozen importlib._bootstrap>:219: RuntimeWarning: scipy._lib.messagestream.MessageStream size changed, may indicate binary incompatibility. Expected 56 from C header, got 64 from PyObject\n"
     ]
    }
   ],
   "source": [
    "import numpy as np\n",
    "import pickle\n",
    "import matplotlib.pyplot as plt\n",
    "from sklearn.model_selection import train_test_split\n",
    "from sklearn.discriminant_analysis import LinearDiscriminantAnalysis\n",
    "from scipy.optimize import curve_fit\n",
    "from qiskit import pulse, IBMQ, execute\n",
    "from qiskit.pulse import Delay,Play\n",
    "# This Pulse module helps us build sampled pulses for common pulse shapes\n",
    "from qiskit.pulse import library as pulse_lib\n",
    "from qiskit.tools.monitor import job_monitor\n"
   ]
  },
  {
   "cell_type": "code",
   "execution_count": 2,
   "id": "7f04573d-b341-4bc3-a592-72a0e66f8b95",
   "metadata": {},
   "outputs": [],
   "source": [
    "# unit conversion factors -> all backend properties returned in SI (Hz, sec, etc)\n",
    "GHz = 1.0e9 # Gigahertz\n",
    "MHz = 1.0e6 # Megahertz\n",
    "us = 1.0e-6 # Microseconds\n",
    "ns = 1.0e-9 # Nanoseconds\n",
    "qubit = 0\n",
    "scale_factor = 1.e-14\n",
    "mem_slot=0"
   ]
  },
  {
   "cell_type": "code",
   "execution_count": 3,
   "id": "0232d865-9dbb-439a-a1b7-103252722c06",
   "metadata": {},
   "outputs": [
    {
     "name": "stdout",
     "output_type": "stream",
     "text": [
      "Using ibmq_armonk backend.\n"
     ]
    }
   ],
   "source": [
    "provider = IBMQ.load_account()\n",
    "backend = provider.get_backend(\"ibmq_armonk\")\n",
    "\n",
    "backend_name = str(backend)\n",
    "print(f\"Using {backend_name} backend.\")\n",
    "backend_defaults = backend.defaults()\n",
    "backend_config = backend.configuration()\n",
    "dt = backend_config.dt\n"
   ]
  },
  {
   "cell_type": "code",
   "execution_count": 4,
   "id": "1bb743f0-c416-4373-adbb-18a3f097d9e2",
   "metadata": {},
   "outputs": [],
   "source": [
    "def get_closest_multiple_of_16(num):\n",
    "    return int(num + 8) - (int(num + 8) % 16)\n",
    "# Convert seconds to dt\n",
    "def get_dt_from(sec):\n",
    "    return get_closest_multiple_of_16(sec/dt)"
   ]
  },
  {
   "cell_type": "code",
   "execution_count": 6,
   "id": "1abf8537-53f2-461b-8e43-3d168ab59e93",
   "metadata": {},
   "outputs": [],
   "source": [
    "rough_qubit_frequency_01 = 4.97176 * GHz\n",
    "pi_duration_01 = 2480\n",
    "pi_amp_01 = 0.05100450494872929\n",
    "\n",
    "rough_qubit_frequency_12 = 4.6233 * GHz\n",
    "pi_duration_12 = 2480\n",
    "pi_amp_12 = 0.04883121893908868"
   ]
  },
  {
   "cell_type": "code",
   "execution_count": 7,
   "id": "dba977da-112f-44c0-a65b-371f6259de39",
   "metadata": {},
   "outputs": [],
   "source": [
    "with pulse.build(backend=backend, default_alignment=\"sequential\", name=\"discriminate_0\") as zero_sched:\n",
    "    # pulse.set_frequency(rough_qubit_frequency_01, pulse.drive_channel(qubit))\n",
    "    pulse.measure(\n",
    "        qubits=[qubit],\n",
    "        registers=[pulse.MemorySlot(mem_slot)]\n",
    "    )\n",
    "zero_schedule = zero_sched.assign_parameters({}, inplace=False)"
   ]
  },
  {
   "cell_type": "code",
   "execution_count": 8,
   "id": "73026740-e332-4eb6-86b7-8a1c729abc08",
   "metadata": {},
   "outputs": [],
   "source": [
    "with pulse.build(backend=backend, default_alignment=\"sequential\", name=\"discriminate_1\") as one_sched:\n",
    "    pulse.set_frequency(rough_qubit_frequency_01, pulse.drive_channel(qubit))\n",
    "    pulse.play(\n",
    "        pulse_lib.Constant(\n",
    "            duration=pi_duration_01,\n",
    "            amp=pi_amp_01,\n",
    "            name=\"pi_pulse_01\"\n",
    "        ),\n",
    "        pulse.drive_channel(qubit)\n",
    "    )\n",
    "    pulse.measure(\n",
    "        qubits=[qubit],\n",
    "        registers=[pulse.MemorySlot(mem_slot)]\n",
    "    )\n",
    "one_schedule = one_sched.assign_parameters({}, inplace=False)"
   ]
  },
  {
   "cell_type": "code",
   "execution_count": 9,
   "id": "f8b1b4c7-3769-4faa-bb11-9307fb2d2e43",
   "metadata": {},
   "outputs": [],
   "source": [
    "with pulse.build(backend=backend, default_alignment=\"sequential\", name=\"discriminate_2\") as two_sched:\n",
    "    pulse.set_frequency(rough_qubit_frequency_01, pulse.drive_channel(qubit))\n",
    "    pulse.play(\n",
    "        pulse_lib.Constant(\n",
    "            duration=pi_duration_01,\n",
    "            amp=pi_amp_01,\n",
    "            name=\"pi_pulse_01\"\n",
    "        ),\n",
    "        pulse.drive_channel(qubit)\n",
    "    )\n",
    "    pulse.set_frequency(rough_qubit_frequency_12, pulse.drive_channel(qubit))\n",
    "    pulse.play(\n",
    "        pulse_lib.Constant(\n",
    "            duration=pi_duration_12,\n",
    "            amp=pi_amp_12,\n",
    "            name=\"pi_pulse_12\"\n",
    "        ),\n",
    "        pulse.drive_channel(qubit)\n",
    "    )\n",
    "    pulse.measure(\n",
    "        qubits=[qubit],\n",
    "        registers=[pulse.MemorySlot(mem_slot)]\n",
    "    )\n",
    "two_schedule = two_sched.assign_parameters({}, inplace=False)"
   ]
  },
  {
   "cell_type": "code",
   "execution_count": 10,
   "id": "46e00918-26f5-4dd5-bbd2-d68c50ac84e8",
   "metadata": {},
   "outputs": [],
   "source": [
    "num_shots_per_exp = 2048"
   ]
  },
  {
   "cell_type": "code",
   "execution_count": null,
   "id": "493998e5-5736-42bf-a618-d4859ef153c2",
   "metadata": {},
   "outputs": [
    {
     "name": "stdout",
     "output_type": "stream",
     "text": [
      "Job Status: job is queued (1)     "
     ]
    }
   ],
   "source": [
    "discr_job = execute(\n",
    "    [zero_schedule, one_schedule, two_schedule],\n",
    "    backend=backend,\n",
    "    meas_level=1,\n",
    "    meas_return='single',\n",
    "    shots=num_shots_per_exp\n",
    ")\n",
    "job_monitor(discr_job)"
   ]
  },
  {
   "cell_type": "code",
   "execution_count": null,
   "id": "fa4af852-2872-4b48-a8ec-223f04519709",
   "metadata": {},
   "outputs": [],
   "source": [
    "job_id = discr_job.job_id()\n",
    "print(\"JobID:\", job_id)"
   ]
  },
  {
   "cell_type": "code",
   "execution_count": null,
   "id": "44d1bb07-654c-43df-a279-956b9031a7d0",
   "metadata": {},
   "outputs": [],
   "source": [
    "def get_results(job, num_schedules):\n",
    "    res = job.result()\n",
    "    measured_signals = []\n",
    "    for i in range(num_schedules):\n",
    "        # Get the results from the ith experiment\n",
    "        results = res.get_memory(i) * 1e-14\n",
    "        # Get the results for `qubit` from this experiment\n",
    "        measured_signals.append(results[:, qubit])\n",
    "    return np.array(measured_signals)\n"
   ]
  },
  {
   "cell_type": "code",
   "execution_count": null,
   "id": "0ff9b09b-1a07-4519-b746-6a5f74785a7a",
   "metadata": {},
   "outputs": [],
   "source": [
    "print(get_results(discr_job, 3))"
   ]
  },
  {
   "cell_type": "code",
   "execution_count": null,
   "id": "83ccd51b-91d5-47fe-a58d-2c064d12b664",
   "metadata": {},
   "outputs": [],
   "source": [
    "IQ_012_data = get_results(discr_job, 3)\n",
    "zero_data = IQ_012_data[0]\n",
    "one_data = IQ_012_data[1]\n",
    "two_data = IQ_012_data[2]"
   ]
  },
  {
   "cell_type": "code",
   "execution_count": null,
   "id": "18278f31-8df3-40f3-ba74-6dfb6ae9fe0f",
   "metadata": {},
   "outputs": [],
   "source": [
    "def IQ_012_plot(x_min, x_max, y_min, y_max):\n",
    "    \"\"\"Helper function for plotting IQ plane for 0, 1, 2. Limits of plot given\n",
    "    as arguments.\"\"\"\n",
    "    # zero data plotted in blue\n",
    "    plt.scatter(np.real(zero_data), np.imag(zero_data), \n",
    "                    s=5, cmap='viridis', c='blue', alpha=0.5, label=r'$|0\\rangle$')\n",
    "    # one data plotted in red\n",
    "    plt.scatter(np.real(one_data), np.imag(one_data), \n",
    "                    s=5, cmap='viridis', c='red', alpha=0.5, label=r'$|1\\rangle$')\n",
    "    # two data plotted in green\n",
    "    plt.scatter(np.real(two_data), np.imag(two_data), \n",
    "                    s=5, cmap='viridis', c='green', alpha=0.5, label=r'$|2\\rangle$')\n",
    "\n",
    "    # Plot a large dot for the average result of the 0, 1 and 2 states.\n",
    "    mean_zero = np.mean(zero_data) # takes mean of both real and imaginary parts\n",
    "    mean_one = np.mean(one_data)\n",
    "    mean_two = np.mean(two_data)\n",
    "    plt.scatter(np.real(mean_zero), np.imag(mean_zero), \n",
    "                s=200, cmap='viridis', c='black',alpha=1.0)\n",
    "    plt.scatter(np.real(mean_one), np.imag(mean_one), \n",
    "                s=200, cmap='viridis', c='black',alpha=1.0)\n",
    "    plt.scatter(np.real(mean_two), np.imag(mean_two), \n",
    "                s=200, cmap='viridis', c='black',alpha=1.0)\n",
    "    \n",
    "    plt.xlim(x_min, x_max)\n",
    "    plt.ylim(y_min,y_max)\n",
    "    plt.legend()\n",
    "    plt.ylabel('I [a.u.]', fontsize=15)\n",
    "    plt.xlabel('Q [a.u.]', fontsize=15)\n",
    "    plt.title(\"0-1-2 discrimination\", fontsize=15)"
   ]
  },
  {
   "cell_type": "code",
   "execution_count": null,
   "id": "1e946d83-aa43-4dae-9480-68e65b84abda",
   "metadata": {},
   "outputs": [],
   "source": [
    "x_min = -16\n",
    "x_max = 0\n",
    "y_min = -27.5\n",
    "y_max = -7.5\n",
    "IQ_012_plot(x_min, x_max, y_min, y_max)\n"
   ]
  },
  {
   "cell_type": "code",
   "execution_count": null,
   "id": "ddd518e8-d6b0-4001-8f3f-a8c4a942c643",
   "metadata": {},
   "outputs": [],
   "source": [
    "def reshape_complex_vec(vec):\n",
    "    \"\"\"Take in complex vector vec and return 2d array w/ real, imag entries. This is needed for the learning.\n",
    "    Args:\n",
    "        vec (list): complex vector of data\n",
    "    Returns:\n",
    "        list: vector w/ entries given by (real(vec], imag(vec))\n",
    "    \"\"\"\n",
    "    length = len(vec)\n",
    "    vec_reshaped = np.zeros((length, 2))\n",
    "    for i in range(len(vec)):\n",
    "        vec_reshaped[i]=[np.real(vec[i]), np.imag(vec[i])]\n",
    "    return vec_reshaped\n"
   ]
  },
  {
   "cell_type": "code",
   "execution_count": null,
   "id": "94619175-aba8-4780-806e-636aa042ccc9",
   "metadata": {},
   "outputs": [],
   "source": [
    "# Create IQ vector (split real, imag parts)\n",
    "zero_data_reshaped = reshape_complex_vec(zero_data)\n",
    "one_data_reshaped = reshape_complex_vec(one_data)  \n",
    "two_data_reshaped = reshape_complex_vec(two_data)  \n",
    "\n",
    "IQ_012_data = np.concatenate((zero_data_reshaped, one_data_reshaped, two_data_reshaped))\n",
    "print(IQ_012_data.shape) # verify IQ data shape\n"
   ]
  },
  {
   "cell_type": "code",
   "execution_count": null,
   "id": "f4837344-d9e4-4100-b861-6d065da86c5a",
   "metadata": {},
   "outputs": [],
   "source": [
    "# construct vector w/ 0's, 1's and 2's (for testing)\n",
    "state_012 = np.zeros(num_shots_per_exp) # shots gives number of experiments\n",
    "state_012 = np.concatenate((state_012, np.ones(num_shots_per_exp)))\n",
    "state_012 = np.concatenate((state_012, 2*np.ones(num_shots_per_exp)))\n",
    "print(len(state_012))\n",
    "\n",
    "# Shuffle and split data into training and test sets\n",
    "IQ_012_train, IQ_012_test, state_012_train, state_012_test = train_test_split(IQ_012_data, state_012, test_size=0.5)\n"
   ]
  },
  {
   "cell_type": "code",
   "execution_count": null,
   "id": "8970ebdd-0530-4920-93a5-6b98c402c600",
   "metadata": {},
   "outputs": [],
   "source": [
    "# Set up the LDA\n",
    "LDA_012 = LinearDiscriminantAnalysis()\n",
    "LDA_012.fit(IQ_012_train, state_012_train)\n"
   ]
  },
  {
   "cell_type": "code",
   "execution_count": null,
   "id": "59763e9a-f929-4928-a0e6-2ad40ca76adc",
   "metadata": {},
   "outputs": [],
   "source": [
    "# test on some simple data \n",
    "print(LDA_012.predict([[0, 0], [-10, 0], [-15, -5]]))\n"
   ]
  },
  {
   "cell_type": "code",
   "execution_count": null,
   "id": "83afc969-3260-48df-b227-a80af07ab6e4",
   "metadata": {},
   "outputs": [],
   "source": [
    "# Compute accuracy\n",
    "score_012 = LDA_012.score(IQ_012_test, state_012_test)\n",
    "print(score_012)\n"
   ]
  },
  {
   "cell_type": "code",
   "execution_count": null,
   "id": "67046d85-3c85-4afc-b303-c544344e5c18",
   "metadata": {},
   "outputs": [],
   "source": [
    "# Plot separatrix on top of scatter\n",
    "def separatrixPlot(lda, x_min, x_max, y_min, y_max, shots):\n",
    "    nx, ny = shots, shots\n",
    "\n",
    "    xx, yy = np.meshgrid(np.linspace(x_min, x_max, nx),\n",
    "                         np.linspace(y_min, y_max, ny))\n",
    "    Z = lda.predict_proba(np.c_[xx.ravel(), yy.ravel()])\n",
    "    Z = Z[:, 1].reshape(xx.shape)\n",
    "\n",
    "    plt.contour(xx, yy, Z, [0.5], linewidths=2., colors='black')\n"
   ]
  },
  {
   "cell_type": "code",
   "execution_count": null,
   "id": "3dc864f7-be5f-4c63-aedb-4670b0efc35a",
   "metadata": {},
   "outputs": [],
   "source": [
    "IQ_012_plot(x_min, x_max, y_min, y_max)\n",
    "separatrixPlot(LDA_012, x_min, x_max, y_min, y_max, num_shots_per_exp)\n"
   ]
  },
  {
   "cell_type": "code",
   "execution_count": null,
   "id": "e4d0fef9-048a-4336-b400-7aab8dd73a83",
   "metadata": {},
   "outputs": [],
   "source": []
  },
  {
   "cell_type": "code",
   "execution_count": null,
   "id": "71bc2860-8b0d-4b3d-a629-1db83f3cc0b7",
   "metadata": {},
   "outputs": [],
   "source": []
  },
  {
   "cell_type": "code",
   "execution_count": null,
   "id": "3adf3b7b-b454-404d-b918-007e14f54ff6",
   "metadata": {},
   "outputs": [],
   "source": []
  },
  {
   "cell_type": "code",
   "execution_count": null,
   "id": "d940edd6-71bd-4ef3-9e54-f4c86644e7a8",
   "metadata": {},
   "outputs": [],
   "source": []
  },
  {
   "cell_type": "code",
   "execution_count": null,
   "id": "c59eae4d-2fa7-46e2-9d02-b655dfcbad4d",
   "metadata": {},
   "outputs": [],
   "source": []
  },
  {
   "cell_type": "code",
   "execution_count": null,
   "id": "3f89bcc9-ffd7-46e9-a872-9e246c63da33",
   "metadata": {},
   "outputs": [],
   "source": []
  },
  {
   "cell_type": "code",
   "execution_count": null,
   "id": "3ad26f8b-fbbe-4835-be7e-e7169480e2a3",
   "metadata": {},
   "outputs": [],
   "source": []
  },
  {
   "cell_type": "code",
   "execution_count": null,
   "id": "d6e09a87-ade5-4b06-aec1-5db4fe41116b",
   "metadata": {},
   "outputs": [],
   "source": []
  },
  {
   "cell_type": "code",
   "execution_count": null,
   "id": "54228c75-4442-481b-a1a9-45df15af99a4",
   "metadata": {},
   "outputs": [],
   "source": []
  },
  {
   "cell_type": "code",
   "execution_count": null,
   "id": "04b53d18-29b4-4385-a848-dffe5524b92f",
   "metadata": {},
   "outputs": [],
   "source": []
  },
  {
   "cell_type": "code",
   "execution_count": null,
   "id": "bd90cedc-47ca-466e-b597-dd4c3e03cbd5",
   "metadata": {},
   "outputs": [],
   "source": []
  },
  {
   "cell_type": "code",
   "execution_count": null,
   "id": "db53dade-9478-4d0a-823b-442514424d15",
   "metadata": {},
   "outputs": [],
   "source": []
  },
  {
   "cell_type": "code",
   "execution_count": null,
   "id": "f3e7cf4c-e9f8-4f8d-b5da-624c126789bf",
   "metadata": {},
   "outputs": [],
   "source": []
  },
  {
   "cell_type": "code",
   "execution_count": null,
   "id": "b59ea842-8706-46b1-a747-0310325126d9",
   "metadata": {},
   "outputs": [],
   "source": []
  },
  {
   "cell_type": "code",
   "execution_count": null,
   "id": "30a067c5-6593-40a1-95f1-b16057eedcdb",
   "metadata": {},
   "outputs": [],
   "source": []
  },
  {
   "cell_type": "code",
   "execution_count": null,
   "id": "b8441489-afca-45d8-b694-d1f88b9f20ff",
   "metadata": {},
   "outputs": [],
   "source": []
  },
  {
   "cell_type": "code",
   "execution_count": null,
   "id": "d240399f-2c7a-46bd-89a4-7b3f75ffcc13",
   "metadata": {},
   "outputs": [],
   "source": []
  },
  {
   "cell_type": "code",
   "execution_count": null,
   "id": "776d43f9-517b-4718-bcf7-842bad6e9c0b",
   "metadata": {},
   "outputs": [],
   "source": []
  },
  {
   "cell_type": "code",
   "execution_count": null,
   "id": "b7e36a99-93c4-407f-943a-0084caea28c2",
   "metadata": {},
   "outputs": [],
   "source": []
  },
  {
   "cell_type": "code",
   "execution_count": null,
   "id": "d1e9d20a-d6cc-4252-8420-249e47b8f8f1",
   "metadata": {},
   "outputs": [],
   "source": []
  },
  {
   "cell_type": "code",
   "execution_count": null,
   "id": "df29da05-0d0e-4b40-a531-55fc6e52eed3",
   "metadata": {},
   "outputs": [],
   "source": []
  },
  {
   "cell_type": "code",
   "execution_count": null,
   "id": "e3020b38-2169-4512-a401-5cf663511395",
   "metadata": {},
   "outputs": [],
   "source": []
  },
  {
   "cell_type": "code",
   "execution_count": null,
   "id": "ba08f82c-93f8-469e-8673-11e877c50d4e",
   "metadata": {},
   "outputs": [],
   "source": []
  },
  {
   "cell_type": "code",
   "execution_count": null,
   "id": "332d8399-d037-41ba-aad6-07fc04980dda",
   "metadata": {},
   "outputs": [],
   "source": []
  },
  {
   "cell_type": "code",
   "execution_count": null,
   "id": "fedef689-25ba-407a-8b68-727f350cd66c",
   "metadata": {},
   "outputs": [],
   "source": []
  },
  {
   "cell_type": "code",
   "execution_count": null,
   "id": "e2a54d07-f454-45a8-b706-b02127daf2e3",
   "metadata": {},
   "outputs": [],
   "source": []
  }
 ],
 "metadata": {
  "kernelspec": {
   "display_name": "Qiskit v0.35.0 (ipykernel)",
   "language": "python",
   "name": "python3"
  },
  "language_info": {
   "codemirror_mode": {
    "name": "ipython",
    "version": 3
   },
   "file_extension": ".py",
   "mimetype": "text/x-python",
   "name": "python",
   "nbconvert_exporter": "python",
   "pygments_lexer": "ipython3",
   "version": "3.8.13"
  },
  "widgets": {
   "application/vnd.jupyter.widget-state+json": {
    "state": {},
    "version_major": 2,
    "version_minor": 0
   }
  }
 },
 "nbformat": 4,
 "nbformat_minor": 5
}
