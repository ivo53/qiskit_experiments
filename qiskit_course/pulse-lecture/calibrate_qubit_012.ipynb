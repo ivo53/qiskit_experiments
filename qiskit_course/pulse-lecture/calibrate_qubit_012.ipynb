{
 "cells": [
  {
   "cell_type": "markdown",
   "id": "c73d731d-11ae-4270-bc34-8b99db9b2e9c",
   "metadata": {
    "tags": []
   },
   "source": [
    "# **Now calibrate the qubit excitations to state |2>**\n",
    "\n",
    "## 1st Part: Calibrate Driving Frequency"
   ]
  },
  {
   "cell_type": "code",
   "execution_count": 1,
   "id": "c68314b2-eedf-4067-9b51-fdd65d8c09fc",
   "metadata": {},
   "outputs": [
    {
     "name": "stderr",
     "output_type": "stream",
     "text": [
      "<frozen importlib._bootstrap>:219: RuntimeWarning: scipy._lib.messagestream.MessageStream size changed, may indicate binary incompatibility. Expected 56 from C header, got 64 from PyObject\n"
     ]
    }
   ],
   "source": [
    "import numpy as np\n",
    "import matplotlib.pyplot as plt\n",
    "from scipy.optimize import curve_fit\n",
    "\n",
    "from qiskit.tools.jupyter import *\n",
    "from qiskit import IBMQ, execute\n",
    "from qiskit import pulse                  # This is where we access all of our Pulse features!\n",
    "from qiskit.circuit import Parameter      # This is Parameter Class for variable parameters.\n",
    "from qiskit.pulse import library as pulse_lib\n",
    "from qiskit.tools.monitor import job_monitor"
   ]
  },
  {
   "cell_type": "code",
   "execution_count": 2,
   "id": "df4df76b-e14e-46f0-a64a-a53c1a062990",
   "metadata": {},
   "outputs": [],
   "source": [
    "provider = IBMQ.load_account()\n",
    "backend = provider.get_backend(\"ibmq_armonk\")\n",
    "backend_config = backend.configuration()\n",
    "assert backend_config.open_pulse, \"Backend doesn't support Pulse\""
   ]
  },
  {
   "cell_type": "code",
   "execution_count": 3,
   "id": "958d36ae-4922-4576-9d81-61ea081093d5",
   "metadata": {},
   "outputs": [
    {
     "name": "stdout",
     "output_type": "stream",
     "text": [
      "Sampling time: 0.2222222222222222 ns\n"
     ]
    }
   ],
   "source": [
    "dt = backend_config.dt\n",
    "print(f\"Sampling time: {dt*1e9} ns\")\n",
    "\n",
    "backend_defaults = backend.defaults()"
   ]
  },
  {
   "cell_type": "code",
   "execution_count": 4,
   "id": "e46b6a7f-80f7-46c1-ab23-ebb8928aaeaa",
   "metadata": {},
   "outputs": [],
   "source": [
    "# unit conversion factors -> all backend properties returned in SI (Hz, sec, etc.)\n",
    "GHz = 1.0e9 # Gigahertz\n",
    "MHz = 1.0e6 # Megahertz\n",
    "us = 1.0e-6 # Microseconds\n",
    "ns = 1.0e-9 # Nanoseconds\n",
    "# We will find the qubit frequency for the following qubit.\n",
    "qubit = 0\n",
    "# We will define memory slot channel 0.\n",
    "mem_slot = 0"
   ]
  },
  {
   "cell_type": "code",
   "execution_count": 5,
   "id": "07f4365f-00b3-45c5-a848-d5e4ec49d258",
   "metadata": {},
   "outputs": [],
   "source": [
    "# samples need to be multiples of 16\n",
    "def get_closest_multiple_of_16(num):\n",
    "    return int(num + 8 ) - (int(num + 8 ) % 16)\n",
    "\n",
    "# Convert seconds to dt\n",
    "def get_dt_from(sec):\n",
    "    return get_closest_multiple_of_16(sec/dt)"
   ]
  },
  {
   "cell_type": "code",
   "execution_count": 7,
   "id": "b60bf994-5f15-4c40-b653-a81ae1318aac",
   "metadata": {},
   "outputs": [],
   "source": [
    "rough_qubit_frequency = 4.97176 * GHz\n",
    "pi_amp = 0.05098627672979268\n",
    "pi_duration = 2480"
   ]
  },
  {
   "cell_type": "code",
   "execution_count": 8,
   "id": "6b6db07a-b056-4802-b750-f01fb6f604bf",
   "metadata": {},
   "outputs": [
    {
     "name": "stdout",
     "output_type": "stream",
     "text": [
      "Qubit 0 has an estimated frequency of 4.62 GHz.\n"
     ]
    }
   ],
   "source": [
    "# The sweep will be centered around the estimated qubit frequency.\n",
    "# center_frequency_Hz = backend_defaults.qubit_freq_est[qubit]        # The default frequency is given in Hz\n",
    "                                                                    # warning: this will change in a future release\n",
    "center_frequency_Hz = 4.62 * GHz\n",
    "print(f\"Qubit {qubit} has an estimated frequency of {center_frequency_Hz / GHz} GHz.\")"
   ]
  },
  {
   "cell_type": "code",
   "execution_count": 9,
   "id": "100d9c2d-b407-4b7d-8045-db8c2f3784ea",
   "metadata": {},
   "outputs": [],
   "source": [
    "frequency_span_Hz = 20 * MHz\n",
    "frequency_step_Hz = np.round(frequency_span_Hz / 100, 3) #(1/4) * MHz"
   ]
  },
  {
   "cell_type": "code",
   "execution_count": 10,
   "id": "38f58cdb-3980-455f-89e5-8cb9869afab7",
   "metadata": {},
   "outputs": [],
   "source": [
    "# We will sweep 20 MHz above and 20 MHz below the estimated frequency\n",
    "frequency_min = center_frequency_Hz - frequency_span_Hz / 2\n",
    "frequency_max = center_frequency_Hz + frequency_span_Hz / 2\n",
    "# Construct an np array of the frequencies for our experiment\n",
    "frequencies_GHz = np.arange(frequency_min / GHz, \n",
    "                            frequency_max / GHz, \n",
    "                            frequency_step_Hz / GHz)"
   ]
  },
  {
   "cell_type": "code",
   "execution_count": 11,
   "id": "9badd5c3-52e4-42d9-aec8-b99dcb140d72",
   "metadata": {},
   "outputs": [],
   "source": [
    "pulse_sigma = get_dt_from(0.05 * us)\n",
    "pulse_duration = 8 * pulse_sigma\n",
    "pulse_amp = 0.75 # max 1."
   ]
  },
  {
   "cell_type": "code",
   "execution_count": 12,
   "id": "c83d08ea-06cb-411e-beb1-cb5c704496e7",
   "metadata": {},
   "outputs": [],
   "source": [
    "freq = Parameter('freq')\n",
    "with pulse.build(backend=backend, default_alignment=\"sequential\", name=\"base_schedule\") as schedule:\n",
    "    pulse.set_frequency(rough_qubit_frequency, pulse.drive_channel(qubit))\n",
    "    pulse.play(\n",
    "        pulse_lib.Constant(\n",
    "            duration=pi_duration,\n",
    "            amp=pi_amp,\n",
    "            name=\"pi_pulse_01\"\n",
    "        ),\n",
    "        pulse.drive_channel(qubit)\n",
    "    )\n",
    "    pulse.set_frequency(freq, pulse.drive_channel(qubit))\n",
    "    pulse.play(\n",
    "        pulse_lib.Gaussian(\n",
    "            duration=pulse_duration,\n",
    "            sigma=pulse_sigma,\n",
    "            amp=pulse_amp,\n",
    "            name=\"gauss_pulse\"\n",
    "        ),\n",
    "        pulse.drive_channel(qubit)\n",
    "    )\n",
    "    pulse.measure(\n",
    "        qubits=[qubit],\n",
    "        registers=[pulse.MemorySlot(mem_slot)]\n",
    "    )"
   ]
  },
  {
   "cell_type": "code",
   "execution_count": 13,
   "id": "3b5b8824-8b9b-4518-8694-22515cc044fd",
   "metadata": {},
   "outputs": [],
   "source": [
    "frequencies_Hz = frequencies_GHz*GHz\n",
    "schedules = [\n",
    "    schedule.assign_parameters(\n",
    "        {freq: f},\n",
    "        inplace=False\n",
    "    ) for f in frequencies_Hz\n",
    "]"
   ]
  },
  {
   "cell_type": "code",
   "execution_count": 14,
   "id": "3e5e02b1-893d-40d0-b6b6-fe882c953a89",
   "metadata": {},
   "outputs": [
    {
     "data": {
      "image/png": "[encoded data removed]",
      "text/plain": [
       "<Figure size 936x237.6 with 1 Axes>"
      ]
     },
     "execution_count": 14,
     "metadata": {},
     "output_type": "execute_result"
    }
   ],
   "source": [
    "schedules[-2].draw(backend=backend)"
   ]
  },
  {
   "cell_type": "code",
   "execution_count": 15,
   "id": "7622754d-2399-429c-aead-9792be9be5fd",
   "metadata": {},
   "outputs": [],
   "source": [
    "num_schedules = len(schedules)\n",
    "num_shots = 2048\n"
   ]
  },
  {
   "cell_type": "code",
   "execution_count": 16,
   "id": "da06deed-d4ca-450e-b25e-de6f53f2fba1",
   "metadata": {},
   "outputs": [
    {
     "name": "stdout",
     "output_type": "stream",
     "text": [
      "Job Status: job has successfully run\n"
     ]
    }
   ],
   "source": [
    "job = execute(\n",
    "    schedules,\n",
    "    backend=backend,\n",
    "    meas_level=1,\n",
    "    meas_return='avg',\n",
    "    shots=num_shots\n",
    ")\n",
    "job_monitor(job)\n"
   ]
  },
  {
   "cell_type": "code",
   "execution_count": 17,
   "id": "8102f67c-e74e-4d17-8e1f-e717b3c3149b",
   "metadata": {},
   "outputs": [],
   "source": [
    "result = job.result()"
   ]
  },
  {
   "cell_type": "code",
   "execution_count": 18,
   "id": "2a00422d-557c-4392-96de-9fb090b11a76",
   "metadata": {},
   "outputs": [],
   "source": [
    "measured_signals = []\n",
    "for i in range(num_schedules):\n",
    "    # Get the results from the ith experiment\n",
    "    results = result.get_memory(i) * 1e-14\n",
    "    # Get the results for `qubit` from this experiment\n",
    "    measured_signals.append(results[qubit])\n",
    "measured_signals = np.array(measured_signals)\n"
   ]
  },
  {
   "cell_type": "code",
   "execution_count": 19,
   "id": "3c73d6f8-0dcf-4804-ac36-6c74901c4cbd",
   "metadata": {},
   "outputs": [
    {
     "name": "stdout",
     "output_type": "stream",
     "text": [
      "JobID: 629875b31e5d5ef374df65dd\n"
     ]
    }
   ],
   "source": [
    "job_id = job.job_id()\n",
    "print(\"JobID:\", job_id)"
   ]
  },
  {
   "cell_type": "code",
   "execution_count": 20,
   "id": "0532169e-cf73-4acc-bda5-5f891991f2e3",
   "metadata": {},
   "outputs": [],
   "source": [
    "# print(\"measured_signals =\", measured_signals)"
   ]
  },
  {
   "cell_type": "code",
   "execution_count": 21,
   "id": "97a675fb-7084-4993-9198-689e01d01406",
   "metadata": {},
   "outputs": [
    {
     "data": {
      "image/png": "[encoded data removed]",
      "text/plain": [
       "<Figure size 432x288 with 1 Axes>"
      ]
     },
     "metadata": {
      "needs_background": "light"
     },
     "output_type": "display_data"
    }
   ],
   "source": [
    "plt.figure(1)\n",
    "plt.plot(frequencies_GHz, np.real(measured_signals), 'bx') # plot real part of sweep values\n",
    "plt.xlim([min(frequencies_GHz), max(frequencies_GHz)])\n",
    "plt.title(\"Drive Frequency Calibration Curve\")\n",
    "plt.xlabel(\"Frequency [GHz]\")\n",
    "plt.ylabel(\"Measured Signal [a.u.]\")\n",
    "plt.show()"
   ]
  },
  {
   "cell_type": "code",
   "execution_count": 22,
   "id": "3d4cdcd2-1ef8-481d-8efb-7b037964d11f",
   "metadata": {},
   "outputs": [],
   "source": [
    "def fit_function(x_values, y_values, function, init_params):\n",
    "    fitparams, conv = curve_fit(function, x_values, y_values, init_params)#, maxfev=100000)\n",
    "    y_fit = function(x_values, *fitparams)\n",
    "    \n",
    "    return fitparams, y_fit\n",
    "\n",
    "fit_params, y_fit = fit_function(frequencies_GHz,\n",
    "                                 np.real(measured_signals), \n",
    "                                 lambda x, A, q_freq, B, C: (A / np.pi) * (B / ((x - q_freq)**2 + B**2)) + C,\n",
    "                                 [0.3, 4.6235, 0.2, -5.9] # initial parameters for curve_fit\n",
    "                                )"
   ]
  },
  {
   "cell_type": "code",
   "execution_count": 23,
   "id": "90d460e1-444d-4079-99d9-d23c63898627",
   "metadata": {},
   "outputs": [
    {
     "data": {
      "image/png": "[encoded data removed]",
      "text/plain": [
       "<Figure size 432x288 with 1 Axes>"
      ]
     },
     "metadata": {
      "needs_background": "light"
     },
     "output_type": "display_data"
    }
   ],
   "source": [
    "plt.figure(2)\n",
    "plt.scatter(frequencies_GHz, np.real(measured_signals), color='black')\n",
    "plt.plot(frequencies_GHz, y_fit, color='red')\n",
    "plt.xlim([min(frequencies_GHz), max(frequencies_GHz)])\n",
    "plt.title(\"Fitted Drive Frequency Calibration Curve\")\n",
    "plt.xlabel(\"Frequency [GHz]\")\n",
    "plt.ylabel(\"Measured Signal [a.u.]\")\n",
    "# plt.savefig(os.path.join(save_dir, date.strftime(\"%H%M%S\") + f\"_{pulse_type}_frequency_sweep_fitted.png\"))\n",
    "plt.show()\n"
   ]
  },
  {
   "cell_type": "code",
   "execution_count": 24,
   "id": "e75839a7-d92a-45c9-b3ce-ce0665314c7d",
   "metadata": {},
   "outputs": [
    {
     "name": "stdout",
     "output_type": "stream",
     "text": [
      "We've updated our 1->2 qubit frequency estimate from 4.97168 GHz to 4.6233 GHz.\n"
     ]
    }
   ],
   "source": [
    "A, rough_qubit_frequency_12, B, C = fit_params\n",
    "rough_qubit_frequency_12 = rough_qubit_frequency_12*GHz # make sure qubit freq is in Hz\n",
    "print(f\"We've updated our 1->2 qubit frequency estimate from \"\n",
    "      f\"{round(backend_defaults.qubit_freq_est[qubit] / GHz, 5)} GHz to {round(rough_qubit_frequency_12/GHz, 5)} GHz.\")"
   ]
  },
  {
   "cell_type": "markdown",
   "id": "840c16b4-7c6f-484e-ac85-92a967db0531",
   "metadata": {
    "tags": []
   },
   "source": [
    "## 2nd part: Calibrate Pulse Area"
   ]
  },
  {
   "cell_type": "code",
   "execution_count": 25,
   "id": "de91301e-f17c-4092-aa24-a17a105b0a77",
   "metadata": {},
   "outputs": [],
   "source": [
    "rabi_pulse_duration = .55\n",
    "min_amplitude, max_amplitude = 0.001, 0.65\n",
    "rabi_num_exp = 100\n",
    "amplitudes = np.linspace(\n",
    "    min_amplitude, \n",
    "    max_amplitude, \n",
    "    rabi_num_exp\n",
    ")\n",
    "rabi_pulse_duration = get_dt_from(rabi_pulse_duration * us)\n"
   ]
  },
  {
   "cell_type": "code",
   "execution_count": 26,
   "id": "08d64cab-22c2-4c15-8efc-15bf6e9a3f80",
   "metadata": {},
   "outputs": [],
   "source": [
    "amp = Parameter('amp')\n",
    "with pulse.build(backend=backend, default_alignment=\"sequential\", name=\"base_schedule\") as rabi_schedule:\n",
    "    pulse.set_frequency(rough_qubit_frequency, pulse.drive_channel(qubit))\n",
    "    pulse.play(\n",
    "        pulse_lib.Constant(\n",
    "            duration=pi_duration,\n",
    "            amp=pi_amp,\n",
    "            name=\"pi_pulse_01\"\n",
    "        ),\n",
    "        pulse.drive_channel(qubit)\n",
    "    )\n",
    "    pulse.set_frequency(rough_qubit_frequency_12, pulse.drive_channel(qubit))\n",
    "    pulse.play(\n",
    "        pulse_lib.Constant(\n",
    "            duration=rabi_pulse_duration,\n",
    "            amp=amp,\n",
    "            name=\"rect_pulse\"\n",
    "        ),\n",
    "        pulse.drive_channel(qubit)\n",
    "    )\n",
    "    pulse.measure(\n",
    "        qubits=[qubit],\n",
    "        registers=[pulse.MemorySlot(mem_slot)]\n",
    "    )"
   ]
  },
  {
   "cell_type": "code",
   "execution_count": 27,
   "id": "0b686e31-8be1-4364-ad78-179593f777e8",
   "metadata": {},
   "outputs": [],
   "source": [
    "frequencies_Hz = frequencies_GHz*GHz\n",
    "rabi_schedules = [\n",
    "    rabi_schedule.assign_parameters(\n",
    "        {amp: a},\n",
    "        inplace=False\n",
    "    ) for a in amplitudes\n",
    "]"
   ]
  },
  {
   "cell_type": "code",
   "execution_count": 28,
   "id": "f7bc7260-b618-4d92-bbfc-17ff9814681e",
   "metadata": {},
   "outputs": [
    {
     "data": {
      "image/png": "[encoded data removed]",
      "text/plain": [
       "<Figure size 936x237.6 with 1 Axes>"
      ]
     },
     "execution_count": 28,
     "metadata": {},
     "output_type": "execute_result"
    }
   ],
   "source": [
    "rabi_schedules[-2].draw(backend=backend)"
   ]
  },
  {
   "cell_type": "code",
   "execution_count": 29,
   "id": "c94424b4-9144-48a1-a207-84184fddaef9",
   "metadata": {},
   "outputs": [],
   "source": [
    "rabi_num_schedules = len(rabi_schedules)\n",
    "rabi_num_shots = 2048\n"
   ]
  },
  {
   "cell_type": "code",
   "execution_count": null,
   "id": "5331e0f8-bf15-4764-9730-c1db6efa52e2",
   "metadata": {},
   "outputs": [
    {
     "name": "stdout",
     "output_type": "stream",
     "text": [
      "Job Status: job is queued (5)     "
     ]
    }
   ],
   "source": [
    "rabi_job = execute(\n",
    "    rabi_schedules,\n",
    "    backend=backend,\n",
    "    meas_level=1,\n",
    "    meas_return='avg',\n",
    "    shots=rabi_num_shots\n",
    ")\n",
    "job_monitor(rabi_job)\n"
   ]
  },
  {
   "cell_type": "code",
   "execution_count": null,
   "id": "e29ab43c-16e1-411b-8d8b-4c972332853f",
   "metadata": {},
   "outputs": [],
   "source": [
    "rabi_result = rabi_job.result()"
   ]
  },
  {
   "cell_type": "code",
   "execution_count": null,
   "id": "8c0b1acd-a7f4-4310-adbf-ac959cc719ae",
   "metadata": {},
   "outputs": [],
   "source": [
    "rabi_measured_signals = []\n",
    "for i in range(rabi_num_schedules):\n",
    "    # Get the results from the ith experiment\n",
    "    results = rabi_result.get_memory(i) * 1e-14\n",
    "    # Get the results for `qubit` from this experiment\n",
    "    rabi_measured_signals.append(results[qubit])\n",
    "rabi_measured_signals = np.array(rabi_measured_signals)\n"
   ]
  },
  {
   "cell_type": "code",
   "execution_count": null,
   "id": "9300e803-c57c-4d0b-9ac5-affed404bfd6",
   "metadata": {},
   "outputs": [],
   "source": [
    "rabi_job_id = rabi_job.job_id()\n",
    "print(\"RabiJobID:\", rabi_job_id)"
   ]
  },
  {
   "cell_type": "code",
   "execution_count": null,
   "id": "47253a3c-52b5-46a7-8191-c768d0064dd3",
   "metadata": {},
   "outputs": [],
   "source": [
    "plt.figure(3)\n",
    "plt.plot(amplitudes, np.real(rabi_measured_signals), 'gx')\n",
    "plt.xlim([min(amplitudes), max(amplitudes)])\n",
    "plt.title(\"Rabi Calibration Curve\")\n",
    "plt.xlabel(\"Amplitude [a.u.]\")\n",
    "plt.ylabel(\"Measured Signal [a.u.]\")\n",
    "plt.show()"
   ]
  },
  {
   "cell_type": "code",
   "execution_count": null,
   "id": "26a9eefb-d725-48b2-9729-c680a664c27d",
   "metadata": {},
   "outputs": [],
   "source": [
    "fit_crop_parameter = int(0.6 * len(amplitudes))\n"
   ]
  },
  {
   "cell_type": "code",
   "execution_count": null,
   "id": "f2c281ad-c637-4ad4-93a9-1663dbca1b63",
   "metadata": {},
   "outputs": [],
   "source": [
    "rabi_fit_params, rabi_y_fit = fit_function(\n",
    "    amplitudes[: fit_crop_parameter],\n",
    "    np.real(rabi_measured_signals[: fit_crop_parameter]), \n",
    "    lambda x, A, k, B: A * (np.cos(k * (x))) + B,\n",
    "    [-2.6, 60, -5.1] # initial parameters for curve_fit\n",
    ")\n"
   ]
  },
  {
   "cell_type": "code",
   "execution_count": null,
   "id": "8e99d47b-70a2-412f-b17c-efb94c77dfb2",
   "metadata": {},
   "outputs": [],
   "source": [
    "print(rabi_fit_params)\n",
    "A, k, B = rabi_fit_params\n",
    "pi_amp_12 = np.pi / (k)\n",
    "extended_y_fit = A * (np.cos(k * (amplitudes))) + B\n"
   ]
  },
  {
   "cell_type": "code",
   "execution_count": null,
   "id": "33391936-80b5-4b00-b143-f2f98b3fe702",
   "metadata": {},
   "outputs": [],
   "source": [
    "plt.figure(4)\n",
    "plt.scatter(amplitudes, np.real(rabi_measured_signals), color='black')\n",
    "plt.plot(amplitudes, extended_y_fit, color='red')\n",
    "plt.xlim([min(amplitudes), max(amplitudes)])\n",
    "plt.title(\"Fitted Rabi Calibration Curve\")\n",
    "plt.xlabel(\"Amplitude [a.u.]\")\n",
    "plt.ylabel(\"Measured Signal [a.u.]\")\n",
    "plt.show()"
   ]
  },
  {
   "cell_type": "code",
   "execution_count": null,
   "id": "f152c762-ac2d-4940-87d9-5f281c922c7f",
   "metadata": {},
   "outputs": [],
   "source": [
    "pi_amp_12"
   ]
  },
  {
   "cell_type": "code",
   "execution_count": null,
   "id": "6b6f03a1-6cf2-49ba-a65e-387666ed3b2d",
   "metadata": {},
   "outputs": [],
   "source": [
    "pi_duration"
   ]
  },
  {
   "cell_type": "code",
   "execution_count": null,
   "id": "63870163-a116-4851-adf7-e97fdeb51d63",
   "metadata": {},
   "outputs": [],
   "source": []
  }
 ],
 "metadata": {
  "kernelspec": {
   "display_name": "Qiskit v0.35.0 (ipykernel)",
   "language": "python",
   "name": "python3"
  },
  "language_info": {
   "codemirror_mode": {
    "name": "ipython",
    "version": 3
   },
   "file_extension": ".py",
   "mimetype": "text/x-python",
   "name": "python",
   "nbconvert_exporter": "python",
   "pygments_lexer": "ipython3",
   "version": "3.8.13"
  },
  "widgets": {
   "application/vnd.jupyter.widget-state+json": {
    "state": {
     "00b08fa54a194ff0b270e83b71085938": {
      "model_module": "@jupyter-widgets/base",
      "model_module_version": "1.2.0",
      "model_name": "LayoutModel",
      "state": {
       "width": "70px"
      }
     },
     "022588c203034f069c9eed74724dfcbf": {
      "model_module": "@jupyter-widgets/base",
      "model_module_version": "1.2.0",
      "model_name": "LayoutModel",
      "state": {
       "width": "95px"
      }
     },
     "196fe2b694b94ad1ba3b67d19d95b1c3": {
      "model_module": "@jupyter-widgets/base",
      "model_module_version": "1.2.0",
      "model_name": "LayoutModel",
      "state": {
       "overflow_x": "scroll"
      }
     },
     "1b9a4b0af9104ba18e26a885dd3d648a": {
      "model_module": "@jupyter-widgets/controls",
      "model_module_version": "1.5.0",
      "model_name": "HTMLModel",
      "state": {
       "layout": "IPY_MODEL_196fe2b694b94ad1ba3b67d19d95b1c3",
       "style": "IPY_MODEL_2b472310529c443f80f2af61e203b86e",
       "value": "job is queued"
      }
     },
     "1d8eff0a025c40e68b271e36f36141d5": {
      "model_module": "@jupyter-widgets/controls",
      "model_module_version": "1.5.0",
      "model_name": "HTMLModel",
      "state": {
       "layout": "IPY_MODEL_f6307a4d80874a90a2adb6771a63f5f1",
       "style": "IPY_MODEL_e72fb9e63a734322bdc044a5173d2b77",
       "value": "<h5>Backend</h5>"
      }
     },
     "1f2f222bbae440d4bed5f31e0b56eb9d": {
      "model_module": "@jupyter-widgets/controls",
      "model_module_version": "1.5.0",
      "model_name": "ButtonStyleModel",
      "state": {
       "button_color": "white"
      }
     },
     "27b5cc53fe784949b9cfd172c00efb2f": {
      "model_module": "@jupyter-widgets/controls",
      "model_module_version": "1.5.0",
      "model_name": "DescriptionStyleModel",
      "state": {
       "description_width": ""
      }
     },
     "2846aa33fa774ab6a4c1df0e017bd63c": {
      "model_module": "@jupyter-widgets/base",
      "model_module_version": "1.2.0",
      "model_name": "LayoutModel",
      "state": {
       "margin": "0px 0px 0px 37px",
       "width": "600px"
      }
     },
     "2af55ed1faac474a9baa0519e0491a49": {
      "model_module": "@jupyter-widgets/controls",
      "model_module_version": "1.5.0",
      "model_name": "DescriptionStyleModel",
      "state": {
       "description_width": ""
      }
     },
     "2b472310529c443f80f2af61e203b86e": {
      "model_module": "@jupyter-widgets/controls",
      "model_module_version": "1.5.0",
      "model_name": "DescriptionStyleModel",
      "state": {
       "description_width": ""
      }
     },
     "30e3b04c7f954ea6b9e9f93155b6633d": {
      "model_module": "@jupyter-widgets/controls",
      "model_module_version": "1.5.0",
      "model_name": "ButtonModel",
      "state": {
       "icon": "close",
       "layout": "IPY_MODEL_d4d61165f27a4c09b2f4a94d3c88e41e",
       "style": "IPY_MODEL_1f2f222bbae440d4bed5f31e0b56eb9d"
      }
     },
     "3418003017c3492aac1cea328960f200": {
      "model_module": "@jupyter-widgets/controls",
      "model_module_version": "1.5.0",
      "model_name": "ButtonStyleModel",
      "state": {
       "button_color": "white"
      }
     },
     "378a7f7bc75f441b885235070ce5217b": {
      "model_module": "@jupyter-widgets/base",
      "model_module_version": "1.2.0",
      "model_name": "LayoutModel",
      "state": {
       "width": "190px"
      }
     },
     "39728d5937d8420cac344706454102cf": {
      "model_module": "@jupyter-widgets/controls",
      "model_module_version": "1.5.0",
      "model_name": "HTMLModel",
      "state": {
       "layout": "IPY_MODEL_5ed8ede248fe42d9824d55b38ae202c1",
       "style": "IPY_MODEL_27b5cc53fe784949b9cfd172c00efb2f",
       "value": "job has successfully run"
      }
     },
     "399981af3a054e8fbdafc5c355290e4d": {
      "model_module": "@jupyter-widgets/controls",
      "model_module_version": "1.5.0",
      "model_name": "HBoxModel",
      "state": {
       "children": [
        "IPY_MODEL_c38067c9fc89481d88998ba37b71d172",
        "IPY_MODEL_adab81897ee041668a3f372dd88550ac",
        "IPY_MODEL_e3d346114bf74dd3bf8c94209ef725dd",
        "IPY_MODEL_67ca3b208ac341ee9a5dee61c6467726",
        "IPY_MODEL_5117e8b599254db2aa51a79613cb401d",
        "IPY_MODEL_39728d5937d8420cac344706454102cf"
       ],
       "layout": "IPY_MODEL_3ec4bc8982be4da093e34acd6a3dc378"
      }
     },
     "3ec4bc8982be4da093e34acd6a3dc378": {
      "model_module": "@jupyter-widgets/base",
      "model_module_version": "1.2.0",
      "model_name": "LayoutModel",
      "state": {
       "max_width": "700px",
       "min_width": "700px"
      }
     },
     "3ed2b2b6b32b43e88486d69ec46191ce": {
      "model_module": "@jupyter-widgets/base",
      "model_module_version": "1.2.0",
      "model_name": "LayoutModel",
      "state": {
       "width": "95px"
      }
     },
     "42a868a7ee5547f388cd187a5c35aae7": {
      "model_module": "@jupyter-widgets/controls",
      "model_module_version": "1.5.0",
      "model_name": "DescriptionStyleModel",
      "state": {
       "description_width": ""
      }
     },
     "441bfdc58b794f9a91ee18acb80030bb": {
      "model_module": "@jupyter-widgets/controls",
      "model_module_version": "1.5.0",
      "model_name": "DescriptionStyleModel",
      "state": {
       "description_width": ""
      }
     },
     "48d4dba8811a48dca76cbd3bf5b80686": {
      "model_module": "@jupyter-widgets/controls",
      "model_module_version": "1.5.0",
      "model_name": "DescriptionStyleModel",
      "state": {
       "description_width": ""
      }
     },
     "4f5cd19ea13742588d6fa46c4cec857c": {
      "model_module": "@jupyter-widgets/controls",
      "model_module_version": "1.5.0",
      "model_name": "HBoxModel",
      "state": {
       "children": [
        "IPY_MODEL_5ac1e09e15524a50a59d183856bff66b",
        "IPY_MODEL_1d8eff0a025c40e68b271e36f36141d5",
        "IPY_MODEL_80839f2c8e9649cfb9cae93b06065ea6",
        "IPY_MODEL_c398bd0b259543e7abe5674e02e8c2a5",
        "IPY_MODEL_78401e477e0b478ea376f0e3bb2da1eb"
       ],
       "layout": "IPY_MODEL_2846aa33fa774ab6a4c1df0e017bd63c"
      }
     },
     "5117e8b599254db2aa51a79613cb401d": {
      "model_module": "@jupyter-widgets/controls",
      "model_module_version": "1.5.0",
      "model_name": "HTMLModel",
      "state": {
       "layout": "IPY_MODEL_00b08fa54a194ff0b270e83b71085938",
       "style": "IPY_MODEL_ad7bf79fbeba433fa1fbb9da24e86994",
       "value": "-"
      }
     },
     "54568486c8454c258767c1048be77cd9": {
      "model_module": "@jupyter-widgets/controls",
      "model_module_version": "1.5.0",
      "model_name": "HTMLModel",
      "state": {
       "layout": "IPY_MODEL_69a28e0a383349bba83e67c513b43e5d",
       "style": "IPY_MODEL_dcf668e67ab74a90aa773dd15c64f2d9",
       "value": "5"
      }
     },
     "5ac1e09e15524a50a59d183856bff66b": {
      "model_module": "@jupyter-widgets/controls",
      "model_module_version": "1.5.0",
      "model_name": "HTMLModel",
      "state": {
       "layout": "IPY_MODEL_f6a8b4ee2bf642e4908d300fe6c0c888",
       "style": "IPY_MODEL_48d4dba8811a48dca76cbd3bf5b80686",
       "value": "<h5>Job ID</h5>"
      }
     },
     "5b095808f661454b8c6d0f970432d6b0": {
      "model_module": "@jupyter-widgets/base",
      "model_module_version": "1.2.0",
      "model_name": "LayoutModel",
      "state": {
       "grid_template_areas": "\n                                       \". . . . right \"\n                                        ",
       "grid_template_columns": "20% 20% 20% 20% 20%",
       "width": "100%"
      }
     },
     "5e31ec62a3f74c8baf44505b51a382cc": {
      "model_module": "@jupyter-widgets/base",
      "model_module_version": "1.2.0",
      "model_name": "LayoutModel",
      "state": {
       "grid_area": "right",
       "padding": "0px 0px 0px 0px",
       "width": "70px"
      }
     },
     "5ed8ede248fe42d9824d55b38ae202c1": {
      "model_module": "@jupyter-widgets/base",
      "model_module_version": "1.2.0",
      "model_name": "LayoutModel",
      "state": {
       "overflow_x": "scroll"
      }
     },
     "602f3ab0ba27403ca7a715a0ef8841a2": {
      "model_module": "@jupyter-widgets/base",
      "model_module_version": "1.2.0",
      "model_name": "LayoutModel",
      "state": {
       "width": "70px"
      }
     },
     "60c6410780b641a99a2f050c469b94f0": {
      "model_module": "@jupyter-widgets/base",
      "model_module_version": "1.2.0",
      "model_name": "LayoutModel",
      "state": {
       "margin": "0px 0px 10px 0px"
      }
     },
     "67ca3b208ac341ee9a5dee61c6467726": {
      "model_module": "@jupyter-widgets/controls",
      "model_module_version": "1.5.0",
      "model_name": "HTMLModel",
      "state": {
       "layout": "IPY_MODEL_022588c203034f069c9eed74724dfcbf",
       "style": "IPY_MODEL_7a83eaeca6d6445a86502eb64f318384",
       "value": "<font style='color:#34BC6E'>DONE</font>"
      }
     },
     "69a28e0a383349bba83e67c513b43e5d": {
      "model_module": "@jupyter-widgets/base",
      "model_module_version": "1.2.0",
      "model_name": "LayoutModel",
      "state": {
       "width": "70px"
      }
     },
     "6b6a5ec26b804066b2afcde89b251f8f": {
      "model_module": "@jupyter-widgets/controls",
      "model_module_version": "1.5.0",
      "model_name": "DescriptionStyleModel",
      "state": {
       "description_width": ""
      }
     },
     "6bd937aae5a047f8833c0c86968925a3": {
      "model_module": "@jupyter-widgets/controls",
      "model_module_version": "1.5.0",
      "model_name": "ButtonStyleModel",
      "state": {}
     },
     "6d7af5450bbd4c81bcdef8022c61d1a1": {
      "model_module": "@jupyter-widgets/controls",
      "model_module_version": "1.5.0",
      "model_name": "GridBoxModel",
      "state": {
       "children": [
        "IPY_MODEL_d3d65d3b72864b87b8fa14a698c48713"
       ],
       "layout": "IPY_MODEL_5b095808f661454b8c6d0f970432d6b0"
      }
     },
     "7597eae8eeb04f83a3cd971ffed93fb4": {
      "model_module": "@jupyter-widgets/controls",
      "model_module_version": "1.5.0",
      "model_name": "DescriptionStyleModel",
      "state": {
       "description_width": ""
      }
     },
     "78401e477e0b478ea376f0e3bb2da1eb": {
      "model_module": "@jupyter-widgets/controls",
      "model_module_version": "1.5.0",
      "model_name": "HTMLModel",
      "state": {
       "layout": "IPY_MODEL_9b377d3c0b8a47f1a54c21ff8fe0309b",
       "style": "IPY_MODEL_42a868a7ee5547f388cd187a5c35aae7",
       "value": "<h5>Message</h5>"
      }
     },
     "7a83eaeca6d6445a86502eb64f318384": {
      "model_module": "@jupyter-widgets/controls",
      "model_module_version": "1.5.0",
      "model_name": "DescriptionStyleModel",
      "state": {
       "description_width": ""
      }
     },
     "80839f2c8e9649cfb9cae93b06065ea6": {
      "model_module": "@jupyter-widgets/controls",
      "model_module_version": "1.5.0",
      "model_name": "HTMLModel",
      "state": {
       "layout": "IPY_MODEL_f198ba4e28b846388d130d6340bd1d5a",
       "style": "IPY_MODEL_cd5aefecf9e3421cb6f87a02875023a2",
       "value": "<h5>Status</h5>"
      }
     },
     "82b4e86b1cc94c2eb83f827b5e4af732": {
      "model_module": "@jupyter-widgets/controls",
      "model_module_version": "1.5.0",
      "model_name": "HTMLModel",
      "state": {
       "layout": "IPY_MODEL_ae00563d871c474c9cdcf7acf8a98863",
       "style": "IPY_MODEL_996f61458dfe497897f76edb11ccdf31",
       "value": "6298784273d2ffe17a3a5407"
      }
     },
     "8e43219c03d441dfaefa5627a6ddf179": {
      "model_module": "@jupyter-widgets/controls",
      "model_module_version": "1.5.0",
      "model_name": "HTMLModel",
      "state": {
       "layout": "IPY_MODEL_ee5a757501ff4f13a0bbb1faf723d291",
       "style": "IPY_MODEL_6b6a5ec26b804066b2afcde89b251f8f",
       "value": "ibmq_armonk"
      }
     },
     "996f61458dfe497897f76edb11ccdf31": {
      "model_module": "@jupyter-widgets/controls",
      "model_module_version": "1.5.0",
      "model_name": "DescriptionStyleModel",
      "state": {
       "description_width": ""
      }
     },
     "9b377d3c0b8a47f1a54c21ff8fe0309b": {
      "model_module": "@jupyter-widgets/base",
      "model_module_version": "1.2.0",
      "model_name": "LayoutModel",
      "state": {}
     },
     "a9db3deda24b46e18349723b2c7b6b8e": {
      "model_module": "@jupyter-widgets/controls",
      "model_module_version": "1.5.0",
      "model_name": "HTMLModel",
      "state": {
       "layout": "IPY_MODEL_60c6410780b641a99a2f050c469b94f0",
       "style": "IPY_MODEL_c248d7353b1c4660b26c7a8a2231a69b",
       "value": "<p style='font-family: IBM Plex Sans, Arial, Helvetica, sans-serif; font-size: 20px; font-weight: medium;'>Circuit Properties</p>"
      }
     },
     "ac738baf79db4eb4bb87560fb71bfe2c": {
      "model_module": "@jupyter-widgets/base",
      "model_module_version": "1.2.0",
      "model_name": "LayoutModel",
      "state": {
       "max_width": "700px",
       "min_width": "700px"
      }
     },
     "ad7bf79fbeba433fa1fbb9da24e86994": {
      "model_module": "@jupyter-widgets/controls",
      "model_module_version": "1.5.0",
      "model_name": "DescriptionStyleModel",
      "state": {
       "description_width": ""
      }
     },
     "adab81897ee041668a3f372dd88550ac": {
      "model_module": "@jupyter-widgets/controls",
      "model_module_version": "1.5.0",
      "model_name": "HTMLModel",
      "state": {
       "layout": "IPY_MODEL_378a7f7bc75f441b885235070ce5217b",
       "style": "IPY_MODEL_f8480e26b01a46e0af680752d35adc75",
       "value": "629875b31e5d5ef374df65dd"
      }
     },
     "ae00563d871c474c9cdcf7acf8a98863": {
      "model_module": "@jupyter-widgets/base",
      "model_module_version": "1.2.0",
      "model_name": "LayoutModel",
      "state": {
       "width": "190px"
      }
     },
     "c248d7353b1c4660b26c7a8a2231a69b": {
      "model_module": "@jupyter-widgets/controls",
      "model_module_version": "1.5.0",
      "model_name": "DescriptionStyleModel",
      "state": {
       "description_width": ""
      }
     },
     "c38067c9fc89481d88998ba37b71d172": {
      "model_module": "@jupyter-widgets/controls",
      "model_module_version": "1.5.0",
      "model_name": "ButtonModel",
      "state": {
       "icon": "close",
       "layout": "IPY_MODEL_f62bc03ae58746dc8184baf87b334ce2",
       "style": "IPY_MODEL_3418003017c3492aac1cea328960f200"
      }
     },
     "c398bd0b259543e7abe5674e02e8c2a5": {
      "model_module": "@jupyter-widgets/controls",
      "model_module_version": "1.5.0",
      "model_name": "HTMLModel",
      "state": {
       "layout": "IPY_MODEL_602f3ab0ba27403ca7a715a0ef8841a2",
       "style": "IPY_MODEL_2af55ed1faac474a9baa0519e0491a49",
       "value": "<h5>Queue</h5>"
      }
     },
     "ca79775af376433498c5c2a300f09a47": {
      "model_module": "@jupyter-widgets/base",
      "model_module_version": "1.2.0",
      "model_name": "LayoutModel",
      "state": {
       "width": "145px"
      }
     },
     "cd5aefecf9e3421cb6f87a02875023a2": {
      "model_module": "@jupyter-widgets/controls",
      "model_module_version": "1.5.0",
      "model_name": "DescriptionStyleModel",
      "state": {
       "description_width": ""
      }
     },
     "d3d65d3b72864b87b8fa14a698c48713": {
      "model_module": "@jupyter-widgets/controls",
      "model_module_version": "1.5.0",
      "model_name": "ButtonModel",
      "state": {
       "button_style": "primary",
       "description": "Clear",
       "layout": "IPY_MODEL_5e31ec62a3f74c8baf44505b51a382cc",
       "style": "IPY_MODEL_6bd937aae5a047f8833c0c86968925a3"
      }
     },
     "d4d61165f27a4c09b2f4a94d3c88e41e": {
      "model_module": "@jupyter-widgets/base",
      "model_module_version": "1.2.0",
      "model_name": "LayoutModel",
      "state": {
       "margin": "0px 5px 0px 0px",
       "width": "32px"
      }
     },
     "dcf668e67ab74a90aa773dd15c64f2d9": {
      "model_module": "@jupyter-widgets/controls",
      "model_module_version": "1.5.0",
      "model_name": "DescriptionStyleModel",
      "state": {
       "description_width": ""
      }
     },
     "de1cab0d0ec246cba498041300098b8c": {
      "model_module": "@jupyter-widgets/controls",
      "model_module_version": "1.5.0",
      "model_name": "HBoxModel",
      "state": {
       "children": [
        "IPY_MODEL_30e3b04c7f954ea6b9e9f93155b6633d",
        "IPY_MODEL_82b4e86b1cc94c2eb83f827b5e4af732",
        "IPY_MODEL_8e43219c03d441dfaefa5627a6ddf179",
        "IPY_MODEL_f343a82c2aee4e5a840c202f831205c7",
        "IPY_MODEL_54568486c8454c258767c1048be77cd9",
        "IPY_MODEL_1b9a4b0af9104ba18e26a885dd3d648a"
       ],
       "layout": "IPY_MODEL_ac738baf79db4eb4bb87560fb71bfe2c"
      }
     },
     "e3d346114bf74dd3bf8c94209ef725dd": {
      "model_module": "@jupyter-widgets/controls",
      "model_module_version": "1.5.0",
      "model_name": "HTMLModel",
      "state": {
       "layout": "IPY_MODEL_ca79775af376433498c5c2a300f09a47",
       "style": "IPY_MODEL_441bfdc58b794f9a91ee18acb80030bb",
       "value": "ibmq_armonk"
      }
     },
     "e72fb9e63a734322bdc044a5173d2b77": {
      "model_module": "@jupyter-widgets/controls",
      "model_module_version": "1.5.0",
      "model_name": "DescriptionStyleModel",
      "state": {
       "description_width": ""
      }
     },
     "ee5a757501ff4f13a0bbb1faf723d291": {
      "model_module": "@jupyter-widgets/base",
      "model_module_version": "1.2.0",
      "model_name": "LayoutModel",
      "state": {
       "width": "145px"
      }
     },
     "f198ba4e28b846388d130d6340bd1d5a": {
      "model_module": "@jupyter-widgets/base",
      "model_module_version": "1.2.0",
      "model_name": "LayoutModel",
      "state": {
       "width": "95px"
      }
     },
     "f343a82c2aee4e5a840c202f831205c7": {
      "model_module": "@jupyter-widgets/controls",
      "model_module_version": "1.5.0",
      "model_name": "HTMLModel",
      "state": {
       "layout": "IPY_MODEL_3ed2b2b6b32b43e88486d69ec46191ce",
       "style": "IPY_MODEL_7597eae8eeb04f83a3cd971ffed93fb4",
       "value": "QUEUED"
      }
     },
     "f62bc03ae58746dc8184baf87b334ce2": {
      "model_module": "@jupyter-widgets/base",
      "model_module_version": "1.2.0",
      "model_name": "LayoutModel",
      "state": {
       "margin": "0px 5px 0px 0px",
       "width": "32px"
      }
     },
     "f6307a4d80874a90a2adb6771a63f5f1": {
      "model_module": "@jupyter-widgets/base",
      "model_module_version": "1.2.0",
      "model_name": "LayoutModel",
      "state": {
       "width": "145px"
      }
     },
     "f6a8b4ee2bf642e4908d300fe6c0c888": {
      "model_module": "@jupyter-widgets/base",
      "model_module_version": "1.2.0",
      "model_name": "LayoutModel",
      "state": {
       "width": "190px"
      }
     },
     "f8480e26b01a46e0af680752d35adc75": {
      "model_module": "@jupyter-widgets/controls",
      "model_module_version": "1.5.0",
      "model_name": "DescriptionStyleModel",
      "state": {
       "description_width": ""
      }
     }
    },
    "version_major": 2,
    "version_minor": 0
   }
  }
 },
 "nbformat": 4,
 "nbformat_minor": 5
}
