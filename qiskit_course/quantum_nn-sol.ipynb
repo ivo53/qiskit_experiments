{
 "cells": [
  {
   "cell_type": "code",
   "execution_count": 1,
   "id": "97d004e9-021d-49a9-b806-a026e781bcfb",
   "metadata": {},
   "outputs": [
    {
     "name": "stderr",
     "output_type": "stream",
     "text": [
      "<frozen importlib._bootstrap>:219: RuntimeWarning: scipy._lib.messagestream.MessageStream size changed, may indicate binary incompatibility. Expected 56 from C header, got 64 from PyObject\n"
     ]
    }
   ],
   "source": [
    "# Imports\n",
    "import numpy as np\n",
    "from sklearn import model_selection, datasets, svm\n",
    "import matplotlib.pyplot as plt\n",
    "\n",
    "import copy\n",
    "import qiskit\n",
    "from qiskit import QuantumCircuit, Aer, IBMQ, QuantumRegister, ClassicalRegister\n",
    "\n",
    "from qiskit.circuit import Parameter, ParameterVector\n",
    "from qiskit.quantum_info import Operator"
   ]
  },
  {
   "cell_type": "code",
   "execution_count": 2,
   "id": "05c57378-be44-47d2-a015-d13e80db05aa",
   "metadata": {},
   "outputs": [],
   "source": [
    "# Load the iris dataset and do a train-test split\n",
    "# We shall only use the first 100 emtries, which only contain two classes\n",
    "iris = datasets.load_iris()\n",
    "X = iris.data[0:100]\n",
    "Y = iris.target[0:100]\n",
    "X_train, X_test, Y_train, Y_test = model_selection.train_test_split(X, Y, test_size=0.33, random_state=42)"
   ]
  },
  {
   "cell_type": "code",
   "execution_count": 3,
   "id": "29494169-0f15-491a-9cd6-20d86576e9a5",
   "metadata": {},
   "outputs": [],
   "source": [
    "# Number of qubits\n",
    "N = 4"
   ]
  },
  {
   "cell_type": "code",
   "execution_count": 4,
   "id": "8634f027-9d73-4205-9d60-aea70d6c7403",
   "metadata": {},
   "outputs": [],
   "source": [
    "# Define a feature map using angle encoding\n",
    "def feature_map(X):\n",
    "\n",
    "    q = QuantumRegister(N)\n",
    "    c = ClassicalRegister(1)\n",
    "    qc = QuantumCircuit(q, c)\n",
    "\n",
    "    for i, x in enumerate(X):\n",
    "        qc.rx(x, i)\n",
    "    \n",
    "    return qc, c"
   ]
  },
  {
   "cell_type": "code",
   "execution_count": 5,
   "id": "a7a20c3b-4996-4e58-8a03-8c513f2a377f",
   "metadata": {},
   "outputs": [],
   "source": [
    "# Define the variational circuit\n",
    "def variational_circuit(qc, theta):\n",
    "    \n",
    "    for i in range(N-1):\n",
    "        qc.cnot(i, i+1)\n",
    "    qc.cnot(N-1, 0)\n",
    "    \n",
    "    for i in range(N):\n",
    "        qc.ry(theta[i], i)\n",
    "        \n",
    "    for i in range(N-1):\n",
    "        qc.cnot(i, i+1)\n",
    "    qc.cnot(N-1, 0)\n",
    "    \n",
    "    for i in range(N):\n",
    "        qc.ry(theta[i+N], i)\n",
    "    \n",
    "    return qc"
   ]
  },
  {
   "cell_type": "code",
   "execution_count": 6,
   "id": "b92d9b42-b62a-4287-8e8e-10d7c6d72432",
   "metadata": {},
   "outputs": [
    {
     "data": {
      "image/png": "[encoded data removed]",
      "text/plain": [
       "<Figure size 761.778x325.08 with 1 Axes>"
      ]
     },
     "execution_count": 6,
     "metadata": {},
     "output_type": "execute_result"
    }
   ],
   "source": [
    "# Draw the variational model, adding a measurement on the first qubit\n",
    "q = QuantumRegister(N)\n",
    "c = ClassicalRegister(1)\n",
    "qc = QuantumCircuit(q, c)\n",
    "qc = variational_circuit(qc, ParameterVector('θ', 8))\n",
    "qc.measure(0, c)\n",
    "qc.draw()"
   ]
  },
  {
   "cell_type": "code",
   "execution_count": 7,
   "id": "16a2cbc0-e539-4b81-812d-2e9b3cd5e9a3",
   "metadata": {},
   "outputs": [],
   "source": [
    "# Define a function, containing the variational model\n",
    "def quantum_nn(X, theta, simulator=True):\n",
    "\n",
    "    qc, c = feature_map(X)\n",
    "    qc.barrier()\n",
    "    qc = variational_circuit(qc, theta)\n",
    "    qc.barrier()\n",
    "    qc.measure(0, c)\n",
    "\n",
    "    shots = 10000\n",
    "    backend = Aer.get_backend('qasm_simulator')\n",
    "    \n",
    "    if not simulator:\n",
    "        shots = 1000\n",
    "        provider = IBMQ.load_account()\n",
    "        backend = provider.get_backend('ibmq_athens')\n",
    "    \n",
    "    job = backend.run(qc, shots=shots)\n",
    "\n",
    "    result = job.result()\n",
    "    counts = result.get_counts()\n",
    "    \n",
    "    return counts['1']/shots\n"
   ]
  },
  {
   "cell_type": "code",
   "execution_count": 8,
   "id": "6d6be480-193c-4192-839d-d1dc9d122c7e",
   "metadata": {},
   "outputs": [],
   "source": [
    "# Define different types of loss functions\n",
    "def loss(prediction, target):\n",
    "    return (prediction - target)**2\n",
    "\n",
    "def log_loss(prediction, target):\n",
    "    return - (target * np.log(prediction))  - ((1-target) * np.log(1-prediction))"
   ]
  },
  {
   "cell_type": "code",
   "execution_count": 9,
   "id": "2b737aab-a24d-4dc3-996e-ea3757d8cfcf",
   "metadata": {},
   "outputs": [],
   "source": [
    "# Define the gradient function\n",
    "def gradient(X, Y, theta):\n",
    "    delta = 0.01\n",
    "    grad = []\n",
    "    for i in range(len(theta)):\n",
    "        dtheta = copy.copy(theta)\n",
    "        dtheta[i] += delta\n",
    "        \n",
    "        pred1 = quantum_nn(X, dtheta)\n",
    "        pred2 = quantum_nn(X, theta) \n",
    "        \n",
    "        grad.append((log_loss(pred1, Y) - log_loss(pred2, Y))/delta)\n",
    "        \n",
    "    return np.array(grad)"
   ]
  },
  {
   "cell_type": "code",
   "execution_count": 10,
   "id": "2150c0f6-f3e5-4cc1-875d-f734778d1f38",
   "metadata": {},
   "outputs": [],
   "source": [
    "# Define an accuracy function to check the performance of the model\n",
    "def accuracy(X, Y, theta):\n",
    "    \n",
    "    counter = 0\n",
    "    for X_i, Y_i in zip(X, Y):\n",
    "        prediction = quantum_nn(X_i, theta)\n",
    "        \n",
    "        if prediction < 0.5 and Y_i == 0:\n",
    "            counter += 1\n",
    "        elif prediction >= 0.5 and Y_i == 1:\n",
    "            counter += 1\n",
    "            \n",
    "    return counter/len(Y)"
   ]
  },
  {
   "cell_type": "code",
   "execution_count": 11,
   "id": "3bf66ea8-3242-4422-b489-39ef91631604",
   "metadata": {},
   "outputs": [
    {
     "name": "stdout",
     "output_type": "stream",
     "text": [
      "Epoch \t Loss \t Training Accuracy\n",
      "0 \t 0.645 \t 0.836\n",
      "1 \t 0.416 \t 0.970\n",
      "2 \t 0.388 \t 0.896\n",
      "3 \t 0.382 \t 0.866\n",
      "4 \t 0.346 \t 0.985\n",
      "5 \t 0.353 \t 0.940\n",
      "6 \t 0.361 \t 0.985\n",
      "7 \t 0.314 \t 0.985\n",
      "8 \t 0.326 \t 0.970\n",
      "9 \t 0.321 \t 0.985\n",
      "10 \t 0.349 \t 0.970\n",
      "11 \t 0.326 \t 0.970\n",
      "12 \t 0.326 \t 0.940\n",
      "13 \t 0.346 \t 0.985\n",
      "14 \t 0.338 \t 0.866\n",
      "15 \t 0.366 \t 0.985\n",
      "16 \t 0.314 \t 0.970\n",
      "17 \t 0.325 \t 0.970\n",
      "18 \t 0.346 \t 0.985\n",
      "19 \t 0.326 \t 1.000\n"
     ]
    }
   ],
   "source": [
    "# Train the model\n",
    "eta = 0.05\n",
    "loss_list = []\n",
    "theta = np.ones(2*N)\n",
    "\n",
    "print('Epoch \\t Loss \\t Training Accuracy')\n",
    "\n",
    "# Go through the epochs\n",
    "for i in range(20):\n",
    "    \n",
    "    loss_tmp = []\n",
    "    # For each epoch go through the data\n",
    "    for X_i, Y_i in zip(X_train, Y_train):\n",
    "\n",
    "        prediction = quantum_nn(X_i, theta)\n",
    "        loss_tmp.append(log_loss(prediction, Y_i))\n",
    "        \n",
    "        # Update the parameters\n",
    "        theta = theta - eta * gradient(X_i, Y_i, theta)\n",
    "    loss_list.append(np.mean(loss_tmp))\n",
    "    acc = accuracy(X_train, Y_train, theta)\n",
    "    \n",
    "    print(f'{i} \\t {loss_list[-1]:.3f} \\t {acc:.3f}')"
   ]
  },
  {
   "cell_type": "code",
   "execution_count": 12,
   "id": "818a4d69-e2d5-4d3e-9181-32b5ccbeefff",
   "metadata": {},
   "outputs": [
    {
     "data": {
      "image/png": "[encoded data removed]",
      "text/plain": [
       "<Figure size 432x288 with 1 Axes>"
      ]
     },
     "metadata": {
      "needs_background": "light"
     },
     "output_type": "display_data"
    }
   ],
   "source": [
    "# Plot the loss function\n",
    "plt.plot(loss_list)\n",
    "plt.xlabel('Epoch')\n",
    "plt.ylabel('Loss')\n",
    "plt.show()"
   ]
  },
  {
   "cell_type": "code",
   "execution_count": 13,
   "id": "211d29a4-4157-4244-8a32-bbdae64a5c48",
   "metadata": {},
   "outputs": [
    {
     "data": {
      "text/plain": [
       "0.9696969696969697"
      ]
     },
     "execution_count": 13,
     "metadata": {},
     "output_type": "execute_result"
    }
   ],
   "source": [
    "# Check the accuracy of the model on the test set\n",
    "accuracy(X_test, Y_test, theta)"
   ]
  },
  {
   "cell_type": "code",
   "execution_count": null,
   "id": "2fb08b2c-bf1b-4763-9d74-fdf68762aad1",
   "metadata": {},
   "outputs": [],
   "source": []
  }
 ],
 "metadata": {
  "kernelspec": {
   "display_name": "Qiskit v0.35.0 (ipykernel)",
   "language": "python",
   "name": "python3"
  },
  "language_info": {
   "codemirror_mode": {
    "name": "ipython",
    "version": 3
   },
   "file_extension": ".py",
   "mimetype": "text/x-python",
   "name": "python",
   "nbconvert_exporter": "python",
   "pygments_lexer": "ipython3",
   "version": "3.8.13"
  },
  "widgets": {
   "application/vnd.jupyter.widget-state+json": {
    "state": {},
    "version_major": 2,
    "version_minor": 0
   }
  }
 },
 "nbformat": 4,
 "nbformat_minor": 5
}
