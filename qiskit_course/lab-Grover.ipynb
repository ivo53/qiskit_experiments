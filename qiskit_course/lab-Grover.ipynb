{
 "cells": [
  {
   "cell_type": "markdown",
   "metadata": {},
   "source": [
    "# Lab 2: Grover's Algorithm"
   ]
  },
  {
   "cell_type": "markdown",
   "metadata": {},
   "source": [
    "In this lab, you will implement Grover's algorithm in `Qiskit` and investigate its behavior.\n",
    "\n",
    "You might find this chapter of the Qiskit Textbook useful:\n",
    "- https://qiskit.org/textbook/ch-algorithms/grover.html"
   ]
  },
  {
   "cell_type": "markdown",
   "metadata": {},
   "source": [
    "# Review of Grover's Algorithm"
   ]
  },
  {
   "cell_type": "markdown",
   "metadata": {},
   "source": [
    "You might recall that Grover's algorithm has three main components. \n",
    "1. First, we begin by creating a superposition of all $2^n$ computational basis states by applying a Hadamard ($H$) gate on each qubit starting off in the state $\\vert0\\rangle^{\\otimes n}$. Here, the exponent $\\otimes n$ means that we have a tensor product of the states of $n$ qubits. \n",
    "2. Second, we apply an Oracle operator to mark the appropriate elements among the $2^n$ elements. The oracle operator applies a coefficient of $-1$ to each of the marked elements.\n",
    "3. Third, we apply a Diffusion operator, or diffuser, which inverts the amplitude of all elements about the average amplitude.\n",
    "\n",
    "Putting these components together, and applying the Oracle and Diffusion operators $O(\\sqrt{N = 2^n})$ times, Grover's algorithm allows us to successfully determine the elements that were marked by the Oracle operator with high probability. This is shown in the block diagram above, where the quantum circuit for Grover's algorithm is depicted with a measurement in the end to read out the qubits.\n",
    "\n",
    "# Graded Exercise 1: Implementing Grover's Algorithm\n",
    "\n",
    "As you saw in the lecture, it is not hard to implement Grover's algorithm using `Qiskit`. The goal of this lab is to implement Grover's algorithm by creating a quantum circuit that has the marked elements `000001` and `101010`. You will see that the algorithm outputs one of these two marked elements with probability greater than $99\\%$. \n",
    "\n",
    "Let us build each block step by step.\n",
    "\n",
    "### 1.) Phase Oracle\n",
    "We start with the phase oracle. You might find it helpful to have a look at the corresponding chapter in the Qiskit textbook: https://qiskit.org/textbook/ch-algorithms/grover.html. However, note that the implementation in the textbook is done on 2 and 3 qubits only, while here we need to apply it to 6 qubits.\n",
    "\n",
    "**Recall that the action of the phase oracle is to add a phase of $-1$ to all states representing the marked elements, while leaving all other states unchanged.** An easy way to implement the phase oracle is to create an identity matrix on all $n$ qubits (remember that the corresponding dimension of this matrix is $2^n$) and then change those diagonal elements to $-1$ that correspond to the marked elements. Then, you need to convert that unitary into an operator.\n",
    "\n",
    "We have created a function below called `phase_oracle` which takes in two arguments. The first argument, $n$, gives the number of qubits in the quantum circuit. The second argument, `indices_to_mark`, is a list of the indices whose elements will be marked by the phase oracle with a phase of $-1$. Using these inputs, create a $2^n\\times2^n$ identity matrix, and apply a phase of $-1$ to the diagonal elements at locations given in `indices_to_mark`. For example, if $0$ is in `indices_to_mark`, that means you need to set the top-left-most diagonal element of the identity matrix to -1.\n",
    "\n",
    "Once you complete these steps, apply the unitary operator to the quantum circuit."
   ]
  },
  {
   "cell_type": "code",
   "execution_count": 47,
   "metadata": {},
   "outputs": [],
   "source": [
    "from qiskit.quantum_info import Operator\n",
    "from qiskit import QuantumCircuit, Aer, IBMQ, execute\n",
    "\n",
    "from qiskit.providers.ibmq import least_busy\n",
    "from qiskit.converters import circuit_to_instruction\n",
    "import numpy as np"
   ]
  },
  {
   "cell_type": "code",
   "execution_count": 48,
   "metadata": {},
   "outputs": [],
   "source": [
    "def phase_oracle(n, indices_to_mark, name = 'Oracle'):\n",
    "    \n",
    "    # create a quantum circuit on n qubits\n",
    "    qc = QuantumCircuit(n, name=name)\n",
    "\n",
    "    ### WRITE YOUR CODE BETWEEN THESE LINES - START\n",
    "    oracle_matrix = np.eye(2**n)\n",
    "    oracle_matrix[(indices_to_mark, indices_to_mark)] = -1\n",
    "    ### WRITE YOUR CODE BETWEEN THESE LINES - END\n",
    "\n",
    "    # convert your matrix (called oracle_matrix) into an operator, and add it to the quantum circuit\n",
    "    qc.unitary(Operator(oracle_matrix), range(n))\n",
    "    \n",
    "    return qc"
   ]
  },
  {
   "cell_type": "markdown",
   "metadata": {},
   "source": [
    "### 2.) Diffusion Operator $V$\n",
    "\n",
    "Next, we define the diffuser, which we called $V$ in the lecture. Its effect is to reflect all amplitudes about the average amplitude. To do so, we simply call the `phase_oracle` with only the zero state ($\\vert0\\rangle^{\\otimes n}$) as the marked element and sandwich it between Hadamard gates applied to all qubits."
   ]
  },
  {
   "cell_type": "code",
   "execution_count": 49,
   "metadata": {},
   "outputs": [],
   "source": [
    "def diffuser(n):\n",
    "    \n",
    "    # create a quantum circuit on n qubits\n",
    "    qc = QuantumCircuit(n, name='Diffuser')\n",
    "    \n",
    "    ### WRITE YOUR CODE BETWEEN THESE LINES - START\n",
    "    # for i in range(n):\n",
    "    qc.h(range(n))\n",
    "    qc.append(phase_oracle(n, [0]), [range(n)])\n",
    "    qc.h(range(n))\n",
    "\n",
    "    ### WRITE YOUR CODE BETWEEN THESE LINES - END\n",
    "    \n",
    "    return qc"
   ]
  },
  {
   "cell_type": "markdown",
   "metadata": {},
   "source": [
    "### 3.) Putting it all together\n",
    "\n",
    "Finally, we combine the functions to construct Grover's algorithm. We need to determine the optimal number of rounds $r$ as described in the lecture.\n",
    "\n",
    "This was given by \n",
    "\n",
    "$$r = \\left\\lfloor\\frac{\\pi}{4}\\sqrt{\\frac{N}{k}}\\right\\rfloor$$\n",
    "\n",
    "where $k$ is the number of marked elements, and $\\lfloor~\\rfloor$ means rounding down to the nearest integer. In the specific example that we consider here, where we have six qubits ($N = 2^6$) and two marked elements ($k = 2$), implying that $r = 4$. You can check this yourself by plugging in the numbers.\n",
    "\n",
    "In the lecture, we have also seen a lower bound on the success probability when using $n$ qubits. In this exercise, the success probability should be higher than $99\\%$.\n",
    "\n",
    "Let's construct a quantum program that finds the marked elements `000001` and `101010` using Grover's algorithm. To do this, we will need to do the following: \n",
    "1. We start with a Hadamard gate on all qubits.\n",
    "2. Next, we apply $r$ rounds of Grover's algorithm, where each round consists of the application of the phase oracle with the marked elements and the diffuser. The indices for the two marked elements `000001` and `101010` are $1$ and $42$. \n",
    "3. Finally, we need to measure all qubits.\n",
    "\n",
    "The next lines of code put everything together. **You do not need to modify anything below, but you will need to run the cell to submit your solution.**"
   ]
  },
  {
   "cell_type": "code",
   "execution_count": 50,
   "metadata": {},
   "outputs": [
    {
     "name": "stdout",
     "output_type": "stream",
     "text": [
      "6 qubits, basis states [1, 42] marked, 4 rounds\n"
     ]
    },
    {
     "ename": "CircuitError",
     "evalue": "'The amount of qubit arguments 1 does not match the instruction expectation (6).'",
     "output_type": "error",
     "traceback": [
      "\u001b[1;31m---------------------------------------------------------------------------\u001b[0m",
      "\u001b[1;31mCircuitError\u001b[0m                              Traceback (most recent call last)",
      "\u001b[1;32mc:\\Users\\Ivo\\Documents\\qiskit_codes\\qiskit_course\\lab-Grover.ipynb Cell 10'\u001b[0m in \u001b[0;36m<cell line: 23>\u001b[1;34m()\u001b[0m\n\u001b[0;32m     <a href='vscode-notebook-cell:/c%3A/Users/Ivo/Documents/qiskit_codes/qiskit_course/lab-Grover.ipynb#ch0000009?line=18'>19</a>\u001b[0m     qc\u001b[39m.\u001b[39mmeasure(\u001b[39mrange\u001b[39m(n), \u001b[39mrange\u001b[39m(n))\n\u001b[0;32m     <a href='vscode-notebook-cell:/c%3A/Users/Ivo/Documents/qiskit_codes/qiskit_course/lab-Grover.ipynb#ch0000009?line=20'>21</a>\u001b[0m     \u001b[39mreturn\u001b[39;00m qc\n\u001b[1;32m---> <a href='vscode-notebook-cell:/c%3A/Users/Ivo/Documents/qiskit_codes/qiskit_course/lab-Grover.ipynb#ch0000009?line=22'>23</a>\u001b[0m mycircuit \u001b[39m=\u001b[39m Grover(\u001b[39m6\u001b[39;49m, [\u001b[39m1\u001b[39;49m, \u001b[39m42\u001b[39;49m])\n\u001b[0;32m     <a href='vscode-notebook-cell:/c%3A/Users/Ivo/Documents/qiskit_codes/qiskit_course/lab-Grover.ipynb#ch0000009?line=23'>24</a>\u001b[0m mycircuit\u001b[39m.\u001b[39mdraw()\n",
      "\u001b[1;32mc:\\Users\\Ivo\\Documents\\qiskit_codes\\qiskit_course\\lab-Grover.ipynb Cell 10'\u001b[0m in \u001b[0;36mGrover\u001b[1;34m(n, indices_of_marked_elements)\u001b[0m\n\u001b[0;32m     <a href='vscode-notebook-cell:/c%3A/Users/Ivo/Documents/qiskit_codes/qiskit_course/lab-Grover.ipynb#ch0000009?line=13'>14</a>\u001b[0m \u001b[39mfor\u001b[39;00m _ \u001b[39min\u001b[39;00m \u001b[39mrange\u001b[39m(r):\n\u001b[0;32m     <a href='vscode-notebook-cell:/c%3A/Users/Ivo/Documents/qiskit_codes/qiskit_course/lab-Grover.ipynb#ch0000009?line=14'>15</a>\u001b[0m     qc\u001b[39m.\u001b[39mappend(phase_oracle(n, indices_of_marked_elements), \u001b[39mrange\u001b[39m(n))\n\u001b[1;32m---> <a href='vscode-notebook-cell:/c%3A/Users/Ivo/Documents/qiskit_codes/qiskit_course/lab-Grover.ipynb#ch0000009?line=15'>16</a>\u001b[0m     qc\u001b[39m.\u001b[39mappend(diffuser(n), \u001b[39mrange\u001b[39m(n))\n\u001b[0;32m     <a href='vscode-notebook-cell:/c%3A/Users/Ivo/Documents/qiskit_codes/qiskit_course/lab-Grover.ipynb#ch0000009?line=17'>18</a>\u001b[0m \u001b[39m# step 3: measure all qubits\u001b[39;00m\n\u001b[0;32m     <a href='vscode-notebook-cell:/c%3A/Users/Ivo/Documents/qiskit_codes/qiskit_course/lab-Grover.ipynb#ch0000009?line=18'>19</a>\u001b[0m qc\u001b[39m.\u001b[39mmeasure(\u001b[39mrange\u001b[39m(n), \u001b[39mrange\u001b[39m(n))\n",
      "\u001b[1;32mc:\\Users\\Ivo\\Documents\\qiskit_codes\\qiskit_course\\lab-Grover.ipynb Cell 8'\u001b[0m in \u001b[0;36mdiffuser\u001b[1;34m(n)\u001b[0m\n\u001b[0;32m      <a href='vscode-notebook-cell:/c%3A/Users/Ivo/Documents/qiskit_codes/qiskit_course/lab-Grover.ipynb#ch0000007?line=7'>8</a>\u001b[0m     qc\u001b[39m.\u001b[39mh([i])\n\u001b[0;32m      <a href='vscode-notebook-cell:/c%3A/Users/Ivo/Documents/qiskit_codes/qiskit_course/lab-Grover.ipynb#ch0000007?line=8'>9</a>\u001b[0m oracle_instr \u001b[39m=\u001b[39m circuit_to_instruction(phase_oracle(n, [\u001b[39m0\u001b[39m]))\n\u001b[1;32m---> <a href='vscode-notebook-cell:/c%3A/Users/Ivo/Documents/qiskit_codes/qiskit_course/lab-Grover.ipynb#ch0000007?line=9'>10</a>\u001b[0m qc\u001b[39m.\u001b[39;49mappend(oracle_instr, [\u001b[39mrange\u001b[39;49m(n)])\n\u001b[0;32m     <a href='vscode-notebook-cell:/c%3A/Users/Ivo/Documents/qiskit_codes/qiskit_course/lab-Grover.ipynb#ch0000007?line=10'>11</a>\u001b[0m \u001b[39mfor\u001b[39;00m i \u001b[39min\u001b[39;00m \u001b[39mrange\u001b[39m(n):\n\u001b[0;32m     <a href='vscode-notebook-cell:/c%3A/Users/Ivo/Documents/qiskit_codes/qiskit_course/lab-Grover.ipynb#ch0000007?line=11'>12</a>\u001b[0m     qc\u001b[39m.\u001b[39mh([i])\n",
      "File \u001b[1;32mC:\\Miniconda3\\envs\\quantum\\lib\\site-packages\\qiskit\\circuit\\quantumcircuit.py:1230\u001b[0m, in \u001b[0;36mQuantumCircuit.append\u001b[1;34m(self, instruction, qargs, cargs)\u001b[0m\n\u001b[0;32m   <a href='file:///c%3A/Miniconda3/envs/quantum/lib/site-packages/qiskit/circuit/quantumcircuit.py?line=1227'>1228</a>\u001b[0m     requester \u001b[39m=\u001b[39m \u001b[39mself\u001b[39m\u001b[39m.\u001b[39m_resolve_classical_resource\n\u001b[0;32m   <a href='file:///c%3A/Miniconda3/envs/quantum/lib/site-packages/qiskit/circuit/quantumcircuit.py?line=1228'>1229</a>\u001b[0m instructions \u001b[39m=\u001b[39m InstructionSet(resource_requester\u001b[39m=\u001b[39mrequester)\n\u001b[1;32m-> <a href='file:///c%3A/Miniconda3/envs/quantum/lib/site-packages/qiskit/circuit/quantumcircuit.py?line=1229'>1230</a>\u001b[0m \u001b[39mfor\u001b[39;00m qarg, carg \u001b[39min\u001b[39;00m instruction\u001b[39m.\u001b[39mbroadcast_arguments(expanded_qargs, expanded_cargs):\n\u001b[0;32m   <a href='file:///c%3A/Miniconda3/envs/quantum/lib/site-packages/qiskit/circuit/quantumcircuit.py?line=1230'>1231</a>\u001b[0m     instructions\u001b[39m.\u001b[39madd(appender(instruction, qarg, carg), qarg, carg)\n\u001b[0;32m   <a href='file:///c%3A/Miniconda3/envs/quantum/lib/site-packages/qiskit/circuit/quantumcircuit.py?line=1231'>1232</a>\u001b[0m \u001b[39mreturn\u001b[39;00m instructions\n",
      "File \u001b[1;32mC:\\Miniconda3\\envs\\quantum\\lib\\site-packages\\qiskit\\circuit\\instruction.py:488\u001b[0m, in \u001b[0;36mInstruction.broadcast_arguments\u001b[1;34m(self, qargs, cargs)\u001b[0m\n\u001b[0;32m    <a href='file:///c%3A/Miniconda3/envs/quantum/lib/site-packages/qiskit/circuit/instruction.py?line=472'>473</a>\u001b[0m \u001b[39m\"\"\"\u001b[39;00m\n\u001b[0;32m    <a href='file:///c%3A/Miniconda3/envs/quantum/lib/site-packages/qiskit/circuit/instruction.py?line=473'>474</a>\u001b[0m \u001b[39mValidation of the arguments.\u001b[39;00m\n\u001b[0;32m    <a href='file:///c%3A/Miniconda3/envs/quantum/lib/site-packages/qiskit/circuit/instruction.py?line=474'>475</a>\u001b[0m \n\u001b[1;32m   (...)\u001b[0m\n\u001b[0;32m    <a href='file:///c%3A/Miniconda3/envs/quantum/lib/site-packages/qiskit/circuit/instruction.py?line=484'>485</a>\u001b[0m \u001b[39m        arguments does not match the gate expectation.\u001b[39;00m\n\u001b[0;32m    <a href='file:///c%3A/Miniconda3/envs/quantum/lib/site-packages/qiskit/circuit/instruction.py?line=485'>486</a>\u001b[0m \u001b[39m\"\"\"\u001b[39;00m\n\u001b[0;32m    <a href='file:///c%3A/Miniconda3/envs/quantum/lib/site-packages/qiskit/circuit/instruction.py?line=486'>487</a>\u001b[0m \u001b[39mif\u001b[39;00m \u001b[39mlen\u001b[39m(qargs) \u001b[39m!=\u001b[39m \u001b[39mself\u001b[39m\u001b[39m.\u001b[39mnum_qubits:\n\u001b[1;32m--> <a href='file:///c%3A/Miniconda3/envs/quantum/lib/site-packages/qiskit/circuit/instruction.py?line=487'>488</a>\u001b[0m     \u001b[39mraise\u001b[39;00m CircuitError(\n\u001b[0;32m    <a href='file:///c%3A/Miniconda3/envs/quantum/lib/site-packages/qiskit/circuit/instruction.py?line=488'>489</a>\u001b[0m         \u001b[39mf\u001b[39m\u001b[39m\"\u001b[39m\u001b[39mThe amount of qubit arguments \u001b[39m\u001b[39m{\u001b[39;00m\u001b[39mlen\u001b[39m(qargs)\u001b[39m}\u001b[39;00m\u001b[39m does not match\u001b[39m\u001b[39m\"\u001b[39m\n\u001b[0;32m    <a href='file:///c%3A/Miniconda3/envs/quantum/lib/site-packages/qiskit/circuit/instruction.py?line=489'>490</a>\u001b[0m         \u001b[39mf\u001b[39m\u001b[39m\"\u001b[39m\u001b[39m the instruction expectation (\u001b[39m\u001b[39m{\u001b[39;00m\u001b[39mself\u001b[39m\u001b[39m.\u001b[39mnum_qubits\u001b[39m}\u001b[39;00m\u001b[39m).\u001b[39m\u001b[39m\"\u001b[39m\n\u001b[0;32m    <a href='file:///c%3A/Miniconda3/envs/quantum/lib/site-packages/qiskit/circuit/instruction.py?line=490'>491</a>\u001b[0m     )\n\u001b[0;32m    <a href='file:///c%3A/Miniconda3/envs/quantum/lib/site-packages/qiskit/circuit/instruction.py?line=492'>493</a>\u001b[0m \u001b[39m#  [[q[0], q[1]], [c[0], c[1]]] -> [q[0], c[0]], [q[1], c[1]]\u001b[39;00m\n\u001b[0;32m    <a href='file:///c%3A/Miniconda3/envs/quantum/lib/site-packages/qiskit/circuit/instruction.py?line=493'>494</a>\u001b[0m flat_qargs \u001b[39m=\u001b[39m [qarg \u001b[39mfor\u001b[39;00m sublist \u001b[39min\u001b[39;00m qargs \u001b[39mfor\u001b[39;00m qarg \u001b[39min\u001b[39;00m sublist]\n",
      "\u001b[1;31mCircuitError\u001b[0m: 'The amount of qubit arguments 1 does not match the instruction expectation (6).'"
     ]
    }
   ],
   "source": [
    "def Grover(n, indices_of_marked_elements):\n",
    "    \n",
    "    # Create a quantum circuit on n qubits\n",
    "    qc = QuantumCircuit(n, n)\n",
    "    \n",
    "    # Determine r\n",
    "    r = int(np.floor(np.pi/4*np.sqrt(2**n/len(indices_of_marked_elements))))\n",
    "    print(f'{n} qubits, basis states {indices_of_marked_elements} marked, {r} rounds')\n",
    "    \n",
    "    # step 1: apply Hadamard gates on all qubits\n",
    "    qc.h(range(n))\n",
    "    \n",
    "    # step 2: apply r rounds of the phase oracle and the diffuser\n",
    "    for _ in range(r):\n",
    "        qc.append(phase_oracle(n, indices_of_marked_elements), range(n))\n",
    "        qc.append(diffuser(n), range(n))\n",
    "        \n",
    "    # step 3: measure all qubits\n",
    "    qc.measure(range(n), range(n))\n",
    "  \n",
    "    return qc\n",
    "\n",
    "mycircuit = Grover(6, [1, 42])\n",
    "mycircuit.draw()"
   ]
  },
  {
   "cell_type": "markdown",
   "metadata": {},
   "source": [
    "That's it! You might find it useful to run your quantum circuit and see the measurement outcomes, as well as visualize the statevector at the end.\n",
    "\n",
    "In order to run your quantum circuit and get the measurement outcomes, you simply need to run `Qiskit`'s `execute` function as follows."
   ]
  },
  {
   "cell_type": "code",
   "execution_count": 6,
   "metadata": {},
   "outputs": [
    {
     "name": "stderr",
     "output_type": "stream",
     "text": [
      "/opt/conda/lib/python3.8/site-packages/numpy/core/getlimits.py:499: UserWarning: The value of the smallest subnormal for <class 'numpy.float32'> type is zero.\n",
      "  setattr(self, word, getattr(machar, word).flat[0])\n",
      "/opt/conda/lib/python3.8/site-packages/numpy/core/getlimits.py:89: UserWarning: The value of the smallest subnormal for <class 'numpy.float32'> type is zero.\n",
      "  return self._float_to_str(self.smallest_subnormal)\n",
      "<frozen importlib._bootstrap>:219: RuntimeWarning: scipy._lib.messagestream.MessageStream size changed, may indicate binary incompatibility. Expected 56 from C header, got 64 from PyObject\n"
     ]
    },
    {
     "data": {
      "image/png": "[encoded data removed]",
      "text/plain": [
       "<Figure size 504x360 with 1 Axes>"
      ]
     },
     "execution_count": 6,
     "metadata": {},
     "output_type": "execute_result"
    }
   ],
   "source": [
    "from qiskit import Aer, execute\n",
    "simulator = Aer.get_backend('qasm_simulator')\n",
    "counts = execute(mycircuit, backend=simulator, shots=1000).result().get_counts(mycircuit)\n",
    "from qiskit.visualization import plot_histogram\n",
    "plot_histogram(counts)"
   ]
  },
  {
   "cell_type": "markdown",
   "metadata": {},
   "source": [
    "# Run on Real Device"
   ]
  },
  {
   "cell_type": "code",
   "execution_count": 13,
   "metadata": {},
   "outputs": [],
   "source": [
    "provider = IBMQ.load_account()"
   ]
  },
  {
   "cell_type": "code",
   "execution_count": 14,
   "metadata": {},
   "outputs": [
    {
     "name": "stdout",
     "output_type": "stream",
     "text": [
      "3 qubits, basis states [7, 4] marked, 1 rounds\n"
     ]
    }
   ],
   "source": [
    "n = 3\n",
    "x = np.random.randint(2**n)\n",
    "y = np.random.randint(2**n)\n",
    "\n",
    "while y==x:\n",
    "    y = np.random.randint(2**n)\n",
    "    \n",
    "marked = [x, y]\n",
    "\n",
    "### WRITE YOUR CODE BETWEEN THESE LINES - START\n",
    "\n",
    "\n",
    "### WRITE YOUR CODE BETWEEN THESE LINES - END\n",
    "\n",
    "job = execute(qc, backend=backend, shots=1024, optimization_level=3)"
   ]
  },
  {
   "cell_type": "code",
   "execution_count": 15,
   "metadata": {},
   "outputs": [
    {
     "data": {
      "image/png": "[encoded data removed]",
      "text/plain": [
       "<Figure size 504x360 with 1 Axes>"
      ]
     },
     "execution_count": 15,
     "metadata": {},
     "output_type": "execute_result"
    }
   ],
   "source": [
    "results = job.result()\n",
    "answer = results.get_counts()\n",
    "plot_histogram(answer)"
   ]
  },
  {
   "cell_type": "code",
   "execution_count": 18,
   "metadata": {},
   "outputs": [
    {
     "data": {
      "image/png": "[encoded data removed]",
      "text/plain": [
       "<Figure size 568.197x264.88 with 1 Axes>"
      ]
     },
     "execution_count": 18,
     "metadata": {},
     "output_type": "execute_result"
    }
   ],
   "source": [
    "qc.draw()"
   ]
  },
  {
   "cell_type": "code",
   "execution_count": null,
   "metadata": {},
   "outputs": [],
   "source": []
  }
 ],
 "metadata": {
  "kernelspec": {
   "display_name": "Qiskit v0.35.0 (ipykernel)",
   "language": "python",
   "name": "python3"
  },
  "language_info": {
   "codemirror_mode": {
    "name": "ipython",
    "version": 3
   },
   "file_extension": ".py",
   "mimetype": "text/x-python",
   "name": "python",
   "nbconvert_exporter": "python",
   "pygments_lexer": "ipython3",
   "version": "3.9.7"
  },
  "widgets": {
   "application/vnd.jupyter.widget-state+json": {
    "state": {},
    "version_major": 2,
    "version_minor": 0
   }
  }
 },
 "nbformat": 4,
 "nbformat_minor": 4
}
