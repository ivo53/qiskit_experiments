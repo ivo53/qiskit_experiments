{
 "cells": [
  {
   "cell_type": "code",
   "execution_count": 1,
   "id": "06a9d21f-b158-4b23-b663-2f4c20a7efa5",
   "metadata": {},
   "outputs": [],
   "source": [
    "import numpy as np\n",
    "import scipy\n",
    "from scipy.integrate import solve_ivp\n",
    "from scipy.optimize import minimize\n",
    "from numba import jit\n",
    "import matplotlib.pyplot as plt\n",
    "import pickle\n",
    "import os\n",
    "from datetime import datetime"
   ]
  },
  {
   "cell_type": "code",
   "execution_count": 2,
   "id": "a17f3c5a",
   "metadata": {},
   "outputs": [],
   "source": [
    "def make_all_dirs(path):\n",
    "    folders = path.split(\"/\")\n",
    "    for i in range(2, len(folders) + 1):\n",
    "        folder = \"/\".join(folders[:i])\n",
    "        if not os.path.isdir(folder):\n",
    "            os.mkdir(folder)"
   ]
  },
  {
   "cell_type": "code",
   "execution_count": 3,
   "id": "39f29e5e-4ef2-4644-96ae-447ec1d36398",
   "metadata": {},
   "outputs": [],
   "source": [
    "# Define the constant detuning\n",
    "Delta = 0.5  # You can adjust this value as needed\n",
    "# Step 1: Generate initial random values\n",
    "method = 'SLSQP'\n",
    "dt_now = datetime.now()\n",
    "\n",
    "# Define the Hamiltonian with detuning\n",
    "def hamiltonian(t, Omega_t, Delta):\n",
    "    return 0.5 * np.array([[-Delta, Omega_t(t)], [Omega_t(t), Delta]])"
   ]
  },
  {
   "cell_type": "code",
   "execution_count": 4,
   "id": "c937b4cb-793c-49f3-a80e-052e5e2b5775",
   "metadata": {},
   "outputs": [],
   "source": [
    "# Define the coupled differential equations for the two levels\n",
    "def schrodinger(t, psi, Omega_t, Delta):\n",
    "    psi1, psi2 = psi\n",
    "    dpsi1_dt = -1j * (-0.5 * Delta * psi1 + 0.5 * Omega_t(t) * psi2)\n",
    "    dpsi2_dt = -1j * (0.5 * Omega_t(t) * psi1 + 0.5 * Delta * psi2)\n",
    "    return [dpsi1_dt, dpsi2_dt]"
   ]
  },
  {
   "cell_type": "code",
   "execution_count": 5,
   "id": "e5eafa08-cde4-412e-9150-ac901f8b6a71",
   "metadata": {},
   "outputs": [],
   "source": [
    "def calculate_probabilities(t, Omega_t, Delta, T):\n",
    "    # Initial state (ground state)\n",
    "    psi0 = np.array([1.0 + 0.0j, 0.0 + 0.0j])\n",
    "\n",
    "    # Time points where the solution is computed\n",
    "    t_span = (0, T)\n",
    "    t_eval = np.linspace(0, T, 2)\n",
    "\n",
    "    # Solve the Schrödinger equation\n",
    "    sol = solve_ivp(schrodinger, t_span, psi0, t_eval=t_eval, args=(Omega_t, Delta), method='RK45')\n",
    "    # Extract the probabilities\n",
    "    P_excited = (np.abs(sol.y[1])**2)[-1]\n",
    "    P_ground = (np.abs(sol.y[0])**2)[-1]\n",
    "\n",
    "    # # Plot the results\n",
    "    # plt.plot(sol.t, np.abs(sol.y[0])**2, label='Ground State')\n",
    "    # plt.plot(sol.t, np.abs(sol.y[1])**2, label='Excited State')\n",
    "    # plt.xlabel('Time')\n",
    "    # plt.ylabel('Probability')\n",
    "    # plt.legend()\n",
    "    # plt.title('Time Evolution of a Two-Level System with Detuning')\n",
    "    # plt.show()\n",
    "\n",
    "    return P_excited\n"
   ]
  },
  {
   "cell_type": "code",
   "execution_count": 6,
   "id": "6c611cba-66de-40e1-ab74-36fba57c6ad1",
   "metadata": {},
   "outputs": [],
   "source": [
    "def loss(values, d_range, T, idx):\n",
    "    # The loss is calculated as \\Delta^{(5)}_{1/2} \\times \\Delta^{(3)}_{1/2} / (\\Delta^{(1)}_{1/2})^2\n",
    "    # freq_amps = freq_amps[:len(freq_amps)//2] + 1j * freq_amps[len(freq_amps)//2:]\n",
    "    values = values[:len(values)//2] + 1j * values[len(values)//2:]\n",
    "    # values = np.fft.ifft(freq_amps)\n",
    "    times = np.linspace(0, T, len(values))\n",
    "    raw_area = np.sum(np.abs(values[1:] * np.diff(times)))\n",
    "    A = np.pi / raw_area # multiplier to correct the area\n",
    "    def Omega_t(t, A, values):\n",
    "        if isinstance(t, int) or isinstance(t, float):\n",
    "            time_idx = np.argmin(\n",
    "                np.abs(times - t)\n",
    "            )\n",
    "        elif isinstance(t, np.ndarray):\n",
    "            time_idx = np.argmin(\n",
    "                np.abs(times[:, None] - t[None], axis=0)\n",
    "            )\n",
    "        return A * values[time_idx]\n",
    "    \n",
    "    iqr_1_3_5pi = []\n",
    "    for multiplier in [1,3,5]:\n",
    "        v = []\n",
    "        for d in d_range:\n",
    "            v.append(calculate_probabilities(times, lambda t: Omega_t(t, multiplier * A, values), d, T))\n",
    "        v = np.array(v)\n",
    "        # plt.plot(v)\n",
    "        # plt.show()\n",
    "        iqr_metric = scipy.stats.iqr(v)\n",
    "        iqr_1_3_5pi.append(iqr_metric)\n",
    "\n",
    "    loss_value = np.abs(iqr_1_3_5pi[1] * iqr_1_3_5pi[2] / iqr_1_3_5pi[0]**2)\n",
    "    #     print(f\"Function value at step {len(function_values) + 1}: {loss_value}\")\n",
    "\n",
    "    if loss_value / last_record[-1] < 0.995 or len(function_values) == 0:\n",
    "        print(f\"Function value at step {len(function_values) + 1}: {loss_value}\")\n",
    "        last_record.append(loss_value)\n",
    "    function_values.append(loss_value)\n",
    "    parameters.append(values)\n",
    "    # Save every 1000 steps\n",
    "    if function_values and len(function_values) % 1000 == 0:\n",
    "        with open(os.path.join(current_dir, \"pulse_optimisation\", f\"params_{method}_{date}_{time}_guess{idx}_step{len(function_values)}.pkl\"), \"wb\") as f:\n",
    "            pickle.dump(parameters, f)\n",
    "        with open(os.path.join(current_dir, \"pulse_optimisation\", f\"losses_{method}_{date}_{time}_guess{idx}_step{len(function_values)}.pkl\"), \"wb\") as f:\n",
    "            pickle.dump(function_values, f)\n",
    "\n",
    "    return loss_value\n"
   ]
  },
  {
   "cell_type": "code",
   "execution_count": 7,
   "id": "a8ef17e8-3b3f-45d1-8420-e7b9165411ed",
   "metadata": {},
   "outputs": [],
   "source": [
    "N = 1024\n",
    "d_min, d_max, num_d = -10, 10, 101\n",
    "T = 10\n",
    "d_range = np.linspace(d_min, d_max, num_d)\n",
    "\n",
    "current_dir = os.getcwd()\n",
    "time = dt_now.strftime(\"%H%M%S\")\n",
    "date = dt_now.strftime(\"%Y-%m-%d\")\n",
    "make_all_dirs(os.path.join(current_dir, \"pulse_optimisation\"))\n",
    "\n",
    "options = {\"maxiter\": 1001}\n",
    "\n",
    "initial_guesses = []\n",
    "A, sigma = 1, 10  # Standard deviation of the Lorentzian\n",
    "# z0 = np.fft.fft(A / (1 + ((np.arange(N) - N/2) / sigma)**2) ** 0.5)\n",
    "z0 = A / (1 + ((np.arange(N) - N/2) / sigma)**2) ** 0.5\n",
    "x0 = np.concatenate([z0.real, z0.imag])\n",
    "\n",
    "initial_guesses.append(x0)\n",
    "for _ in range(999):\n",
    "    x0 = np.random.uniform(-10, 10, 1024)\n",
    "    initial_guesses.append(x0)"
   ]
  },
  {
   "cell_type": "code",
   "execution_count": 9,
   "id": "2646b729-f5ce-4e4c-84e4-3fe1d804775f",
   "metadata": {},
   "outputs": [
    {
     "ename": "KeyboardInterrupt",
     "evalue": "",
     "output_type": "error",
     "traceback": [
      "\u001b[1;31m---------------------------------------------------------------------------\u001b[0m",
      "\u001b[1;31mKeyboardInterrupt\u001b[0m                         Traceback (most recent call last)",
      "Cell \u001b[1;32mIn[9], line 6\u001b[0m\n\u001b[0;32m      4\u001b[0m last_record \u001b[38;5;241m=\u001b[39m []\n\u001b[0;32m      5\u001b[0m parameters \u001b[38;5;241m=\u001b[39m []\n\u001b[1;32m----> 6\u001b[0m result \u001b[38;5;241m=\u001b[39m minimize(\n\u001b[0;32m      7\u001b[0m     loss, guess, \n\u001b[0;32m      8\u001b[0m     args\u001b[38;5;241m=\u001b[39m(d_range, T, idx), \n\u001b[0;32m      9\u001b[0m     method\u001b[38;5;241m=\u001b[39mmethod,\n\u001b[0;32m     10\u001b[0m     options\u001b[38;5;241m=\u001b[39moptions\n\u001b[0;32m     11\u001b[0m )\n",
      "File \u001b[1;32mC:\\Miniconda3\\envs\\quantum\\Lib\\site-packages\\scipy\\optimize\\_minimize.py:705\u001b[0m, in \u001b[0;36mminimize\u001b[1;34m(fun, x0, args, method, jac, hess, hessp, bounds, constraints, tol, callback, options)\u001b[0m\n\u001b[0;32m    702\u001b[0m     res \u001b[38;5;241m=\u001b[39m _minimize_cobyla(fun, x0, args, constraints, callback\u001b[38;5;241m=\u001b[39mcallback,\n\u001b[0;32m    703\u001b[0m                             \u001b[38;5;241m*\u001b[39m\u001b[38;5;241m*\u001b[39moptions)\n\u001b[0;32m    704\u001b[0m \u001b[38;5;28;01melif\u001b[39;00m meth \u001b[38;5;241m==\u001b[39m \u001b[38;5;124m'\u001b[39m\u001b[38;5;124mslsqp\u001b[39m\u001b[38;5;124m'\u001b[39m:\n\u001b[1;32m--> 705\u001b[0m     res \u001b[38;5;241m=\u001b[39m _minimize_slsqp(fun, x0, args, jac, bounds,\n\u001b[0;32m    706\u001b[0m                           constraints, callback\u001b[38;5;241m=\u001b[39mcallback, \u001b[38;5;241m*\u001b[39m\u001b[38;5;241m*\u001b[39moptions)\n\u001b[0;32m    707\u001b[0m \u001b[38;5;28;01melif\u001b[39;00m meth \u001b[38;5;241m==\u001b[39m \u001b[38;5;124m'\u001b[39m\u001b[38;5;124mtrust-constr\u001b[39m\u001b[38;5;124m'\u001b[39m:\n\u001b[0;32m    708\u001b[0m     res \u001b[38;5;241m=\u001b[39m _minimize_trustregion_constr(fun, x0, args, jac, hess, hessp,\n\u001b[0;32m    709\u001b[0m                                        bounds, constraints,\n\u001b[0;32m    710\u001b[0m                                        callback\u001b[38;5;241m=\u001b[39mcallback, \u001b[38;5;241m*\u001b[39m\u001b[38;5;241m*\u001b[39moptions)\n",
      "File \u001b[1;32mC:\\Miniconda3\\envs\\quantum\\Lib\\site-packages\\scipy\\optimize\\_slsqp_py.py:374\u001b[0m, in \u001b[0;36m_minimize_slsqp\u001b[1;34m(func, x0, args, jac, bounds, constraints, maxiter, ftol, iprint, disp, eps, callback, finite_diff_rel_step, **unknown_options)\u001b[0m\n\u001b[0;32m    371\u001b[0m     xu[infbnd[:, \u001b[38;5;241m1\u001b[39m]] \u001b[38;5;241m=\u001b[39m np\u001b[38;5;241m.\u001b[39mnan\n\u001b[0;32m    373\u001b[0m \u001b[38;5;66;03m# ScalarFunction provides function and gradient evaluation\u001b[39;00m\n\u001b[1;32m--> 374\u001b[0m sf \u001b[38;5;241m=\u001b[39m _prepare_scalar_function(func, x, jac\u001b[38;5;241m=\u001b[39mjac, args\u001b[38;5;241m=\u001b[39margs, epsilon\u001b[38;5;241m=\u001b[39meps,\n\u001b[0;32m    375\u001b[0m                               finite_diff_rel_step\u001b[38;5;241m=\u001b[39mfinite_diff_rel_step,\n\u001b[0;32m    376\u001b[0m                               bounds\u001b[38;5;241m=\u001b[39mnew_bounds)\n\u001b[0;32m    377\u001b[0m \u001b[38;5;66;03m# gh11403 SLSQP sometimes exceeds bounds by 1 or 2 ULP, make sure this\u001b[39;00m\n\u001b[0;32m    378\u001b[0m \u001b[38;5;66;03m# doesn't get sent to the func/grad evaluator.\u001b[39;00m\n\u001b[0;32m    379\u001b[0m wrapped_fun \u001b[38;5;241m=\u001b[39m _clip_x_for_func(sf\u001b[38;5;241m.\u001b[39mfun, new_bounds)\n",
      "File \u001b[1;32mC:\\Miniconda3\\envs\\quantum\\Lib\\site-packages\\scipy\\optimize\\_optimize.py:332\u001b[0m, in \u001b[0;36m_prepare_scalar_function\u001b[1;34m(fun, x0, jac, args, bounds, epsilon, finite_diff_rel_step, hess)\u001b[0m\n\u001b[0;32m    328\u001b[0m     bounds \u001b[38;5;241m=\u001b[39m (\u001b[38;5;241m-\u001b[39mnp\u001b[38;5;241m.\u001b[39minf, np\u001b[38;5;241m.\u001b[39minf)\n\u001b[0;32m    330\u001b[0m \u001b[38;5;66;03m# ScalarFunction caches. Reuse of fun(x) during grad\u001b[39;00m\n\u001b[0;32m    331\u001b[0m \u001b[38;5;66;03m# calculation reduces overall function evaluations.\u001b[39;00m\n\u001b[1;32m--> 332\u001b[0m sf \u001b[38;5;241m=\u001b[39m ScalarFunction(fun, x0, args, grad, hess,\n\u001b[0;32m    333\u001b[0m                     finite_diff_rel_step, bounds, epsilon\u001b[38;5;241m=\u001b[39mepsilon)\n\u001b[0;32m    335\u001b[0m \u001b[38;5;28;01mreturn\u001b[39;00m sf\n",
      "File \u001b[1;32mC:\\Miniconda3\\envs\\quantum\\Lib\\site-packages\\scipy\\optimize\\_differentiable_functions.py:177\u001b[0m, in \u001b[0;36mScalarFunction.__init__\u001b[1;34m(self, fun, x0, args, grad, hess, finite_diff_rel_step, finite_diff_bounds, epsilon)\u001b[0m\n\u001b[0;32m    173\u001b[0m         \u001b[38;5;28mself\u001b[39m\u001b[38;5;241m.\u001b[39mg \u001b[38;5;241m=\u001b[39m approx_derivative(fun_wrapped, \u001b[38;5;28mself\u001b[39m\u001b[38;5;241m.\u001b[39mx, f0\u001b[38;5;241m=\u001b[39m\u001b[38;5;28mself\u001b[39m\u001b[38;5;241m.\u001b[39mf,\n\u001b[0;32m    174\u001b[0m                                    \u001b[38;5;241m*\u001b[39m\u001b[38;5;241m*\u001b[39mfinite_diff_options)\n\u001b[0;32m    176\u001b[0m \u001b[38;5;28mself\u001b[39m\u001b[38;5;241m.\u001b[39m_update_grad_impl \u001b[38;5;241m=\u001b[39m update_grad\n\u001b[1;32m--> 177\u001b[0m \u001b[38;5;28mself\u001b[39m\u001b[38;5;241m.\u001b[39m_update_grad()\n\u001b[0;32m    179\u001b[0m \u001b[38;5;66;03m# Hessian Evaluation\u001b[39;00m\n\u001b[0;32m    180\u001b[0m \u001b[38;5;28;01mif\u001b[39;00m \u001b[38;5;28mcallable\u001b[39m(hess):\n",
      "File \u001b[1;32mC:\\Miniconda3\\envs\\quantum\\Lib\\site-packages\\scipy\\optimize\\_differentiable_functions.py:256\u001b[0m, in \u001b[0;36mScalarFunction._update_grad\u001b[1;34m(self)\u001b[0m\n\u001b[0;32m    254\u001b[0m \u001b[38;5;28;01mdef\u001b[39;00m \u001b[38;5;21m_update_grad\u001b[39m(\u001b[38;5;28mself\u001b[39m):\n\u001b[0;32m    255\u001b[0m     \u001b[38;5;28;01mif\u001b[39;00m \u001b[38;5;129;01mnot\u001b[39;00m \u001b[38;5;28mself\u001b[39m\u001b[38;5;241m.\u001b[39mg_updated:\n\u001b[1;32m--> 256\u001b[0m         \u001b[38;5;28mself\u001b[39m\u001b[38;5;241m.\u001b[39m_update_grad_impl()\n\u001b[0;32m    257\u001b[0m         \u001b[38;5;28mself\u001b[39m\u001b[38;5;241m.\u001b[39mg_updated \u001b[38;5;241m=\u001b[39m \u001b[38;5;28;01mTrue\u001b[39;00m\n",
      "File \u001b[1;32mC:\\Miniconda3\\envs\\quantum\\Lib\\site-packages\\scipy\\optimize\\_differentiable_functions.py:173\u001b[0m, in \u001b[0;36mScalarFunction.__init__.<locals>.update_grad\u001b[1;34m()\u001b[0m\n\u001b[0;32m    171\u001b[0m \u001b[38;5;28mself\u001b[39m\u001b[38;5;241m.\u001b[39m_update_fun()\n\u001b[0;32m    172\u001b[0m \u001b[38;5;28mself\u001b[39m\u001b[38;5;241m.\u001b[39mngev \u001b[38;5;241m+\u001b[39m\u001b[38;5;241m=\u001b[39m \u001b[38;5;241m1\u001b[39m\n\u001b[1;32m--> 173\u001b[0m \u001b[38;5;28mself\u001b[39m\u001b[38;5;241m.\u001b[39mg \u001b[38;5;241m=\u001b[39m approx_derivative(fun_wrapped, \u001b[38;5;28mself\u001b[39m\u001b[38;5;241m.\u001b[39mx, f0\u001b[38;5;241m=\u001b[39m\u001b[38;5;28mself\u001b[39m\u001b[38;5;241m.\u001b[39mf,\n\u001b[0;32m    174\u001b[0m                            \u001b[38;5;241m*\u001b[39m\u001b[38;5;241m*\u001b[39mfinite_diff_options)\n",
      "File \u001b[1;32mC:\\Miniconda3\\envs\\quantum\\Lib\\site-packages\\scipy\\optimize\\_numdiff.py:505\u001b[0m, in \u001b[0;36mapprox_derivative\u001b[1;34m(fun, x0, method, rel_step, abs_step, f0, bounds, sparsity, as_linear_operator, args, kwargs)\u001b[0m\n\u001b[0;32m    502\u001b[0m     use_one_sided \u001b[38;5;241m=\u001b[39m \u001b[38;5;28;01mFalse\u001b[39;00m\n\u001b[0;32m    504\u001b[0m \u001b[38;5;28;01mif\u001b[39;00m sparsity \u001b[38;5;129;01mis\u001b[39;00m \u001b[38;5;28;01mNone\u001b[39;00m:\n\u001b[1;32m--> 505\u001b[0m     \u001b[38;5;28;01mreturn\u001b[39;00m _dense_difference(fun_wrapped, x0, f0, h,\n\u001b[0;32m    506\u001b[0m                              use_one_sided, method)\n\u001b[0;32m    507\u001b[0m \u001b[38;5;28;01melse\u001b[39;00m:\n\u001b[0;32m    508\u001b[0m     \u001b[38;5;28;01mif\u001b[39;00m \u001b[38;5;129;01mnot\u001b[39;00m issparse(sparsity) \u001b[38;5;129;01mand\u001b[39;00m \u001b[38;5;28mlen\u001b[39m(sparsity) \u001b[38;5;241m==\u001b[39m \u001b[38;5;241m2\u001b[39m:\n",
      "File \u001b[1;32mC:\\Miniconda3\\envs\\quantum\\Lib\\site-packages\\scipy\\optimize\\_numdiff.py:576\u001b[0m, in \u001b[0;36m_dense_difference\u001b[1;34m(fun, x0, f0, h, use_one_sided, method)\u001b[0m\n\u001b[0;32m    574\u001b[0m     x \u001b[38;5;241m=\u001b[39m x0 \u001b[38;5;241m+\u001b[39m h_vecs[i]\n\u001b[0;32m    575\u001b[0m     dx \u001b[38;5;241m=\u001b[39m x[i] \u001b[38;5;241m-\u001b[39m x0[i]  \u001b[38;5;66;03m# Recompute dx as exactly representable number.\u001b[39;00m\n\u001b[1;32m--> 576\u001b[0m     df \u001b[38;5;241m=\u001b[39m fun(x) \u001b[38;5;241m-\u001b[39m f0\n\u001b[0;32m    577\u001b[0m \u001b[38;5;28;01melif\u001b[39;00m method \u001b[38;5;241m==\u001b[39m \u001b[38;5;124m'\u001b[39m\u001b[38;5;124m3-point\u001b[39m\u001b[38;5;124m'\u001b[39m \u001b[38;5;129;01mand\u001b[39;00m use_one_sided[i]:\n\u001b[0;32m    578\u001b[0m     x1 \u001b[38;5;241m=\u001b[39m x0 \u001b[38;5;241m+\u001b[39m h_vecs[i]\n",
      "File \u001b[1;32mC:\\Miniconda3\\envs\\quantum\\Lib\\site-packages\\scipy\\optimize\\_numdiff.py:456\u001b[0m, in \u001b[0;36mapprox_derivative.<locals>.fun_wrapped\u001b[1;34m(x)\u001b[0m\n\u001b[0;32m    455\u001b[0m \u001b[38;5;28;01mdef\u001b[39;00m \u001b[38;5;21mfun_wrapped\u001b[39m(x):\n\u001b[1;32m--> 456\u001b[0m     f \u001b[38;5;241m=\u001b[39m np\u001b[38;5;241m.\u001b[39matleast_1d(fun(x, \u001b[38;5;241m*\u001b[39margs, \u001b[38;5;241m*\u001b[39m\u001b[38;5;241m*\u001b[39mkwargs))\n\u001b[0;32m    457\u001b[0m     \u001b[38;5;28;01mif\u001b[39;00m f\u001b[38;5;241m.\u001b[39mndim \u001b[38;5;241m>\u001b[39m \u001b[38;5;241m1\u001b[39m:\n\u001b[0;32m    458\u001b[0m         \u001b[38;5;28;01mraise\u001b[39;00m \u001b[38;5;167;01mRuntimeError\u001b[39;00m(\u001b[38;5;124m\"\u001b[39m\u001b[38;5;124m`fun` return value has \u001b[39m\u001b[38;5;124m\"\u001b[39m\n\u001b[0;32m    459\u001b[0m                            \u001b[38;5;124m\"\u001b[39m\u001b[38;5;124mmore than 1 dimension.\u001b[39m\u001b[38;5;124m\"\u001b[39m)\n",
      "File \u001b[1;32mC:\\Miniconda3\\envs\\quantum\\Lib\\site-packages\\scipy\\optimize\\_differentiable_functions.py:137\u001b[0m, in \u001b[0;36mScalarFunction.__init__.<locals>.fun_wrapped\u001b[1;34m(x)\u001b[0m\n\u001b[0;32m    133\u001b[0m \u001b[38;5;28mself\u001b[39m\u001b[38;5;241m.\u001b[39mnfev \u001b[38;5;241m+\u001b[39m\u001b[38;5;241m=\u001b[39m \u001b[38;5;241m1\u001b[39m\n\u001b[0;32m    134\u001b[0m \u001b[38;5;66;03m# Send a copy because the user may overwrite it.\u001b[39;00m\n\u001b[0;32m    135\u001b[0m \u001b[38;5;66;03m# Overwriting results in undefined behaviour because\u001b[39;00m\n\u001b[0;32m    136\u001b[0m \u001b[38;5;66;03m# fun(self.x) will change self.x, with the two no longer linked.\u001b[39;00m\n\u001b[1;32m--> 137\u001b[0m fx \u001b[38;5;241m=\u001b[39m fun(np\u001b[38;5;241m.\u001b[39mcopy(x), \u001b[38;5;241m*\u001b[39margs)\n\u001b[0;32m    138\u001b[0m \u001b[38;5;66;03m# Make sure the function returns a true scalar\u001b[39;00m\n\u001b[0;32m    139\u001b[0m \u001b[38;5;28;01mif\u001b[39;00m \u001b[38;5;129;01mnot\u001b[39;00m np\u001b[38;5;241m.\u001b[39misscalar(fx):\n",
      "Cell \u001b[1;32mIn[6], line 24\u001b[0m, in \u001b[0;36mloss\u001b[1;34m(values, d_range, T, idx)\u001b[0m\n\u001b[0;32m     22\u001b[0m v \u001b[38;5;241m=\u001b[39m []\n\u001b[0;32m     23\u001b[0m \u001b[38;5;28;01mfor\u001b[39;00m d \u001b[38;5;129;01min\u001b[39;00m d_range:\n\u001b[1;32m---> 24\u001b[0m     v\u001b[38;5;241m.\u001b[39mappend(calculate_probabilities(times, \u001b[38;5;28;01mlambda\u001b[39;00m t: Omega_t(t, multiplier \u001b[38;5;241m*\u001b[39m A, values), d, T))\n\u001b[0;32m     25\u001b[0m v \u001b[38;5;241m=\u001b[39m np\u001b[38;5;241m.\u001b[39marray(v)\n\u001b[0;32m     26\u001b[0m \u001b[38;5;66;03m# plt.plot(v)\u001b[39;00m\n\u001b[0;32m     27\u001b[0m \u001b[38;5;66;03m# plt.show()\u001b[39;00m\n",
      "Cell \u001b[1;32mIn[5], line 10\u001b[0m, in \u001b[0;36mcalculate_probabilities\u001b[1;34m(t, Omega_t, Delta, T)\u001b[0m\n\u001b[0;32m      7\u001b[0m t_eval \u001b[38;5;241m=\u001b[39m np\u001b[38;5;241m.\u001b[39mlinspace(\u001b[38;5;241m0\u001b[39m, T, \u001b[38;5;241m2\u001b[39m)\n\u001b[0;32m      9\u001b[0m \u001b[38;5;66;03m# Solve the Schrödinger equation\u001b[39;00m\n\u001b[1;32m---> 10\u001b[0m sol \u001b[38;5;241m=\u001b[39m solve_ivp(schrodinger, t_span, psi0, t_eval\u001b[38;5;241m=\u001b[39mt_eval, args\u001b[38;5;241m=\u001b[39m(Omega_t, Delta), method\u001b[38;5;241m=\u001b[39m\u001b[38;5;124m'\u001b[39m\u001b[38;5;124mRK45\u001b[39m\u001b[38;5;124m'\u001b[39m)\n\u001b[0;32m     11\u001b[0m \u001b[38;5;66;03m# Extract the probabilities\u001b[39;00m\n\u001b[0;32m     12\u001b[0m P_excited \u001b[38;5;241m=\u001b[39m (np\u001b[38;5;241m.\u001b[39mabs(sol\u001b[38;5;241m.\u001b[39my[\u001b[38;5;241m1\u001b[39m])\u001b[38;5;241m*\u001b[39m\u001b[38;5;241m*\u001b[39m\u001b[38;5;241m2\u001b[39m)[\u001b[38;5;241m-\u001b[39m\u001b[38;5;241m1\u001b[39m]\n",
      "File \u001b[1;32mC:\\Miniconda3\\envs\\quantum\\Lib\\site-packages\\scipy\\integrate\\_ivp\\ivp.py:591\u001b[0m, in \u001b[0;36msolve_ivp\u001b[1;34m(fun, t_span, y0, method, t_eval, dense_output, events, vectorized, args, **options)\u001b[0m\n\u001b[0;32m    589\u001b[0m status \u001b[38;5;241m=\u001b[39m \u001b[38;5;28;01mNone\u001b[39;00m\n\u001b[0;32m    590\u001b[0m \u001b[38;5;28;01mwhile\u001b[39;00m status \u001b[38;5;129;01mis\u001b[39;00m \u001b[38;5;28;01mNone\u001b[39;00m:\n\u001b[1;32m--> 591\u001b[0m     message \u001b[38;5;241m=\u001b[39m solver\u001b[38;5;241m.\u001b[39mstep()\n\u001b[0;32m    593\u001b[0m     \u001b[38;5;28;01mif\u001b[39;00m solver\u001b[38;5;241m.\u001b[39mstatus \u001b[38;5;241m==\u001b[39m \u001b[38;5;124m'\u001b[39m\u001b[38;5;124mfinished\u001b[39m\u001b[38;5;124m'\u001b[39m:\n\u001b[0;32m    594\u001b[0m         status \u001b[38;5;241m=\u001b[39m \u001b[38;5;241m0\u001b[39m\n",
      "File \u001b[1;32mC:\\Miniconda3\\envs\\quantum\\Lib\\site-packages\\scipy\\integrate\\_ivp\\base.py:181\u001b[0m, in \u001b[0;36mOdeSolver.step\u001b[1;34m(self)\u001b[0m\n\u001b[0;32m    179\u001b[0m \u001b[38;5;28;01melse\u001b[39;00m:\n\u001b[0;32m    180\u001b[0m     t \u001b[38;5;241m=\u001b[39m \u001b[38;5;28mself\u001b[39m\u001b[38;5;241m.\u001b[39mt\n\u001b[1;32m--> 181\u001b[0m     success, message \u001b[38;5;241m=\u001b[39m \u001b[38;5;28mself\u001b[39m\u001b[38;5;241m.\u001b[39m_step_impl()\n\u001b[0;32m    183\u001b[0m     \u001b[38;5;28;01mif\u001b[39;00m \u001b[38;5;129;01mnot\u001b[39;00m success:\n\u001b[0;32m    184\u001b[0m         \u001b[38;5;28mself\u001b[39m\u001b[38;5;241m.\u001b[39mstatus \u001b[38;5;241m=\u001b[39m \u001b[38;5;124m'\u001b[39m\u001b[38;5;124mfailed\u001b[39m\u001b[38;5;124m'\u001b[39m\n",
      "File \u001b[1;32mC:\\Miniconda3\\envs\\quantum\\Lib\\site-packages\\scipy\\integrate\\_ivp\\rk.py:144\u001b[0m, in \u001b[0;36mRungeKutta._step_impl\u001b[1;34m(self)\u001b[0m\n\u001b[0;32m    141\u001b[0m h \u001b[38;5;241m=\u001b[39m t_new \u001b[38;5;241m-\u001b[39m t\n\u001b[0;32m    142\u001b[0m h_abs \u001b[38;5;241m=\u001b[39m np\u001b[38;5;241m.\u001b[39mabs(h)\n\u001b[1;32m--> 144\u001b[0m y_new, f_new \u001b[38;5;241m=\u001b[39m rk_step(\u001b[38;5;28mself\u001b[39m\u001b[38;5;241m.\u001b[39mfun, t, y, \u001b[38;5;28mself\u001b[39m\u001b[38;5;241m.\u001b[39mf, h, \u001b[38;5;28mself\u001b[39m\u001b[38;5;241m.\u001b[39mA,\n\u001b[0;32m    145\u001b[0m                        \u001b[38;5;28mself\u001b[39m\u001b[38;5;241m.\u001b[39mB, \u001b[38;5;28mself\u001b[39m\u001b[38;5;241m.\u001b[39mC, \u001b[38;5;28mself\u001b[39m\u001b[38;5;241m.\u001b[39mK)\n\u001b[0;32m    146\u001b[0m scale \u001b[38;5;241m=\u001b[39m atol \u001b[38;5;241m+\u001b[39m np\u001b[38;5;241m.\u001b[39mmaximum(np\u001b[38;5;241m.\u001b[39mabs(y), np\u001b[38;5;241m.\u001b[39mabs(y_new)) \u001b[38;5;241m*\u001b[39m rtol\n\u001b[0;32m    147\u001b[0m error_norm \u001b[38;5;241m=\u001b[39m \u001b[38;5;28mself\u001b[39m\u001b[38;5;241m.\u001b[39m_estimate_error_norm(\u001b[38;5;28mself\u001b[39m\u001b[38;5;241m.\u001b[39mK, h, scale)\n",
      "File \u001b[1;32mC:\\Miniconda3\\envs\\quantum\\Lib\\site-packages\\scipy\\integrate\\_ivp\\rk.py:64\u001b[0m, in \u001b[0;36mrk_step\u001b[1;34m(fun, t, y, f, h, A, B, C, K)\u001b[0m\n\u001b[0;32m     62\u001b[0m \u001b[38;5;28;01mfor\u001b[39;00m s, (a, c) \u001b[38;5;129;01min\u001b[39;00m \u001b[38;5;28menumerate\u001b[39m(\u001b[38;5;28mzip\u001b[39m(A[\u001b[38;5;241m1\u001b[39m:], C[\u001b[38;5;241m1\u001b[39m:]), start\u001b[38;5;241m=\u001b[39m\u001b[38;5;241m1\u001b[39m):\n\u001b[0;32m     63\u001b[0m     dy \u001b[38;5;241m=\u001b[39m np\u001b[38;5;241m.\u001b[39mdot(K[:s]\u001b[38;5;241m.\u001b[39mT, a[:s]) \u001b[38;5;241m*\u001b[39m h\n\u001b[1;32m---> 64\u001b[0m     K[s] \u001b[38;5;241m=\u001b[39m fun(t \u001b[38;5;241m+\u001b[39m c \u001b[38;5;241m*\u001b[39m h, y \u001b[38;5;241m+\u001b[39m dy)\n\u001b[0;32m     66\u001b[0m y_new \u001b[38;5;241m=\u001b[39m y \u001b[38;5;241m+\u001b[39m h \u001b[38;5;241m*\u001b[39m np\u001b[38;5;241m.\u001b[39mdot(K[:\u001b[38;5;241m-\u001b[39m\u001b[38;5;241m1\u001b[39m]\u001b[38;5;241m.\u001b[39mT, B)\n\u001b[0;32m     67\u001b[0m f_new \u001b[38;5;241m=\u001b[39m fun(t \u001b[38;5;241m+\u001b[39m h, y_new)\n",
      "File \u001b[1;32mC:\\Miniconda3\\envs\\quantum\\Lib\\site-packages\\scipy\\integrate\\_ivp\\base.py:138\u001b[0m, in \u001b[0;36mOdeSolver.__init__.<locals>.fun\u001b[1;34m(t, y)\u001b[0m\n\u001b[0;32m    136\u001b[0m \u001b[38;5;28;01mdef\u001b[39;00m \u001b[38;5;21mfun\u001b[39m(t, y):\n\u001b[0;32m    137\u001b[0m     \u001b[38;5;28mself\u001b[39m\u001b[38;5;241m.\u001b[39mnfev \u001b[38;5;241m+\u001b[39m\u001b[38;5;241m=\u001b[39m \u001b[38;5;241m1\u001b[39m\n\u001b[1;32m--> 138\u001b[0m     \u001b[38;5;28;01mreturn\u001b[39;00m \u001b[38;5;28mself\u001b[39m\u001b[38;5;241m.\u001b[39mfun_single(t, y)\n",
      "File \u001b[1;32mC:\\Miniconda3\\envs\\quantum\\Lib\\site-packages\\scipy\\integrate\\_ivp\\base.py:20\u001b[0m, in \u001b[0;36mcheck_arguments.<locals>.fun_wrapped\u001b[1;34m(t, y)\u001b[0m\n\u001b[0;32m     19\u001b[0m \u001b[38;5;28;01mdef\u001b[39;00m \u001b[38;5;21mfun_wrapped\u001b[39m(t, y):\n\u001b[1;32m---> 20\u001b[0m     \u001b[38;5;28;01mreturn\u001b[39;00m np\u001b[38;5;241m.\u001b[39masarray(fun(t, y), dtype\u001b[38;5;241m=\u001b[39mdtype)\n",
      "File \u001b[1;32mC:\\Miniconda3\\envs\\quantum\\Lib\\site-packages\\scipy\\integrate\\_ivp\\ivp.py:529\u001b[0m, in \u001b[0;36msolve_ivp.<locals>.<lambda>\u001b[1;34m(t, x, fun)\u001b[0m\n\u001b[0;32m    523\u001b[0m     suggestion_tuple \u001b[38;5;241m=\u001b[39m (\n\u001b[0;32m    524\u001b[0m         \u001b[38;5;124m\"\u001b[39m\u001b[38;5;124mSupplied \u001b[39m\u001b[38;5;124m'\u001b[39m\u001b[38;5;124margs\u001b[39m\u001b[38;5;124m'\u001b[39m\u001b[38;5;124m cannot be unpacked. Please supply `args`\u001b[39m\u001b[38;5;124m\"\u001b[39m\n\u001b[0;32m    525\u001b[0m         \u001b[38;5;124mf\u001b[39m\u001b[38;5;124m\"\u001b[39m\u001b[38;5;124m as a tuple (e.g. `args=(\u001b[39m\u001b[38;5;132;01m{\u001b[39;00margs\u001b[38;5;132;01m}\u001b[39;00m\u001b[38;5;124m,)`)\u001b[39m\u001b[38;5;124m\"\u001b[39m\n\u001b[0;32m    526\u001b[0m     )\n\u001b[0;32m    527\u001b[0m     \u001b[38;5;28;01mraise\u001b[39;00m \u001b[38;5;167;01mTypeError\u001b[39;00m(suggestion_tuple) \u001b[38;5;28;01mfrom\u001b[39;00m \u001b[38;5;21;01mexp\u001b[39;00m\n\u001b[1;32m--> 529\u001b[0m fun \u001b[38;5;241m=\u001b[39m \u001b[38;5;28;01mlambda\u001b[39;00m t, x, fun\u001b[38;5;241m=\u001b[39mfun: fun(t, x, \u001b[38;5;241m*\u001b[39margs)\n\u001b[0;32m    530\u001b[0m jac \u001b[38;5;241m=\u001b[39m options\u001b[38;5;241m.\u001b[39mget(\u001b[38;5;124m'\u001b[39m\u001b[38;5;124mjac\u001b[39m\u001b[38;5;124m'\u001b[39m)\n\u001b[0;32m    531\u001b[0m \u001b[38;5;28;01mif\u001b[39;00m \u001b[38;5;28mcallable\u001b[39m(jac):\n",
      "Cell \u001b[1;32mIn[4], line 5\u001b[0m, in \u001b[0;36mschrodinger\u001b[1;34m(t, psi, Omega_t, Delta)\u001b[0m\n\u001b[0;32m      3\u001b[0m psi1, psi2 \u001b[38;5;241m=\u001b[39m psi\n\u001b[0;32m      4\u001b[0m dpsi1_dt \u001b[38;5;241m=\u001b[39m \u001b[38;5;241m-\u001b[39m\u001b[38;5;241m1\u001b[39mj \u001b[38;5;241m*\u001b[39m (\u001b[38;5;241m-\u001b[39m\u001b[38;5;241m0.5\u001b[39m \u001b[38;5;241m*\u001b[39m Delta \u001b[38;5;241m*\u001b[39m psi1 \u001b[38;5;241m+\u001b[39m \u001b[38;5;241m0.5\u001b[39m \u001b[38;5;241m*\u001b[39m Omega_t(t) \u001b[38;5;241m*\u001b[39m psi2)\n\u001b[1;32m----> 5\u001b[0m dpsi2_dt \u001b[38;5;241m=\u001b[39m \u001b[38;5;241m-\u001b[39m\u001b[38;5;241m1\u001b[39mj \u001b[38;5;241m*\u001b[39m (\u001b[38;5;241m0.5\u001b[39m \u001b[38;5;241m*\u001b[39m Omega_t(t) \u001b[38;5;241m*\u001b[39m psi1 \u001b[38;5;241m+\u001b[39m \u001b[38;5;241m0.5\u001b[39m \u001b[38;5;241m*\u001b[39m Delta \u001b[38;5;241m*\u001b[39m psi2)\n\u001b[0;32m      6\u001b[0m \u001b[38;5;28;01mreturn\u001b[39;00m [dpsi1_dt, dpsi2_dt]\n",
      "Cell \u001b[1;32mIn[6], line 24\u001b[0m, in \u001b[0;36mloss.<locals>.<lambda>\u001b[1;34m(t)\u001b[0m\n\u001b[0;32m     22\u001b[0m v \u001b[38;5;241m=\u001b[39m []\n\u001b[0;32m     23\u001b[0m \u001b[38;5;28;01mfor\u001b[39;00m d \u001b[38;5;129;01min\u001b[39;00m d_range:\n\u001b[1;32m---> 24\u001b[0m     v\u001b[38;5;241m.\u001b[39mappend(calculate_probabilities(times, \u001b[38;5;28;01mlambda\u001b[39;00m t: Omega_t(t, multiplier \u001b[38;5;241m*\u001b[39m A, values), d, T))\n\u001b[0;32m     25\u001b[0m v \u001b[38;5;241m=\u001b[39m np\u001b[38;5;241m.\u001b[39marray(v)\n\u001b[0;32m     26\u001b[0m \u001b[38;5;66;03m# plt.plot(v)\u001b[39;00m\n\u001b[0;32m     27\u001b[0m \u001b[38;5;66;03m# plt.show()\u001b[39;00m\n",
      "Cell \u001b[1;32mIn[6], line 11\u001b[0m, in \u001b[0;36mloss.<locals>.Omega_t\u001b[1;34m(t, A, values)\u001b[0m\n\u001b[0;32m      9\u001b[0m \u001b[38;5;28;01mdef\u001b[39;00m \u001b[38;5;21mOmega_t\u001b[39m(t, A, values):\n\u001b[0;32m     10\u001b[0m     \u001b[38;5;28;01mif\u001b[39;00m \u001b[38;5;28misinstance\u001b[39m(t, \u001b[38;5;28mint\u001b[39m) \u001b[38;5;129;01mor\u001b[39;00m \u001b[38;5;28misinstance\u001b[39m(t, \u001b[38;5;28mfloat\u001b[39m):\n\u001b[1;32m---> 11\u001b[0m         time_idx \u001b[38;5;241m=\u001b[39m np\u001b[38;5;241m.\u001b[39margmin(\n\u001b[0;32m     12\u001b[0m             np\u001b[38;5;241m.\u001b[39mabs(times \u001b[38;5;241m-\u001b[39m t)\n\u001b[0;32m     13\u001b[0m         )\n\u001b[0;32m     14\u001b[0m     \u001b[38;5;28;01melif\u001b[39;00m \u001b[38;5;28misinstance\u001b[39m(t, np\u001b[38;5;241m.\u001b[39mndarray):\n\u001b[0;32m     15\u001b[0m         time_idx \u001b[38;5;241m=\u001b[39m np\u001b[38;5;241m.\u001b[39margmin(\n\u001b[0;32m     16\u001b[0m             np\u001b[38;5;241m.\u001b[39mabs(times[:, \u001b[38;5;28;01mNone\u001b[39;00m] \u001b[38;5;241m-\u001b[39m t[\u001b[38;5;28;01mNone\u001b[39;00m], axis\u001b[38;5;241m=\u001b[39m\u001b[38;5;241m0\u001b[39m)\n\u001b[0;32m     17\u001b[0m         )\n",
      "File \u001b[1;32m<__array_function__ internals>:180\u001b[0m, in \u001b[0;36margmin\u001b[1;34m(*args, **kwargs)\u001b[0m\n",
      "File \u001b[1;32mC:\\Miniconda3\\envs\\quantum\\Lib\\site-packages\\numpy\\core\\fromnumeric.py:1312\u001b[0m, in \u001b[0;36margmin\u001b[1;34m(a, axis, out, keepdims)\u001b[0m\n\u001b[0;32m   1225\u001b[0m \u001b[38;5;250m\u001b[39m\u001b[38;5;124;03m\"\"\"\u001b[39;00m\n\u001b[0;32m   1226\u001b[0m \u001b[38;5;124;03mReturns the indices of the minimum values along an axis.\u001b[39;00m\n\u001b[0;32m   1227\u001b[0m \n\u001b[1;32m   (...)\u001b[0m\n\u001b[0;32m   1309\u001b[0m \u001b[38;5;124;03m(2, 1, 4)\u001b[39;00m\n\u001b[0;32m   1310\u001b[0m \u001b[38;5;124;03m\"\"\"\u001b[39;00m\n\u001b[0;32m   1311\u001b[0m kwds \u001b[38;5;241m=\u001b[39m {\u001b[38;5;124m'\u001b[39m\u001b[38;5;124mkeepdims\u001b[39m\u001b[38;5;124m'\u001b[39m: keepdims} \u001b[38;5;28;01mif\u001b[39;00m keepdims \u001b[38;5;129;01mis\u001b[39;00m \u001b[38;5;129;01mnot\u001b[39;00m np\u001b[38;5;241m.\u001b[39m_NoValue \u001b[38;5;28;01melse\u001b[39;00m {}\n\u001b[1;32m-> 1312\u001b[0m \u001b[38;5;28;01mreturn\u001b[39;00m _wrapfunc(a, \u001b[38;5;124m'\u001b[39m\u001b[38;5;124margmin\u001b[39m\u001b[38;5;124m'\u001b[39m, axis\u001b[38;5;241m=\u001b[39maxis, out\u001b[38;5;241m=\u001b[39mout, \u001b[38;5;241m*\u001b[39m\u001b[38;5;241m*\u001b[39mkwds)\n",
      "File \u001b[1;32mC:\\Miniconda3\\envs\\quantum\\Lib\\site-packages\\numpy\\core\\fromnumeric.py:57\u001b[0m, in \u001b[0;36m_wrapfunc\u001b[1;34m(obj, method, *args, **kwds)\u001b[0m\n\u001b[0;32m     54\u001b[0m     \u001b[38;5;28;01mreturn\u001b[39;00m _wrapit(obj, method, \u001b[38;5;241m*\u001b[39margs, \u001b[38;5;241m*\u001b[39m\u001b[38;5;241m*\u001b[39mkwds)\n\u001b[0;32m     56\u001b[0m \u001b[38;5;28;01mtry\u001b[39;00m:\n\u001b[1;32m---> 57\u001b[0m     \u001b[38;5;28;01mreturn\u001b[39;00m bound(\u001b[38;5;241m*\u001b[39margs, \u001b[38;5;241m*\u001b[39m\u001b[38;5;241m*\u001b[39mkwds)\n\u001b[0;32m     58\u001b[0m \u001b[38;5;28;01mexcept\u001b[39;00m \u001b[38;5;167;01mTypeError\u001b[39;00m:\n\u001b[0;32m     59\u001b[0m     \u001b[38;5;66;03m# A TypeError occurs if the object does have such a method in its\u001b[39;00m\n\u001b[0;32m     60\u001b[0m     \u001b[38;5;66;03m# class, but its signature is not identical to that of NumPy's. This\u001b[39;00m\n\u001b[1;32m   (...)\u001b[0m\n\u001b[0;32m     64\u001b[0m     \u001b[38;5;66;03m# Call _wrapit from within the except clause to ensure a potential\u001b[39;00m\n\u001b[0;32m     65\u001b[0m     \u001b[38;5;66;03m# exception has a traceback chain.\u001b[39;00m\n\u001b[0;32m     66\u001b[0m     \u001b[38;5;28;01mreturn\u001b[39;00m _wrapit(obj, method, \u001b[38;5;241m*\u001b[39margs, \u001b[38;5;241m*\u001b[39m\u001b[38;5;241m*\u001b[39mkwds)\n",
      "\u001b[1;31mKeyboardInterrupt\u001b[0m: "
     ]
    }
   ],
   "source": [
    "for idx, guess in enumerate(initial_guesses[1:]):\n",
    "    # Create a list to store function values\n",
    "    function_values = []\n",
    "    last_record = []\n",
    "    parameters = []\n",
    "    result = minimize(\n",
    "        loss, guess, \n",
    "        args=(d_range, T, idx), \n",
    "        method=method,\n",
    "        options=options\n",
    "    )"
   ]
  },
  {
   "cell_type": "code",
   "execution_count": null,
   "id": "7995b2ff-e15b-46f8-9fe9-20c435b9d2cc",
   "metadata": {},
   "outputs": [],
   "source": [
    "# Reconstruct the final complex parameters from the result\n",
    "final_z = result.x[:len(result.x)//2] + 1j * result.x[len(result.x)//2:]# Print the final result\n",
    "print(\"Optimization Result:\")\n",
    "print(result)"
   ]
  },
  {
   "cell_type": "code",
   "execution_count": null,
   "id": "50db28eb-1645-4864-be60-c803d8d622f6",
   "metadata": {},
   "outputs": [],
   "source": [
    "import pickle\n",
    "import os\n",
    "def make_all_dirs(path):\n",
    "    folders = path.split(\"/\")\n",
    "    for i in range(2, len(folders) + 1):\n",
    "        folder = \"/\".join(folders[:i])\n",
    "        if not os.path.isdir(folder):\n",
    "            os.mkdir(folder)\n",
    "\n",
    "current_dir = os.getcwd()\n",
    "\n"
   ]
  },
  {
   "cell_type": "code",
   "execution_count": null,
   "id": "9b79f5a4-0fca-4d2f-baa7-8b18e678067f",
   "metadata": {},
   "outputs": [],
   "source": [
    "os.listdir(os.path.join(current_dir, \"pulse_optimisation\"))"
   ]
  },
  {
   "cell_type": "code",
   "execution_count": null,
   "id": "fcc19970-6c63-40c2-b1f4-00bbf0a31ca6",
   "metadata": {},
   "outputs": [],
   "source": [
    "with open(os.path.join(current_dir, \"pulse_optimisation\", \"losses_2024-07-28_003214_26000.pkl\"), \"rb\") as fr:\n",
    "    losses = np.array(pickle.load(fr))\n",
    "with open(os.path.join(current_dir, \"pulse_optimisation\", \"params_2024-07-28_003214_26000.pkl\"), \"rb\") as fr:\n",
    "    params = np.array(pickle.load(fr))"
   ]
  },
  {
   "cell_type": "code",
   "execution_count": null,
   "id": "6f649e0b-ccf1-4161-8eb2-09b500231bcc",
   "metadata": {},
   "outputs": [],
   "source": [
    "print(losses.argmin())"
   ]
  },
  {
   "cell_type": "code",
   "execution_count": null,
   "id": "27179555-f9bf-470d-9a43-fbc4aa8e3c4a",
   "metadata": {},
   "outputs": [],
   "source": [
    "print(params[8535])"
   ]
  },
  {
   "cell_type": "code",
   "execution_count": null,
   "id": "9d2ab288-81c5-4bc1-8ca2-27076c19ee68",
   "metadata": {},
   "outputs": [],
   "source": [
    "T = 1\n",
    "times = np.linspace(0, T, len(params[8535]))\n",
    "N, sigma = 1024, 10\n",
    "new_pulse = np.fft.ifft(params[8535])\n",
    "print(new_pulse)\n",
    "print(times)\n",
    "raw_area_new = np.sum(np.abs(new_pulse * np.diff(np.concatenate(([-0.09047900170632191 ], times)))))\n",
    "norm_factor_new = np.pi / raw_area_new\n",
    "lor = 1 / (1 + ((np.arange(N) - N/2) / sigma)**2) ** 0.5\n",
    "raw_area_old = np.sum(np.abs(lor * np.diff(np.concatenate(([-0.09047900170632191 ], times)))))\n",
    "norm_factor_old = np.pi / raw_area_old\n",
    "print(raw_area_old, raw_area_new, norm_factor_old, norm_factor_new)"
   ]
  },
  {
   "cell_type": "code",
   "execution_count": null,
   "id": "dcb06228-114e-4005-ac80-8d62e7c4748f",
   "metadata": {},
   "outputs": [],
   "source": [
    "def Omega_t(t, A, values):\n",
    "    if isinstance(t, int) or isinstance(t, float):\n",
    "        time_idx = np.argmin(\n",
    "            np.abs(times - t)\n",
    "        )\n",
    "    elif isinstance(t, np.ndarray):\n",
    "        time_idx = np.argmin(\n",
    "            np.abs(times[:, None] - t[None], axis=0)\n",
    "        )\n",
    "    return A * values[time_idx]\n",
    "    \n",
    "d_range = np.linspace(-10,10,101)\n",
    "A_range_old = np.linspace(0,10*norm_factor_old,100)\n",
    "A_range_new = np.linspace(0,10*norm_factor_new,100)\n",
    "\n",
    "tr_probs_new = []\n",
    "for A in A_range_new:\n",
    "    profile = []\n",
    "    for d in d_range:\n",
    "        profile.append(calculate_probabilities(_, lambda t: Omega_t(t, A, np.fft.ifft(params[8535])), d, T))\n",
    "    tr_probs_new.append(profile)\n",
    "\n",
    "\n",
    "tr_probs_old = []\n",
    "for A in A_range_old:\n",
    "    profile = []\n",
    "    for d in d_range:\n",
    "        profile.append(calculate_probabilities(_, lambda t: Omega_t(t, A, lor), d, T))\n",
    "    tr_probs_old.append(profile)"
   ]
  },
  {
   "cell_type": "code",
   "execution_count": null,
   "id": "add55039-bdce-4d97-b32f-9065ff3df0a6",
   "metadata": {},
   "outputs": [],
   "source": [
    "import matplotlib\n",
    "tr_probs_new = np.array(tr_probs_new)\n",
    "tr_probs_old = np.array(tr_probs_old)\n",
    "\n",
    "fig1, ax1 = plt.subplots(1,1)\n",
    "cmap = matplotlib.colormaps[\"cividis\"]  # Choose a colormap\n",
    "im = ax1.pcolormesh(d_range, A_range_new, tr_probs_new, vmin=0, vmax=1, cmap=cmap)\n",
    "fig1.colorbar(im, ax=ax1, label='Transition Probability')\n",
    "ax1.set_ylabel('Rabi Frequency (1/T)')\n",
    "ax1.set_xlabel('Detuning (1/T)')\n",
    "ax1.set_title('Transition Probability for New Shaped Pulse')\n",
    "\n",
    "fig2, ax2 = plt.subplots(1,1)\n",
    "cmap = matplotlib.colormaps[\"cividis\"]  # Choose a colormap\n",
    "im = ax2.pcolormesh(d_range, A_range_old, tr_probs_old, vmin=0, vmax=1, cmap=cmap)\n",
    "fig2.colorbar(im, ax=ax2, label='Transition Probability')\n",
    "ax2.set_ylabel('Rabi Frequency (1/T)')\n",
    "ax2.set_xlabel('Detuning (1/T)')\n",
    "ax2.set_title('Transition Probability for Lor$^{1/2}$ Pulse')\n",
    "plt.show()"
   ]
  },
  {
   "cell_type": "code",
   "execution_count": null,
   "id": "292b89d0-e09e-460c-b553-f60417201643",
   "metadata": {},
   "outputs": [],
   "source": [
    "# plt.plot(times, params[8535])\n",
    "plt.plot(times, np.fft.ifft(params[8535]))"
   ]
  },
  {
   "cell_type": "code",
   "execution_count": null,
   "id": "06b7e5c0-28dd-4d26-b64a-adfc86cc922e",
   "metadata": {},
   "outputs": [],
   "source": []
  }
 ],
 "metadata": {
  "kernelspec": {
   "display_name": "Python 3 (ipykernel)",
   "language": "python",
   "name": "python3"
  },
  "language_info": {
   "codemirror_mode": {
    "name": "ipython",
    "version": 3
   },
   "file_extension": ".py",
   "mimetype": "text/x-python",
   "name": "python",
   "nbconvert_exporter": "python",
   "pygments_lexer": "ipython3",
   "version": "3.11.2"
  }
 },
 "nbformat": 4,
 "nbformat_minor": 5
}
